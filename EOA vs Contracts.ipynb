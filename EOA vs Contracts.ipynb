{
 "cells": [
  {
   "cell_type": "code",
   "execution_count": 1,
   "id": "3819db21-b712-42bb-b4e8-8e8c260d4884",
   "metadata": {},
   "outputs": [],
   "source": [
    "import json\n",
    "from utils.gho_filter import filter_gho_users\n",
    "\n",
    "with open('results.json', 'r') as fp:\n",
    "    res = json.load(fp)\n",
    "data = []\n",
    "for entry in res:\n",
    "    data += entry['data']['users']\n",
    "\n",
    "gho_users = set(filter_gho_users(data))"
   ]
  },
  {
   "cell_type": "code",
   "execution_count": 3,
   "id": "f2f933a6-c6e7-4f02-9198-366740a01d8e",
   "metadata": {},
   "outputs": [
    {
     "name": "stderr",
     "output_type": "stream",
     "text": [
      "100%|██████████████████████████████████████████████████████████████████████████████| 115/115 [00:25<00:00,  4.56it/s]"
     ]
    },
    {
     "name": "stdout",
     "output_type": "stream",
     "text": [
      "EOAs: 2176\n",
      "Contracts: 121\n"
     ]
    },
    {
     "name": "stderr",
     "output_type": "stream",
     "text": [
      "\n"
     ]
    }
   ],
   "source": [
    "import asyncio\n",
    "import os\n",
    "from web3 import Web3\n",
    "import concurrent\n",
    "from tqdm import tqdm\n",
    "\n",
    "provider = os.environ.get('WEB3_PROVIDER_URL')\n",
    "w3 = Web3(Web3.HTTPProvider(provider))\n",
    "\n",
    "def check_address_type(address):\n",
    "    code = w3.eth.get_code(Web3.to_checksum_address(address))\n",
    "    return address, len(code) > 0\n",
    "\n",
    "def process_batch(addresses):\n",
    "    return [check_address_type(addr) for addr in addresses]\n",
    "\n",
    "def parallel_address_check(addresses, batch_size=20):\n",
    "    eoa_count = 0\n",
    "    contract_count = 0\n",
    "    results = []\n",
    "\n",
    "    with concurrent.futures.ThreadPoolExecutor() as executor:\n",
    "        batches = [addresses[i:i + batch_size] for i in range(0, len(addresses), batch_size)]\n",
    "        futures = [executor.submit(process_batch, batch) for batch in batches]\n",
    "\n",
    "        for future in tqdm(concurrent.futures.as_completed(futures), total=len(futures)):\n",
    "            batch_results = future.result()\n",
    "            for address, is_contract in batch_results:\n",
    "                if is_contract:\n",
    "                    contract_count += 1\n",
    "                else:\n",
    "                    eoa_count += 1\n",
    "                results.append((address, 'Contract' if is_contract else 'EOA'))\n",
    "\n",
    "    return results, eoa_count, contract_count\n",
    "\n",
    "results, eoa_count, contract_count = parallel_address_check(list(set(gho_users)))\n",
    "\n",
    "print(f\"EOAs: {eoa_count}\")\n",
    "print(f\"Contracts: {contract_count}\")"
   ]
  },
  {
   "cell_type": "code",
   "execution_count": 4,
   "id": "fcb33886-e96e-4299-aee9-1c4568b7db22",
   "metadata": {},
   "outputs": [
    {
     "data": {
      "text/plain": [
       "5.560661764705882"
      ]
     },
     "execution_count": 4,
     "metadata": {},
     "output_type": "execute_result"
    }
   ],
   "source": [
    "121 / 2176 * 100"
   ]
  }
 ],
 "metadata": {
  "kernelspec": {
   "display_name": "Python (boaenv)",
   "language": "python",
   "name": "boaenv"
  },
  "language_info": {
   "codemirror_mode": {
    "name": "ipython",
    "version": 3
   },
   "file_extension": ".py",
   "mimetype": "text/x-python",
   "name": "python",
   "nbconvert_exporter": "python",
   "pygments_lexer": "ipython3",
   "version": "3.10.13"
  }
 },
 "nbformat": 4,
 "nbformat_minor": 5
}
