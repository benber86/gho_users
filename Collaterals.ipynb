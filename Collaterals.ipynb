{
 "cells": [
  {
   "cell_type": "code",
   "execution_count": 1,
   "id": "f229e6d6-f5b0-47a9-870e-1a2a7b4de12b",
   "metadata": {},
   "outputs": [],
   "source": [
    "import json\n",
    "from utils.gho_filter import filter_gho_users\n",
    "\n",
    "with open('results.json', 'r') as fp:\n",
    "    res = json.load(fp)\n",
    "data = []\n",
    "for entry in res:\n",
    "    data += entry['data']['users']\n",
    "\n",
    "gho_users = set(filter_gho_users(data))"
   ]
  },
  {
   "cell_type": "code",
   "execution_count": 5,
   "id": "37ef5f51-a459-4b67-9fec-ef3941db1954",
   "metadata": {},
   "outputs": [],
   "source": [
    "def get_collats(history):\n",
    "    return list(set([entry['reserve']['symbol'] for entry in history]))\n",
    "\n",
    "collaterals = []\n",
    "for entry in data:\n",
    "    if entry['id'] in gho_users:\n",
    "        collaterals += get_collats(entry['supplyHistory'])"
   ]
  },
  {
   "cell_type": "markdown",
   "id": "7b895d29-7904-47f1-8398-965c67998eb6",
   "metadata": {},
   "source": [
    "# GHO users"
   ]
  },
  {
   "cell_type": "code",
   "execution_count": 13,
   "id": "021cf985-bc78-40d8-81a7-48550876c007",
   "metadata": {},
   "outputs": [
    {
     "data": {
      "text/plain": [
       "WETH      25.924590\n",
       "wstETH    13.187804\n",
       "WBTC      12.375970\n",
       "USDC      12.285766\n",
       "AAVE       6.675086\n",
       "USDT       6.061699\n",
       "LINK       5.899332\n",
       "DAI        4.600397\n",
       "rETH       3.572073\n",
       "sDAI       1.695833\n",
       "cbETH      1.280895\n",
       "CRV        0.865957\n",
       "LUSD       0.757712\n",
       "UNI        0.667509\n",
       "MKR        0.631427\n",
       "SNX        0.577305\n",
       "crvUSD     0.414938\n",
       "           0.360815\n",
       "RPL        0.342775\n",
       "LDO        0.324734\n",
       "BAL        0.288652\n",
       "ENS        0.234530\n",
       "USDe       0.180408\n",
       "FRAX       0.180408\n",
       "ETHx       0.126285\n",
       "1INCH      0.108245\n",
       "PYUSD      0.108245\n",
       "osETH      0.072163\n",
       "weETH      0.072163\n",
       "sUSDe      0.054122\n",
       "KNC        0.054122\n",
       "FXS        0.018041\n",
       "dtype: float64"
      ]
     },
     "execution_count": 13,
     "metadata": {},
     "output_type": "execute_result"
    }
   ],
   "source": [
    "import pandas as pd\n",
    "pd.Series(collaterals).value_counts() / sum(pd.Series(collaterals).value_counts()) * 100"
   ]
  },
  {
   "cell_type": "markdown",
   "id": "53121fa8-883d-46e2-9dfa-25c411dd118e",
   "metadata": {},
   "source": [
    "# Liquidated GHO users"
   ]
  },
  {
   "cell_type": "code",
   "execution_count": 16,
   "id": "0626d82a-d640-4aec-a43a-fece62db6c2f",
   "metadata": {},
   "outputs": [
    {
     "data": {
      "text/plain": [
       "152"
      ]
     },
     "execution_count": 16,
     "metadata": {},
     "output_type": "execute_result"
    }
   ],
   "source": [
    "def is_gho_liq(history):\n",
    "    return any([entry for entry in history if entry['principalReserve']['symbol'] == \"GHO\"])\n",
    "\n",
    "gho_liqs = [d for d in data if is_gho_liq(d['liquidationCallHistory'])]\n",
    "len(gho_liqs)"
   ]
  },
  {
   "cell_type": "code",
   "execution_count": 20,
   "id": "8363889d-c0d6-4e6c-8cdb-b1a868ac5f20",
   "metadata": {},
   "outputs": [],
   "source": [
    "def get_collats(history):\n",
    "    return list(set([entry['reserve']['symbol'] for entry in history]))\n",
    "\n",
    "gho_liq_collaterals = []\n",
    "for entry in gho_liqs:\n",
    "    gho_liq_collaterals += get_collats(entry['supplyHistory'])"
   ]
  },
  {
   "cell_type": "code",
   "execution_count": 21,
   "id": "e8c45f45-940b-4d36-9630-7d84df983231",
   "metadata": {},
   "outputs": [
    {
     "data": {
      "text/plain": [
       "WETH      26.730310\n",
       "wstETH    13.126492\n",
       "WBTC      10.739857\n",
       "USDC       9.069212\n",
       "LINK       8.830549\n",
       "AAVE       8.591885\n",
       "USDT       5.727924\n",
       "DAI        4.057279\n",
       "rETH       2.863962\n",
       "cbETH      2.147971\n",
       "CRV        1.193317\n",
       "MKR        1.193317\n",
       "sDAI       0.954654\n",
       "SNX        0.715990\n",
       "LUSD       0.715990\n",
       "BAL        0.715990\n",
       "ETHx       0.477327\n",
       "RPL        0.477327\n",
       "           0.477327\n",
       "osETH      0.238663\n",
       "LDO        0.238663\n",
       "FRAX       0.238663\n",
       "crvUSD     0.238663\n",
       "USDe       0.238663\n",
       "dtype: float64"
      ]
     },
     "execution_count": 21,
     "metadata": {},
     "output_type": "execute_result"
    }
   ],
   "source": [
    "pd.Series(gho_liq_collaterals).value_counts() / sum(pd.Series(gho_liq_collaterals).value_counts()) * 100"
   ]
  },
  {
   "cell_type": "markdown",
   "id": "213d6eef-84c1-453f-8123-67270cf5fd2b",
   "metadata": {},
   "source": [
    "# V3 Users (non GHO)"
   ]
  },
  {
   "cell_type": "code",
   "execution_count": 8,
   "id": "f9b7006d-50a7-4c80-b8f3-401aefe8fee7",
   "metadata": {},
   "outputs": [],
   "source": [
    "non_gho_collaterals = []\n",
    "for entry in data:\n",
    "    if entry['id'] not in gho_users:\n",
    "        non_gho_collaterals += get_collats(entry['supplyHistory'])"
   ]
  },
  {
   "cell_type": "code",
   "execution_count": 12,
   "id": "e92bffe6-1ed4-4dd4-9183-11e339b78b8f",
   "metadata": {},
   "outputs": [
    {
     "data": {
      "text/plain": [
       "WETH      38.714968\n",
       "USDC      15.069983\n",
       "USDT      10.862858\n",
       "WBTC       9.882116\n",
       "wstETH     6.509596\n",
       "DAI        4.996265\n",
       "LINK       3.695645\n",
       "AAVE       2.279739\n",
       "rETH       1.430520\n",
       "CRV        0.821615\n",
       "cbETH      0.626766\n",
       "UNI        0.545579\n",
       "MKR        0.539084\n",
       "LDO        0.474134\n",
       "sDAI       0.464391\n",
       "SNX        0.384828\n",
       "LUSD       0.378333\n",
       "crvUSD     0.319878\n",
       "BAL        0.297145\n",
       "           0.282532\n",
       "USDe       0.276037\n",
       "RPL        0.246809\n",
       "1INCH      0.151008\n",
       "ENS        0.141266\n",
       "FRAX       0.123405\n",
       "weETH      0.115286\n",
       "PYUSD      0.110415\n",
       "sUSDe      0.089306\n",
       "FXS        0.045465\n",
       "KNC        0.038970\n",
       "ETHx       0.037346\n",
       "osETH      0.025980\n",
       "STG        0.022732\n",
       "dtype: float64"
      ]
     },
     "execution_count": 12,
     "metadata": {},
     "output_type": "execute_result"
    }
   ],
   "source": [
    "pd.Series(non_gho_collaterals).value_counts() / sum(pd.Series(non_gho_collaterals).value_counts()) * 100"
   ]
  },
  {
   "cell_type": "code",
   "execution_count": null,
   "id": "8ce1fd4e-26c7-4bb5-a646-93ca8b436924",
   "metadata": {},
   "outputs": [],
   "source": []
  }
 ],
 "metadata": {
  "kernelspec": {
   "display_name": "Python (boaenv)",
   "language": "python",
   "name": "boaenv"
  },
  "language_info": {
   "codemirror_mode": {
    "name": "ipython",
    "version": 3
   },
   "file_extension": ".py",
   "mimetype": "text/x-python",
   "name": "python",
   "nbconvert_exporter": "python",
   "pygments_lexer": "ipython3",
   "version": "3.10.13"
  }
 },
 "nbformat": 4,
 "nbformat_minor": 5
}
