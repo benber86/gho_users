{
 "cells": [
  {
   "cell_type": "code",
   "execution_count": 2,
   "id": "f229e6d6-f5b0-47a9-870e-1a2a7b4de12b",
   "metadata": {},
   "outputs": [],
   "source": [
    "import json\n",
    "from utils.gho_filter import filter_gho_users\n",
    "\n",
    "with open('results.json', 'r') as fp:\n",
    "    res = json.load(fp)\n",
    "data = []\n",
    "for entry in res:\n",
    "    data += entry['data']['users']\n",
    "\n",
    "gho_users = set(filter_gho_users(data))"
   ]
  },
  {
   "cell_type": "code",
   "execution_count": 4,
   "id": "37ef5f51-a459-4b67-9fec-ef3941db1954",
   "metadata": {},
   "outputs": [],
   "source": [
    "def get_collats(history):\n",
    "    return list(set([entry['reserve']['symbol'] for entry in history]))\n",
    "\n",
    "collaterals = []\n",
    "for entry in data:\n",
    "    if entry['id'] in gho_users:\n",
    "        collaterals += get_collats(entry['supplyHistory'])"
   ]
  },
  {
   "cell_type": "markdown",
   "id": "7b895d29-7904-47f1-8398-965c67998eb6",
   "metadata": {},
   "source": [
    "# GHO users"
   ]
  },
  {
   "cell_type": "code",
   "execution_count": 13,
   "id": "021cf985-bc78-40d8-81a7-48550876c007",
   "metadata": {},
   "outputs": [
    {
     "data": {
      "text/plain": [
       "WETH      25.924590\n",
       "wstETH    13.187804\n",
       "WBTC      12.375970\n",
       "USDC      12.285766\n",
       "AAVE       6.675086\n",
       "USDT       6.061699\n",
       "LINK       5.899332\n",
       "DAI        4.600397\n",
       "rETH       3.572073\n",
       "sDAI       1.695833\n",
       "cbETH      1.280895\n",
       "CRV        0.865957\n",
       "LUSD       0.757712\n",
       "UNI        0.667509\n",
       "MKR        0.631427\n",
       "SNX        0.577305\n",
       "crvUSD     0.414938\n",
       "           0.360815\n",
       "RPL        0.342775\n",
       "LDO        0.324734\n",
       "BAL        0.288652\n",
       "ENS        0.234530\n",
       "USDe       0.180408\n",
       "FRAX       0.180408\n",
       "ETHx       0.126285\n",
       "1INCH      0.108245\n",
       "PYUSD      0.108245\n",
       "osETH      0.072163\n",
       "weETH      0.072163\n",
       "sUSDe      0.054122\n",
       "KNC        0.054122\n",
       "FXS        0.018041\n",
       "dtype: float64"
      ]
     },
     "execution_count": 13,
     "metadata": {},
     "output_type": "execute_result"
    }
   ],
   "source": [
    "import pandas as pd\n",
    "pd.Series(collaterals).value_counts() / sum(pd.Series(collaterals).value_counts()) * 100"
   ]
  },
  {
   "cell_type": "markdown",
   "id": "53121fa8-883d-46e2-9dfa-25c411dd118e",
   "metadata": {},
   "source": [
    "# Liquidated GHO users"
   ]
  },
  {
   "cell_type": "code",
   "execution_count": 16,
   "id": "0626d82a-d640-4aec-a43a-fece62db6c2f",
   "metadata": {},
   "outputs": [
    {
     "data": {
      "text/plain": [
       "152"
      ]
     },
     "execution_count": 16,
     "metadata": {},
     "output_type": "execute_result"
    }
   ],
   "source": [
    "def is_gho_liq(history):\n",
    "    return any([entry for entry in history if entry['principalReserve']['symbol'] == \"GHO\"])\n",
    "\n",
    "gho_liqs = [d for d in data if is_gho_liq(d['liquidationCallHistory'])]\n",
    "len(gho_liqs)"
   ]
  },
  {
   "cell_type": "code",
   "execution_count": 20,
   "id": "8363889d-c0d6-4e6c-8cdb-b1a868ac5f20",
   "metadata": {},
   "outputs": [],
   "source": [
    "def get_collats(history):\n",
    "    return list(set([entry['reserve']['symbol'] for entry in history]))\n",
    "\n",
    "gho_liq_collaterals = []\n",
    "for entry in gho_liqs:\n",
    "    gho_liq_collaterals += get_collats(entry['supplyHistory'])"
   ]
  },
  {
   "cell_type": "code",
   "execution_count": 21,
   "id": "e8c45f45-940b-4d36-9630-7d84df983231",
   "metadata": {},
   "outputs": [
    {
     "data": {
      "text/plain": [
       "WETH      26.730310\n",
       "wstETH    13.126492\n",
       "WBTC      10.739857\n",
       "USDC       9.069212\n",
       "LINK       8.830549\n",
       "AAVE       8.591885\n",
       "USDT       5.727924\n",
       "DAI        4.057279\n",
       "rETH       2.863962\n",
       "cbETH      2.147971\n",
       "CRV        1.193317\n",
       "MKR        1.193317\n",
       "sDAI       0.954654\n",
       "SNX        0.715990\n",
       "LUSD       0.715990\n",
       "BAL        0.715990\n",
       "ETHx       0.477327\n",
       "RPL        0.477327\n",
       "           0.477327\n",
       "osETH      0.238663\n",
       "LDO        0.238663\n",
       "FRAX       0.238663\n",
       "crvUSD     0.238663\n",
       "USDe       0.238663\n",
       "dtype: float64"
      ]
     },
     "execution_count": 21,
     "metadata": {},
     "output_type": "execute_result"
    }
   ],
   "source": [
    "pd.Series(gho_liq_collaterals).value_counts() / sum(pd.Series(gho_liq_collaterals).value_counts()) * 100"
   ]
  },
  {
   "cell_type": "markdown",
   "id": "213d6eef-84c1-453f-8123-67270cf5fd2b",
   "metadata": {},
   "source": [
    "# V3 Users (non GHO)"
   ]
  },
  {
   "cell_type": "code",
   "execution_count": 8,
   "id": "f9b7006d-50a7-4c80-b8f3-401aefe8fee7",
   "metadata": {},
   "outputs": [],
   "source": [
    "non_gho_collaterals = []\n",
    "for entry in data:\n",
    "    if entry['id'] not in gho_users:\n",
    "        non_gho_collaterals += get_collats(entry['supplyHistory'])"
   ]
  },
  {
   "cell_type": "code",
   "execution_count": 12,
   "id": "e92bffe6-1ed4-4dd4-9183-11e339b78b8f",
   "metadata": {},
   "outputs": [
    {
     "data": {
      "text/plain": [
       "WETH      38.714968\n",
       "USDC      15.069983\n",
       "USDT      10.862858\n",
       "WBTC       9.882116\n",
       "wstETH     6.509596\n",
       "DAI        4.996265\n",
       "LINK       3.695645\n",
       "AAVE       2.279739\n",
       "rETH       1.430520\n",
       "CRV        0.821615\n",
       "cbETH      0.626766\n",
       "UNI        0.545579\n",
       "MKR        0.539084\n",
       "LDO        0.474134\n",
       "sDAI       0.464391\n",
       "SNX        0.384828\n",
       "LUSD       0.378333\n",
       "crvUSD     0.319878\n",
       "BAL        0.297145\n",
       "           0.282532\n",
       "USDe       0.276037\n",
       "RPL        0.246809\n",
       "1INCH      0.151008\n",
       "ENS        0.141266\n",
       "FRAX       0.123405\n",
       "weETH      0.115286\n",
       "PYUSD      0.110415\n",
       "sUSDe      0.089306\n",
       "FXS        0.045465\n",
       "KNC        0.038970\n",
       "ETHx       0.037346\n",
       "osETH      0.025980\n",
       "STG        0.022732\n",
       "dtype: float64"
      ]
     },
     "execution_count": 12,
     "metadata": {},
     "output_type": "execute_result"
    }
   ],
   "source": [
    "pd.Series(non_gho_collaterals).value_counts() / sum(pd.Series(non_gho_collaterals).value_counts()) * 100"
   ]
  },
  {
   "cell_type": "markdown",
   "id": "b84db4db-a1a4-43a1-934c-5bdf71430b9c",
   "metadata": {},
   "source": [
    "# V3 Borrowers (non GHO)"
   ]
  },
  {
   "cell_type": "code",
   "execution_count": 9,
   "id": "8ce1fd4e-26c7-4bb5-a646-93ca8b436924",
   "metadata": {},
   "outputs": [],
   "source": [
    "non_gho_bor_collaterals = []\n",
    "for entry in data:\n",
    "    if entry['id'] not in gho_users and entry['borrowHistory']:\n",
    "        non_gho_bor_collaterals += get_collats(entry['supplyHistory'])"
   ]
  },
  {
   "cell_type": "code",
   "execution_count": 14,
   "id": "4c2700c3-b2ed-4da1-9789-c30157d2d71e",
   "metadata": {
    "scrolled": true
   },
   "outputs": [
    {
     "data": {
      "text/plain": [
       "{'WETH': 37.129972247918595,\n",
       " 'WBTC': 15.364824236817762,\n",
       " 'wstETH': 10.343432007400555,\n",
       " 'USDC': 9.664084181313598,\n",
       " 'USDT': 5.764338575393155,\n",
       " 'LINK': 5.657377428307123,\n",
       " 'DAI': 4.3825161887141535,\n",
       " 'AAVE': 2.8301341350601295}"
      ]
     },
     "execution_count": 14,
     "metadata": {},
     "output_type": "execute_result"
    }
   ],
   "source": [
    "(pd.Series(non_gho_bor_collaterals).value_counts() / sum(pd.Series(non_gho_bor_collaterals).value_counts()) * 100)[:8].to_dict()"
   ]
  },
  {
   "cell_type": "code",
   "execution_count": 15,
   "id": "ec3e1fad-0431-4932-8586-d08be42969b4",
   "metadata": {},
   "outputs": [
    {
     "data": {
      "text/plain": [
       "91.13667900092507"
      ]
     },
     "execution_count": 15,
     "metadata": {},
     "output_type": "execute_result"
    }
   ],
   "source": [
    "sum(_.values())"
   ]
  },
  {
   "cell_type": "code",
   "execution_count": 19,
   "id": "c108b64f-1316-4246-9e89-d82f54f0eeff",
   "metadata": {},
   "outputs": [
    {
     "name": "stdout",
     "output_type": "stream",
     "text": [
      "DAI\n",
      "{'WETH': 28.99237933954276, 'WBTC': 15.867908552074514, 'wstETH': 10.719729043183742, 'USDC': 8.399661303979679, 'DAI': 7.3835732430143945, 'LINK': 6.452159187129551, 'USDT': 5.707027942421677, 'AAVE': 3.6917866215071973}\n",
      "****************************************\n",
      "crvUSD\n",
      "{'WETH': 20.273348519362187, 'WBTC': 17.084282460136674, 'wstETH': 12.072892938496583, 'USDC': 10.478359908883828, 'USDT': 6.605922551252847, 'AAVE': 6.605922551252847, 'rETH': 4.783599088838269, 'LINK': 4.100227790432802}\n",
      "****************************************\n",
      "USDC\n",
      "{'WETH': 35.33340182882975, 'WBTC': 16.783109010582553, 'wstETH': 11.060310284598787, 'USDC': 9.878762971334634, 'LINK': 6.621802116510839, 'USDT': 4.114866947498202, 'DAI': 3.570327750950375, 'AAVE': 3.544641939792459}\n",
      "****************************************\n",
      "USDT\n",
      "{'WETH': 35.8081545546445, 'WBTC': 18.594855666629226, 'wstETH': 9.698977872627204, 'USDT': 7.143659440637987, 'USDC': 6.879703470740201, 'LINK': 6.778613950353813, 'AAVE': 4.066045153319106, 'DAI': 2.5609345164551276}\n",
      "****************************************\n",
      "WETH\n",
      "{'WETH': 25.95036129437637, 'USDC': 14.116661430516283, 'wstETH': 13.613990993821343, 'WBTC': 12.765734631898628, 'USDT': 7.927531678709812, 'DAI': 7.0688030160226205, 'LINK': 4.094669598910881, 'AAVE': 2.9217719132893496}\n",
      "****************************************\n",
      "WBTC\n",
      "{'WETH': 25.748502994011975, 'WBTC': 18.293413173652695, 'USDC': 15.239520958083833, 'USDT': 9.880239520958083, 'wstETH': 8.1437125748503, 'DAI': 5.748502994011976, 'LINK': 4.07185628742515, 'AAVE': 2.7245508982035926}\n",
      "****************************************\n",
      "GHO\n",
      "{'WETH': 25.9245895724337, 'wstETH': 13.187804438029948, 'WBTC': 12.375969691502796, 'USDC': 12.285765830777558, 'AAVE': 6.675085693667689, 'USDT': 6.061699440736064, 'LINK': 5.899332491430633, 'DAI': 4.600396896987191}\n",
      "****************************************\n",
      "LUSD\n",
      "{'WETH': 21.4527027027027, 'WBTC': 13.344594594594595, 'wstETH': 11.402027027027026, 'USDC': 10.81081081081081, 'DAI': 6.587837837837837, 'USDT': 6.503378378378379, 'LINK': 5.827702702702703, 'rETH': 5.405405405405405}\n",
      "****************************************\n",
      "LINK\n",
      "{'WETH': 25.920360631104433, 'LINK': 16.9045830202855, 'USDC': 12.622088655146507, 'WBTC': 11.119459053343352, 'USDT': 9.241172051089407, 'wstETH': 6.08564988730278, 'AAVE': 5.634861006761834, 'DAI': 4.7332832456799405}\n",
      "****************************************\n",
      "CRV\n",
      "{'WETH': 21.023765996343695, 'USDC': 17.184643510054844, 'WBTC': 10.603290676416819, 'wstETH': 9.323583180987203, 'USDT': 9.140767824497258, 'DAI': 7.861060329067642, 'CRV': 3.2906764168190126, 'rETH': 2.9250457038391224}\n",
      "****************************************\n"
     ]
    },
    {
     "data": {
      "text/plain": [
       "{'All v3 Borrowers (excl. GHO)': {'WETH': 37.129972247918595,\n",
       "  'WBTC': 15.364824236817762,\n",
       "  'wstETH': 10.343432007400555,\n",
       "  'USDC': 9.664084181313598,\n",
       "  'USDT': 5.764338575393155,\n",
       "  'LINK': 5.657377428307123,\n",
       "  'DAI': 4.3825161887141535,\n",
       "  'AAVE': 2.8301341350601295,\n",
       "  'Others': 8.86332099907493},\n",
       " 'DAI Borrowers': {'WETH': 28.99237933954276,\n",
       "  'WBTC': 15.867908552074514,\n",
       "  'wstETH': 10.719729043183742,\n",
       "  'USDC': 8.399661303979679,\n",
       "  'DAI': 7.3835732430143945,\n",
       "  'LINK': 6.452159187129551,\n",
       "  'USDT': 5.707027942421677,\n",
       "  'AAVE': 3.6917866215071973,\n",
       "  'Others': 12.785774767146492},\n",
       " 'crvUSD Borrowers': {'WETH': 20.273348519362187,\n",
       "  'WBTC': 17.084282460136674,\n",
       "  'wstETH': 12.072892938496583,\n",
       "  'USDC': 10.478359908883828,\n",
       "  'USDT': 6.605922551252847,\n",
       "  'AAVE': 6.605922551252847,\n",
       "  'LINK': 4.100227790432802,\n",
       "  'Others': 22.779043280182236},\n",
       " 'USDC Borrowers': {'WETH': 35.33340182882975,\n",
       "  'WBTC': 16.783109010582553,\n",
       "  'wstETH': 11.060310284598787,\n",
       "  'USDC': 9.878762971334634,\n",
       "  'LINK': 6.621802116510839,\n",
       "  'USDT': 4.114866947498202,\n",
       "  'DAI': 3.570327750950375,\n",
       "  'AAVE': 3.544641939792459,\n",
       "  'Others': 9.092777149902417},\n",
       " 'USDT Borrowers': {'WETH': 35.8081545546445,\n",
       "  'WBTC': 18.594855666629226,\n",
       "  'wstETH': 9.698977872627204,\n",
       "  'USDT': 7.143659440637987,\n",
       "  'USDC': 6.879703470740201,\n",
       "  'LINK': 6.778613950353813,\n",
       "  'AAVE': 4.066045153319106,\n",
       "  'DAI': 2.5609345164551276,\n",
       "  'Others': 8.469055374592827},\n",
       " 'WETH Borrowers': {'WETH': 25.95036129437637,\n",
       "  'USDC': 14.116661430516283,\n",
       "  'wstETH': 13.613990993821343,\n",
       "  'WBTC': 12.765734631898628,\n",
       "  'USDT': 7.927531678709812,\n",
       "  'DAI': 7.0688030160226205,\n",
       "  'LINK': 4.094669598910881,\n",
       "  'AAVE': 2.9217719132893496,\n",
       "  'Others': 11.54047544245472},\n",
       " 'WBTC Borrowers': {'WETH': 25.748502994011975,\n",
       "  'WBTC': 18.293413173652695,\n",
       "  'USDC': 15.239520958083833,\n",
       "  'USDT': 9.880239520958083,\n",
       "  'wstETH': 8.1437125748503,\n",
       "  'DAI': 5.748502994011976,\n",
       "  'LINK': 4.07185628742515,\n",
       "  'AAVE': 2.7245508982035926,\n",
       "  'Others': 10.149700598802411},\n",
       " 'GHO Borrowers': {'WETH': 25.9245895724337,\n",
       "  'wstETH': 13.187804438029948,\n",
       "  'WBTC': 12.375969691502796,\n",
       "  'USDC': 12.285765830777558,\n",
       "  'AAVE': 6.675085693667689,\n",
       "  'USDT': 6.061699440736064,\n",
       "  'LINK': 5.899332491430633,\n",
       "  'DAI': 4.600396896987191,\n",
       "  'Others': 12.989355944434436},\n",
       " 'LUSD Borrowers': {'WETH': 21.4527027027027,\n",
       "  'WBTC': 13.344594594594595,\n",
       "  'wstETH': 11.402027027027026,\n",
       "  'USDC': 10.81081081081081,\n",
       "  'DAI': 6.587837837837837,\n",
       "  'USDT': 6.503378378378379,\n",
       "  'LINK': 5.827702702702703,\n",
       "  'Others': 24.070945945945937},\n",
       " 'LINK Borrowers': {'WETH': 25.920360631104433,\n",
       "  'LINK': 16.9045830202855,\n",
       "  'USDC': 12.622088655146507,\n",
       "  'WBTC': 11.119459053343352,\n",
       "  'USDT': 9.241172051089407,\n",
       "  'wstETH': 6.08564988730278,\n",
       "  'AAVE': 5.634861006761834,\n",
       "  'DAI': 4.7332832456799405,\n",
       "  'Others': 7.738542449286243},\n",
       " 'CRV Borrowers': {'WETH': 21.023765996343695,\n",
       "  'USDC': 17.184643510054844,\n",
       "  'WBTC': 10.603290676416819,\n",
       "  'wstETH': 9.323583180987203,\n",
       "  'USDT': 9.140767824497258,\n",
       "  'DAI': 7.861060329067642,\n",
       "  'Others': 24.862888482632542}}"
      ]
     },
     "execution_count": 19,
     "metadata": {},
     "output_type": "execute_result"
    }
   ],
   "source": [
    "res = {}\n",
    "res['All v3 Borrowers (excl. GHO)'] = {'WETH': 37.129972247918595,\n",
    " 'WBTC': 15.364824236817762,\n",
    " 'wstETH': 10.343432007400555,\n",
    " 'USDC': 9.664084181313598,\n",
    " 'USDT': 5.764338575393155,\n",
    " 'LINK': 5.657377428307123,\n",
    " 'DAI': 4.3825161887141535,\n",
    " 'AAVE': 2.8301341350601295,\n",
    "  'Others': 100 - 91.13667900092507}\n",
    "\n",
    "import pandas as pd\n",
    "tokens_of_interest = [\"DAI\", \"crvUSD\", \"USDC\", \"USDT\", \"WETH\", \"WBTC\", \"GHO\", \"LUSD\", \"LINK\", \"CRV\",]\n",
    "collats_of_interest = [\"WETH\", \"WBTC\", \"wstETH\", \"USDC\", \"USDT\", \"LINK\", \"DAI\", \"AAVE\"]\n",
    "for token in tokens_of_interest:\n",
    "    token_bor_collaterals = []\n",
    "    for entry in data:\n",
    "        if entry['borrowHistory']:\n",
    "            if any([h['reserve']['symbol'] == token for h in entry['borrowHistory']]):\n",
    "                token_bor_collaterals += get_collats(entry['supplyHistory'])\n",
    "    print(token)\n",
    "    print((pd.Series(token_bor_collaterals).value_counts() / sum(pd.Series(token_bor_collaterals).value_counts()) * 100)[:8].to_dict())\n",
    "    print(\"*\"*40)\n",
    "    top_8 = (pd.Series(token_bor_collaterals).value_counts() / sum(pd.Series(token_bor_collaterals).value_counts()) * 100)[:8].to_dict()\n",
    "    res[token + ' Borrowers'] = {k: v for k, v in top_8.items() if k in collats_of_interest}\n",
    "    res[token + ' Borrowers']['Others'] = 100 - sum(res[token + ' Borrowers'].values())\n",
    "res"
   ]
  },
  {
   "cell_type": "code",
   "execution_count": null,
   "id": "7272c4c0-8ca4-4b60-8cbd-570f16716a3b",
   "metadata": {},
   "outputs": [],
   "source": []
  }
 ],
 "metadata": {
  "kernelspec": {
   "display_name": "Python (boaenv)",
   "language": "python",
   "name": "boaenv"
  },
  "language_info": {
   "codemirror_mode": {
    "name": "ipython",
    "version": 3
   },
   "file_extension": ".py",
   "mimetype": "text/x-python",
   "name": "python",
   "nbconvert_exporter": "python",
   "pygments_lexer": "ipython3",
   "version": "3.10.13"
  }
 },
 "nbformat": 4,
 "nbformat_minor": 5
}
