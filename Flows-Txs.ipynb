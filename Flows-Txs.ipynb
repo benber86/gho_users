{
 "cells": [
  {
   "cell_type": "code",
   "execution_count": 1,
   "id": "51ede97b-906d-4e4a-9474-1ee8a3281eca",
   "metadata": {},
   "outputs": [],
   "source": [
    "import json\n",
    "with open('transfer_results.json', 'r') as fp:\n",
    "    tx_data = json.load(fp)"
   ]
  },
  {
   "cell_type": "code",
   "execution_count": 2,
   "id": "7b866ecb-7154-495f-a06b-c99e417af346",
   "metadata": {},
   "outputs": [
    {
     "data": {
      "text/plain": [
       "Index(['from', 'to', 'value', 'transferIndex', 'borrowCap', 'supplyCap',\n",
       "       'totalVariableDebt', 'variableBorrowRate', 'blockNumber',\n",
       "       'blockTimestamp', 'transactionHash', 'mint'],\n",
       "      dtype='object')"
      ]
     },
     "execution_count": 2,
     "metadata": {},
     "output_type": "execute_result"
    }
   ],
   "source": [
    "import pandas as pd\n",
    "df = pd.DataFrame(tx_data)\n",
    "df['mint'] = df['from'] == '0x0000000000000000000000000000000000000000'\n",
    "df.columns"
   ]
  },
  {
   "cell_type": "code",
   "execution_count": 3,
   "id": "e77e18ba-d87d-4e83-9e19-d8e74cc6cf05",
   "metadata": {},
   "outputs": [
    {
     "data": {
      "text/plain": [
       "7646"
      ]
     },
     "execution_count": 3,
     "metadata": {},
     "output_type": "execute_result"
    }
   ],
   "source": [
    "minters = df[df['mint']]['to']\n",
    "len(minters)"
   ]
  },
  {
   "cell_type": "markdown",
   "id": "3d52dc0c-605f-4905-8702-7dd40350daa3",
   "metadata": {},
   "source": [
    "## First order flows"
   ]
  },
  {
   "cell_type": "markdown",
   "id": "0aca49a0-172e-4256-91f0-1469cb5c948b",
   "metadata": {},
   "source": [
    "### Hoarders"
   ]
  },
  {
   "cell_type": "code",
   "execution_count": 4,
   "id": "2b574faf-1d2c-47b5-b76a-00ecc3e39f84",
   "metadata": {},
   "outputs": [
    {
     "data": {
      "text/plain": [
       "141"
      ]
     },
     "execution_count": 4,
     "metadata": {},
     "output_type": "execute_result"
    }
   ],
   "source": [
    "senders = set(df['from'])\n",
    "hoarders = [user for user in minters if user not in senders]\n",
    "len(set(hoarders))"
   ]
  },
  {
   "cell_type": "markdown",
   "id": "b960f9f5-8a64-42fc-b085-8f31eacf9d4a",
   "metadata": {},
   "source": [
    "### Contracts"
   ]
  },
  {
   "cell_type": "code",
   "execution_count": 10,
   "id": "0dc8f246-4baa-423e-a2ab-66d09a417392",
   "metadata": {},
   "outputs": [],
   "source": [
    "minter_txs = df[df['from'].isin(minters)]\n",
    "#minter_txs = minter_txs.drop_duplicates(['from', 'to'])"
   ]
  },
  {
   "cell_type": "code",
   "execution_count": 7,
   "id": "44e27489-d0f8-478c-a377-24f62ad156d4",
   "metadata": {},
   "outputs": [],
   "source": [
    "import os\n",
    "import requests\n",
    "\n",
    "API_KEY = os.environ.get('ETHERSCAN_TOKEN')\n",
    "contract_names = {'0x00907f9921424583e7ffbfedf84f92b7b2be4977': 'GhoAToken',\n",
    " '0x5c95d4b1c3321cf898d25949f41d50be2db5bc1d': 'UniswapV3Pool',\n",
    " '0x1a88df1cfe15af22b3c4c783d4e6f7f9e0c1885d': 'GHO Staking',\n",
    " '0x9008d19f58aabd9ed0d60971565aa8510560ab41': 'CowSwap',\n",
    " '0xdef171fe48cf0115b1d80b88dc8eab59176fee57': 'ParaSwap',\n",
    " '0x383e7acd889bf57b0d79a584009cb570534ab518': 'UniswapV3Pool',\n",
    " '0xe37e799d5077682fa0a244d46e5649f71457bd09': '1inch',\n",
    " '0x54eebc36527fe2e5624051e3c895810d7b68bcfc': 'UniswapV3Pool',\n",
    " '0xba12222222228d8ba445958a75a0704d566bf2c8': 'Balancer',\n",
    " '0x74de5d4fcbf63e00296fd95d33236b9794016631': 'AirSwap',\n",
    " '0xad3b67bca8935cb510c8d18bd45f0b94f54a968f': '1inch',\n",
    " '0x8d8404f8cca4c8834ca3cab1e54887ae47724bee': '1inch',\n",
    " '0x5756880b6a1eaba0175227bf02a7e87c1e02b28c': 'GHO CCIP',\n",
    " '0x22f9dcf4647084d6c31b2765f6910cd85c178c18': '0x Exchange',\n",
    " '0xbbec426df87537ad0bec0e899007be441427d0f8': 'UniswapV3Pool',\n",
    " '0xf0d4c12a5768d806021f80a262b4d39d26c58b8d': 'Curve',\n",
    " '0x3208684f96458c540eb08f6f01b9e9afb2b7d4f0': '1inch',\n",
    " '0x92f3f71cef740ed5784874b8c70ff87ecdf33588': '1inch',\n",
    " '0xf081470f5c6fbccf48cc4e5b82dd926409dcdd67': 'Kyber Network',\n",
    " '0x6f42b83ecda76a8313fd8a45ca18a3fdfd37bbc7': 'Gearbox',\n",
    " '0x1231deb6f5749ef6ce6943a275a1d3e7486f4eae': 'Li.Fi',\n",
    " '0x14cf6d2fe3e1b326114b07d22a6f6bb59e346c67': 'Maverick',\n",
    " '0x16c6521dff6bab339122a0fe25a9116693265353': 'Curve',\n",
    " '0xf4d34d7fdd2ed5d57c6f583237bb038fc3839d17': '1inch',\n",
    " '0x9a83b11e50ff5cc544f1401f35807b7c07de791d': 'UniswapV3Pool',\n",
    " '0x28104d4f703ee5b5011cefe106f54efd56f33f95': 'Odos',\n",
    " '0x5f0000d4780a00d2dce0a00004000800cb0e5041': 'ParaSwap',\n",
    " '0x670a72e6d22b0956c0d2573288f82dcc5d6e3a61': 'Curve',\n",
    " '0xbb33ed8c1148e62411a97d25390fd48698fd937e': '1inch',\n",
    " '0xd8533305aa8d9eb5681f15f1461e02c1601eed72': 'UniswapV3Pool',\n",
    " '0x5f515f6c524b18ca30f7783fb58dd4be2e9904ec': '1inch',\n",
    " '0x050ebe3dbb4b3a3526735b04cc3d96c80609ee7e': 'Maverick',\n",
    " '0x86152df0a0e321afb3b0b9c4deb813184f365ada': 'Curve',\n",
    " '0xbf683b7aaf9accea6bff8e926e03f6ceb98b525a': '1inch',\n",
    " '0xd1742b3c4fbb096990c8950fa635aec75b30781a': '1inch',\n",
    " '0x74345504eaea3d9408fc69ae7eb2d14095643c5b': 'Curve',\n",
    " '0xc8c9cfad493cffffd6684da0f45d141e33b6ef27': '1inch',\n",
    " '0x0d67b27c340887da87344c344c20ce60a8eb84c5': 'Maverick',\n",
    " '0x99a58482bd75cbab83b27ec03ca68ff489b5788f': 'Curve',\n",
    " '0xa8376f53391a041c8236a232f7f019ea76eed86d': 'Odos',\n",
    " '0x1a22c1886196101babcac1bf4223294ab04c1d66': 'Odos',\n",
    " '0xc48c6d400de27081df85d55100c7b06f190c764a': 'Maverick',\n",
    " '0x9f274d28fedce05153f9c810b8070277eaf8c031': 'Maverick',\n",
    " '0x635ef0056a597d13863b73825cca297236578595': 'Curve',\n",
    " '0x0b8a49d816cc709b6eadb09498030ae3416b66dc': '1inch',\n",
    " '0x1d7405df25fd2fe80390da3a696dcfd5120ca9ce': 'ParaSwap',\n",
    " '0x8dd418fa80b7f37856e36199e67013f00e5d7a61': 'Maverick',\n",
    " '0xd08d0006f00040b400180f9500b00c5026ac0900': 'ParaSwap',\n",
    " '0x19ea2e6f21bdfc894abf09fa179d59f6c0e0797b': '1inch',\n",
    " '0x63e988f4b30245f9f4ee898531e0be3fee20b170': '1inch',\n",
    "                 #########\n",
    "  '0x686f8d21520f4ecec7ba577be08354f4d1eb8262': 'GHO Stability Module',\n",
    "                  '0x0d8effc11df3f229aa1ea0509bc9dfa632a13578': 'GHO Stability Module',\n",
    "                  '0x0cbc13b84286007ec4f17cd0f9dc7d7ca6ee4fff': 'Odos',\n",
    "                  '0x7d2b63a9ab475397d9c247468803f25cf6523b76': 'Odos',\n",
    "                  '0xc351e45db65d68585e180795537563d33b3716e7': 'ParaSwap',\n",
    "                  '0x9c211ec76380bae8e370a517df95075b40d34cdf': 'Maverick',\n",
    "                  '0x005c78a48b482c1733c7cf958e65d90d3d40554b': 'ParaSwap',\n",
    "                  '0x9c594c2e2e2e5aa300be12596215188c324c3e7c': 'Pendle',\n",
    "                  '0x3d20601ac0ba9cae4564ddf7870825c505b69f1a': 'Pendle',\n",
    "                  '0xe4e9278aed2482248979768a71ca4bfd0c999988': \"MultiSigs\",\n",
    "                  '0xe705b1d26b85c9f9f91a3690079d336295f14f08': \"MultiSigs\",\n",
    "                  '0x205e795336610f5131be52f09218af19f0f3ec60': \"MultiSigs\",\n",
    "                  \"0xd211a02a0adde56bb7f9700f49d4ba832adc7ddf\": \"MultiSigs\",\n",
    "                  \"0xe8d4d93d9728bd673b0197673a230f62255c7846\": \"MultiSigs\",\n",
    "                  '0x6e7058c91f85e0f6db4fc9da2ca41241f5e4263f': \"Notional\",\n",
    "                  '0xff98eb65eb5a727d4354d37abb3ef27537a56b60': \"DeFi Saver\",\n",
    "                  '0xc2b92b6c69e5c3b6b29385c1a17fee906e0ca910': \"DeFi Saver\",\n",
    "                  '0x8c82d963eb282cb7a751e551e3997ba66c2c8237': \"DeFi Saver\",\n",
    "                  \"0xb639d208bcf0589d54fac24e655c79ec529762b8\": \"DeFi Saver\",\n",
    "                  \"0x0e18476415d63882f5a82ad0ecae0072e42ce992\": \"DeFi Saver\",\n",
    "                  \"0xbb67b81dd080a406227a38965d0393f396ddecbc\": \"DeFi Saver\",\n",
    "                  \"0x02dcc3438bb7e46f6bf671c72e98d503c0bce520\": \"DeFi Saver\",\n",
    "                  \"0x3f64bc83f10c4f11a2c7fbd9190949b1c8d54a43\": \"DeFi Saver\",\n",
    "                  \"0xe27baebd7b14602de3797974db9f5f4f8dcb6679\": \"MEV Bots\",\n",
    "                  \"0xa87f4f8b87abf5237c16971e406eef0e2d541c9e\": \"MEV Bots\",\n",
    "                  \"0xd5e74de4385ef0eb1bb4db05a6a504f04d92e79d\": \"MEV Bots\",\n",
    "                  \"0xe20cd9377c204a27952f8b41075f0b8bd1ceec3d\": \"MEV Bots\",\n",
    "                  \"0xf1d2d880c5dde7cc912636c2b4d080b3fe5f7b50\": \"MEV Bots\",\n",
    "                  \"0x00000000009e50a7ddb7a7b0e2ee6604fd120e49\": \"MEV Bots\",\n",
    "                  \"0x2593154f192f46f65a4a0315a5d77556d5d3d264\": \"MEV Bots\",\n",
    "                  \"0x0000000000000000000000000000000000000000\": \"Burn\",\n",
    "                  \n",
    "                 }"
   ]
  },
  {
   "cell_type": "code",
   "execution_count": 8,
   "id": "fd272b5a-36f5-43b4-adf5-def306772ded",
   "metadata": {},
   "outputs": [
    {
     "name": "stdout",
     "output_type": "stream",
     "text": [
      "0x464c71f6c2f760dda6093dcb91c24c39e5d6e18c Collector\n",
      "0x6467e807db1e71b9ef04e0e3afb962e4b0900b2b FeeReceiver\n",
      "0x329c54289ff5d6b7b7dae13592c6b1eda1543ed4 \n",
      "0x0f4a1d7fdf4890be35e71f3e0bbc4a0ec377eca3 \n",
      "0xa9c0cded336699547aac4f9de5a11ada979bc59a \n",
      "0x55877bd7f2ee37bde55ca4b271a3631f3a7ef121 \n",
      "0x93ebc3ca85f96afd72edb914e833fe18888de179 Yearn V3 Vault\n"
     ]
    }
   ],
   "source": [
    "for contract in minter_txs['to'].value_counts()[:60].index:\n",
    "    if contract in contract_names: \n",
    "        continue\n",
    "    URL = f\"https://api.etherscan.io/api?module=contract&action=getsourcecode&address={contract}&apikey={API_KEY}\"\n",
    "    r = requests.get(URL)\n",
    "    if r.json()['result'][0]['Implementation']:\n",
    "        impl_contract = r.json()['result'][0]['Implementation']\n",
    "        URL = f\"https://api.etherscan.io/api?module=contract&action=getsourcecode&address={impl_contract}&apikey={API_KEY}\"\n",
    "        r = requests.get(URL)        \n",
    "    #contract_names[contract] = (r.json()['result'][0]['ContractName'])\n",
    "    print(contract, (r.json()['result'][0]['ContractName']))"
   ]
  },
  {
   "cell_type": "code",
   "execution_count": 11,
   "id": "b7a841ee-0dea-46c9-990f-4faf61eb78ad",
   "metadata": {},
   "outputs": [
    {
     "data": {
      "text/plain": [
       "GhoAToken               3054\n",
       "UniswapV3Pool           2574\n",
       "ParaSwap                1514\n",
       "GHO Staking             1317\n",
       "CowSwap                 1229\n",
       "Others                  1100\n",
       "1inch                    922\n",
       "DeFi Saver               852\n",
       "Curve                    289\n",
       "Balancer                 260\n",
       "AirSwap                  212\n",
       "Maverick                 189\n",
       "MEV Bots                  81\n",
       "0x Exchange               79\n",
       "GHO CCIP                  70\n",
       "Odos                      64\n",
       "Li.Fi                     62\n",
       "Kyber Network             58\n",
       "Gearbox                   56\n",
       "Burn                      42\n",
       "Pendle                    26\n",
       "Notional                  21\n",
       "MultiSigs                 18\n",
       "GHO Stability Module      15\n",
       "Name: to, dtype: int64"
      ]
     },
     "execution_count": 11,
     "metadata": {},
     "output_type": "execute_result"
    }
   ],
   "source": [
    "minter_txs.copy()['to'].apply(lambda x: contract_names.get(x, \"Others\")).value_counts()"
   ]
  },
  {
   "cell_type": "markdown",
   "id": "e7036b7f-172e-4c6e-8d12-2f76a583bd4f",
   "metadata": {},
   "source": [
    "### Sent to EOAs"
   ]
  },
  {
   "cell_type": "code",
   "execution_count": 13,
   "id": "7fd979f7-b212-4c15-bbc8-00f33c3032e4",
   "metadata": {},
   "outputs": [
    {
     "data": {
      "text/plain": [
       "411"
      ]
     },
     "execution_count": 13,
     "metadata": {},
     "output_type": "execute_result"
    }
   ],
   "source": [
    "other_addresses = [user for user in minter_txs['to'] if user not in contract_names]\n",
    "len(set(other_addresses))"
   ]
  },
  {
   "cell_type": "code",
   "execution_count": 14,
   "id": "e3463a0b-2f5c-4721-8e96-7f4b3c531b70",
   "metadata": {},
   "outputs": [
    {
     "name": "stderr",
     "output_type": "stream",
     "text": [
      "100%|████████████████████████████████████████████████████████████████████████████████| 21/21 [00:12<00:00,  1.69it/s]"
     ]
    },
    {
     "name": "stdout",
     "output_type": "stream",
     "text": [
      "EOAs: 299\n",
      "Contracts: 112\n"
     ]
    },
    {
     "name": "stderr",
     "output_type": "stream",
     "text": [
      "\n"
     ]
    }
   ],
   "source": [
    "import asyncio\n",
    "from web3 import Web3\n",
    "import concurrent\n",
    "from tqdm import tqdm\n",
    "\n",
    "provider = os.environ.get('WEB3_PROVIDER_URL')\n",
    "w3 = Web3(Web3.HTTPProvider(provider))\n",
    "\n",
    "def check_address_type(address):\n",
    "    code = w3.eth.get_code(Web3.to_checksum_address(address))\n",
    "    return address, len(code) > 0\n",
    "\n",
    "def process_batch(addresses):\n",
    "    return [check_address_type(addr) for addr in addresses]\n",
    "\n",
    "def parallel_address_check(addresses, batch_size=20):\n",
    "    eoa_count = 0\n",
    "    contract_count = 0\n",
    "    results = []\n",
    "\n",
    "    with concurrent.futures.ThreadPoolExecutor() as executor:\n",
    "        batches = [addresses[i:i + batch_size] for i in range(0, len(addresses), batch_size)]\n",
    "        futures = [executor.submit(process_batch, batch) for batch in batches]\n",
    "\n",
    "        for future in tqdm(concurrent.futures.as_completed(futures), total=len(futures)):\n",
    "            batch_results = future.result()\n",
    "            for address, is_contract in batch_results:\n",
    "                if is_contract:\n",
    "                    contract_count += 1\n",
    "                else:\n",
    "                    eoa_count += 1\n",
    "                results.append((address, 'Contract' if is_contract else 'EOA'))\n",
    "\n",
    "    return results, eoa_count, contract_count\n",
    "\n",
    "results, eoa_count, contract_count = parallel_address_check(list(set(other_addresses)))\n",
    "\n",
    "print(f\"EOAs: {eoa_count}\")\n",
    "print(f\"Contracts: {contract_count}\")"
   ]
  },
  {
   "cell_type": "code",
   "execution_count": 15,
   "id": "34325ab9-7d7a-40a9-a22e-2f26caa997a7",
   "metadata": {},
   "outputs": [
    {
     "data": {
      "text/plain": [
       "{'GhoAToken': 3054,\n",
       " 'UniswapV3Pool': 2574,\n",
       " 'ParaSwap': 1514,\n",
       " 'GHO Staking': 1317,\n",
       " 'CowSwap': 1229,\n",
       " 'Others': 112,\n",
       " '1inch': 922,\n",
       " 'DeFi Saver': 852,\n",
       " 'Curve': 289,\n",
       " 'Balancer': 260,\n",
       " 'AirSwap': 212,\n",
       " 'Maverick': 189,\n",
       " 'MEV Bots': 81,\n",
       " '0x Exchange': 79,\n",
       " 'GHO CCIP': 70,\n",
       " 'Odos': 64,\n",
       " 'Li.Fi': 62,\n",
       " 'Kyber Network': 58,\n",
       " 'Gearbox': 56,\n",
       " 'Burn': 42,\n",
       " 'Pendle': 26,\n",
       " 'Notional': 21,\n",
       " 'MultiSigs': 18,\n",
       " 'GHO Stability Module': 15,\n",
       " 'Sent to other EOA': 299,\n",
       " 'Held in wallet': 141}"
      ]
     },
     "execution_count": 15,
     "metadata": {},
     "output_type": "execute_result"
    }
   ],
   "source": [
    "first_order_flows = minter_txs.copy()['to'].apply(lambda x: contract_names.get(x, \"Others\")).value_counts().to_dict()\n",
    "first_order_flows['Sent to other EOA'] = eoa_count\n",
    "first_order_flows[\"Others\"] = contract_count\n",
    "first_order_flows[\"Held in wallet\"] = len(set(hoarders))\n",
    "first_order_flows"
   ]
  },
  {
   "cell_type": "markdown",
   "id": "0267325f-cb1f-4aae-adb0-f247eed9266e",
   "metadata": {},
   "source": [
    "## Second Order Flows"
   ]
  },
  {
   "cell_type": "code",
   "execution_count": 16,
   "id": "6ed0064f-090e-4388-b374-cc8071cc85f5",
   "metadata": {},
   "outputs": [],
   "source": [
    "minter_full_txs = df[df['from'].isin(minters)]"
   ]
  },
  {
   "cell_type": "markdown",
   "id": "a008aa30-ed29-4989-8e96-4753eec68b97",
   "metadata": {},
   "source": [
    "We're only going to check DEX trades"
   ]
  },
  {
   "cell_type": "code",
   "execution_count": 17,
   "id": "23067551-73dc-426d-8212-2a2ecad49536",
   "metadata": {},
   "outputs": [
    {
     "name": "stderr",
     "output_type": "stream",
     "text": [
      "/tmp/ipykernel_180125/1021720791.py:2: SettingWithCopyWarning: \n",
      "A value is trying to be set on a copy of a slice from a DataFrame.\n",
      "Try using .loc[row_indexer,col_indexer] = value instead\n",
      "\n",
      "See the caveats in the documentation: https://pandas.pydata.org/pandas-docs/stable/user_guide/indexing.html#returning-a-view-versus-a-copy\n",
      "  minter_full_txs['destination'] =  minter_full_txs['to'].apply(lambda x: contract_names.get(x, \"Others\"))\n"
     ]
    },
    {
     "data": {
      "text/html": [
       "<div>\n",
       "<style scoped>\n",
       "    .dataframe tbody tr th:only-of-type {\n",
       "        vertical-align: middle;\n",
       "    }\n",
       "\n",
       "    .dataframe tbody tr th {\n",
       "        vertical-align: top;\n",
       "    }\n",
       "\n",
       "    .dataframe thead th {\n",
       "        text-align: right;\n",
       "    }\n",
       "</style>\n",
       "<table border=\"1\" class=\"dataframe\">\n",
       "  <thead>\n",
       "    <tr style=\"text-align: right;\">\n",
       "      <th></th>\n",
       "      <th>from</th>\n",
       "      <th>to</th>\n",
       "      <th>value</th>\n",
       "      <th>transferIndex</th>\n",
       "      <th>borrowCap</th>\n",
       "      <th>supplyCap</th>\n",
       "      <th>totalVariableDebt</th>\n",
       "      <th>variableBorrowRate</th>\n",
       "      <th>blockNumber</th>\n",
       "      <th>blockTimestamp</th>\n",
       "      <th>transactionHash</th>\n",
       "      <th>mint</th>\n",
       "      <th>destination</th>\n",
       "    </tr>\n",
       "  </thead>\n",
       "  <tbody>\n",
       "    <tr>\n",
       "      <th>10</th>\n",
       "      <td>0x79603115df2ba00659adc63192325cf104ca529c</td>\n",
       "      <td>0x5459ba81d4b375a7b2e34aa83edb1e18c4dc181e</td>\n",
       "      <td>155934142056500000000</td>\n",
       "      <td>10</td>\n",
       "      <td>0</td>\n",
       "      <td>0</td>\n",
       "      <td>81343918969610398129157</td>\n",
       "      <td>15000000000000000000000000</td>\n",
       "      <td>17699326</td>\n",
       "      <td>1689430739</td>\n",
       "      <td>0x9e71943828922409e045ff5c9b9011925d542de62a7d...</td>\n",
       "      <td>False</td>\n",
       "      <td>Others</td>\n",
       "    </tr>\n",
       "    <tr>\n",
       "      <th>18</th>\n",
       "      <td>0xd2eeff73117c86c14f11a6052620848f8dd6e0c8</td>\n",
       "      <td>0xc0268fdbc7f526b43cdbf34e7529b7da0d06dd55</td>\n",
       "      <td>28256317265407911651909</td>\n",
       "      <td>18</td>\n",
       "      <td>0</td>\n",
       "      <td>0</td>\n",
       "      <td>277080953174315786866668</td>\n",
       "      <td>15000000000000000000000000</td>\n",
       "      <td>17699363</td>\n",
       "      <td>1689431195</td>\n",
       "      <td>0xc2c13363f315249fc3481b0c94397edbc15269b87bad...</td>\n",
       "      <td>False</td>\n",
       "      <td>Others</td>\n",
       "    </tr>\n",
       "    <tr>\n",
       "      <th>38</th>\n",
       "      <td>0xd2eeff73117c86c14f11a6052620848f8dd6e0c8</td>\n",
       "      <td>0xc0268fdbc7f526b43cdbf34e7529b7da0d06dd55</td>\n",
       "      <td>16812655822481809110230</td>\n",
       "      <td>38</td>\n",
       "      <td>0</td>\n",
       "      <td>0</td>\n",
       "      <td>278461016597257517749073</td>\n",
       "      <td>15000000000000000000000000</td>\n",
       "      <td>17699401</td>\n",
       "      <td>1689431675</td>\n",
       "      <td>0x2f8ebe2e50c7b6ddbbaab901e68936d166aef8a01406...</td>\n",
       "      <td>False</td>\n",
       "      <td>Others</td>\n",
       "    </tr>\n",
       "    <tr>\n",
       "      <th>50</th>\n",
       "      <td>0x9e9fbeb970383a43d6fba10af4bc0a96e567f83a</td>\n",
       "      <td>0x8e5c57e69ff1a5a34a0358a260d73981f38e924c</td>\n",
       "      <td>100000000000000000000</td>\n",
       "      <td>50</td>\n",
       "      <td>0</td>\n",
       "      <td>0</td>\n",
       "      <td>281362106879226153725806</td>\n",
       "      <td>15000000000000000000000000</td>\n",
       "      <td>17699435</td>\n",
       "      <td>1689432107</td>\n",
       "      <td>0x8f0f230cabf7e21a954886310b70dd0b7c1da1799ff4...</td>\n",
       "      <td>False</td>\n",
       "      <td>Others</td>\n",
       "    </tr>\n",
       "    <tr>\n",
       "      <th>55</th>\n",
       "      <td>0x2e21f5d32841cf8c7da805185a041400bf15f21a</td>\n",
       "      <td>0xc0268fdbc7f526b43cdbf34e7529b7da0d06dd55</td>\n",
       "      <td>12977707562003048338489</td>\n",
       "      <td>55</td>\n",
       "      <td>0</td>\n",
       "      <td>0</td>\n",
       "      <td>281162188722374181974933</td>\n",
       "      <td>15000000000000000000000000</td>\n",
       "      <td>17699485</td>\n",
       "      <td>1689432719</td>\n",
       "      <td>0x65ad012bb84f96890b88a8cbc1d1aa889333bab85ef2...</td>\n",
       "      <td>False</td>\n",
       "      <td>Others</td>\n",
       "    </tr>\n",
       "    <tr>\n",
       "      <th>...</th>\n",
       "      <td>...</td>\n",
       "      <td>...</td>\n",
       "      <td>...</td>\n",
       "      <td>...</td>\n",
       "      <td>...</td>\n",
       "      <td>...</td>\n",
       "      <td>...</td>\n",
       "      <td>...</td>\n",
       "      <td>...</td>\n",
       "      <td>...</td>\n",
       "      <td>...</td>\n",
       "      <td>...</td>\n",
       "      <td>...</td>\n",
       "    </tr>\n",
       "    <tr>\n",
       "      <th>82022</th>\n",
       "      <td>0x0a9972b72910b8668755d0dc016ecc68d1cbbcca</td>\n",
       "      <td>0x16c6521dff6bab339122a0fe25a9116693265353</td>\n",
       "      <td>5000000000000000000000</td>\n",
       "      <td>82022</td>\n",
       "      <td>125000000</td>\n",
       "      <td>0</td>\n",
       "      <td>111471857694936162785433874</td>\n",
       "      <td>60000000000000000000000000</td>\n",
       "      <td>20682692</td>\n",
       "      <td>1725518867</td>\n",
       "      <td>0x84b13ede19fa90a3e9c92e514b89d13d54542d28ddeb...</td>\n",
       "      <td>False</td>\n",
       "      <td>Curve</td>\n",
       "    </tr>\n",
       "    <tr>\n",
       "      <th>82065</th>\n",
       "      <td>0xd6c1f6cd5134568979f3c8cf41ed2332cb6b4a74</td>\n",
       "      <td>0x1231deb6f5749ef6ce6943a275a1d3e7486f4eae</td>\n",
       "      <td>2017588478833170819005</td>\n",
       "      <td>82065</td>\n",
       "      <td>125000000</td>\n",
       "      <td>0</td>\n",
       "      <td>111470318026089831961216830</td>\n",
       "      <td>60000000000000000000000000</td>\n",
       "      <td>20683212</td>\n",
       "      <td>1725525167</td>\n",
       "      <td>0x9427f8f1445d4931c5e76ff3dcce55b9639b3a63a897...</td>\n",
       "      <td>False</td>\n",
       "      <td>Li.Fi</td>\n",
       "    </tr>\n",
       "    <tr>\n",
       "      <th>82069</th>\n",
       "      <td>0x4f0a01badaa24f762cee620883f16c4460c06be0</td>\n",
       "      <td>0x28104d4f703ee5b5011cefe106f54efd56f33f95</td>\n",
       "      <td>167000999250672397414184</td>\n",
       "      <td>82069</td>\n",
       "      <td>125000000</td>\n",
       "      <td>0</td>\n",
       "      <td>111470450365358614119627153</td>\n",
       "      <td>60000000000000000000000000</td>\n",
       "      <td>20683263</td>\n",
       "      <td>1725525791</td>\n",
       "      <td>0x6d58e97b207f484b57026614a034aef0e1518069f03c...</td>\n",
       "      <td>False</td>\n",
       "      <td>Odos</td>\n",
       "    </tr>\n",
       "    <tr>\n",
       "      <th>82078</th>\n",
       "      <td>0x4f0a01badaa24f762cee620883f16c4460c06be0</td>\n",
       "      <td>0x5c95d4b1c3321cf898d25949f41d50be2db5bc1d</td>\n",
       "      <td>130421901502327359231</td>\n",
       "      <td>82078</td>\n",
       "      <td>125000000</td>\n",
       "      <td>0</td>\n",
       "      <td>111470554709892853590148427</td>\n",
       "      <td>60000000000000000000000000</td>\n",
       "      <td>20683304</td>\n",
       "      <td>1725526283</td>\n",
       "      <td>0x8e8e60ab09cd4a9ffcebf296395599fb7e08d34c0da2...</td>\n",
       "      <td>False</td>\n",
       "      <td>UniswapV3Pool</td>\n",
       "    </tr>\n",
       "    <tr>\n",
       "      <th>82085</th>\n",
       "      <td>0xe441b40e6ab0430d26f4c6ae66b288935730d23d</td>\n",
       "      <td>0x16c6521dff6bab339122a0fe25a9116693265353</td>\n",
       "      <td>10000000000000000000000</td>\n",
       "      <td>82085</td>\n",
       "      <td>125000000</td>\n",
       "      <td>0</td>\n",
       "      <td>111480760865447009374079977</td>\n",
       "      <td>60000000000000000000000000</td>\n",
       "      <td>20683385</td>\n",
       "      <td>1725527255</td>\n",
       "      <td>0x31a87c6586fbb4373516f0bee3800f5448636c974b88...</td>\n",
       "      <td>False</td>\n",
       "      <td>Curve</td>\n",
       "    </tr>\n",
       "  </tbody>\n",
       "</table>\n",
       "<p>8439 rows × 13 columns</p>\n",
       "</div>"
      ],
      "text/plain": [
       "                                             from  \\\n",
       "10     0x79603115df2ba00659adc63192325cf104ca529c   \n",
       "18     0xd2eeff73117c86c14f11a6052620848f8dd6e0c8   \n",
       "38     0xd2eeff73117c86c14f11a6052620848f8dd6e0c8   \n",
       "50     0x9e9fbeb970383a43d6fba10af4bc0a96e567f83a   \n",
       "55     0x2e21f5d32841cf8c7da805185a041400bf15f21a   \n",
       "...                                           ...   \n",
       "82022  0x0a9972b72910b8668755d0dc016ecc68d1cbbcca   \n",
       "82065  0xd6c1f6cd5134568979f3c8cf41ed2332cb6b4a74   \n",
       "82069  0x4f0a01badaa24f762cee620883f16c4460c06be0   \n",
       "82078  0x4f0a01badaa24f762cee620883f16c4460c06be0   \n",
       "82085  0xe441b40e6ab0430d26f4c6ae66b288935730d23d   \n",
       "\n",
       "                                               to                     value  \\\n",
       "10     0x5459ba81d4b375a7b2e34aa83edb1e18c4dc181e     155934142056500000000   \n",
       "18     0xc0268fdbc7f526b43cdbf34e7529b7da0d06dd55   28256317265407911651909   \n",
       "38     0xc0268fdbc7f526b43cdbf34e7529b7da0d06dd55   16812655822481809110230   \n",
       "50     0x8e5c57e69ff1a5a34a0358a260d73981f38e924c     100000000000000000000   \n",
       "55     0xc0268fdbc7f526b43cdbf34e7529b7da0d06dd55   12977707562003048338489   \n",
       "...                                           ...                       ...   \n",
       "82022  0x16c6521dff6bab339122a0fe25a9116693265353    5000000000000000000000   \n",
       "82065  0x1231deb6f5749ef6ce6943a275a1d3e7486f4eae    2017588478833170819005   \n",
       "82069  0x28104d4f703ee5b5011cefe106f54efd56f33f95  167000999250672397414184   \n",
       "82078  0x5c95d4b1c3321cf898d25949f41d50be2db5bc1d     130421901502327359231   \n",
       "82085  0x16c6521dff6bab339122a0fe25a9116693265353   10000000000000000000000   \n",
       "\n",
       "       transferIndex  borrowCap supplyCap            totalVariableDebt  \\\n",
       "10                10          0         0      81343918969610398129157   \n",
       "18                18          0         0     277080953174315786866668   \n",
       "38                38          0         0     278461016597257517749073   \n",
       "50                50          0         0     281362106879226153725806   \n",
       "55                55          0         0     281162188722374181974933   \n",
       "...              ...        ...       ...                          ...   \n",
       "82022          82022  125000000         0  111471857694936162785433874   \n",
       "82065          82065  125000000         0  111470318026089831961216830   \n",
       "82069          82069  125000000         0  111470450365358614119627153   \n",
       "82078          82078  125000000         0  111470554709892853590148427   \n",
       "82085          82085  125000000         0  111480760865447009374079977   \n",
       "\n",
       "               variableBorrowRate blockNumber blockTimestamp  \\\n",
       "10     15000000000000000000000000    17699326     1689430739   \n",
       "18     15000000000000000000000000    17699363     1689431195   \n",
       "38     15000000000000000000000000    17699401     1689431675   \n",
       "50     15000000000000000000000000    17699435     1689432107   \n",
       "55     15000000000000000000000000    17699485     1689432719   \n",
       "...                           ...         ...            ...   \n",
       "82022  60000000000000000000000000    20682692     1725518867   \n",
       "82065  60000000000000000000000000    20683212     1725525167   \n",
       "82069  60000000000000000000000000    20683263     1725525791   \n",
       "82078  60000000000000000000000000    20683304     1725526283   \n",
       "82085  60000000000000000000000000    20683385     1725527255   \n",
       "\n",
       "                                         transactionHash   mint    destination  \n",
       "10     0x9e71943828922409e045ff5c9b9011925d542de62a7d...  False         Others  \n",
       "18     0xc2c13363f315249fc3481b0c94397edbc15269b87bad...  False         Others  \n",
       "38     0x2f8ebe2e50c7b6ddbbaab901e68936d166aef8a01406...  False         Others  \n",
       "50     0x8f0f230cabf7e21a954886310b70dd0b7c1da1799ff4...  False         Others  \n",
       "55     0x65ad012bb84f96890b88a8cbc1d1aa889333bab85ef2...  False         Others  \n",
       "...                                                  ...    ...            ...  \n",
       "82022  0x84b13ede19fa90a3e9c92e514b89d13d54542d28ddeb...  False          Curve  \n",
       "82065  0x9427f8f1445d4931c5e76ff3dcce55b9639b3a63a897...  False          Li.Fi  \n",
       "82069  0x6d58e97b207f484b57026614a034aef0e1518069f03c...  False           Odos  \n",
       "82078  0x8e8e60ab09cd4a9ffcebf296395599fb7e08d34c0da2...  False  UniswapV3Pool  \n",
       "82085  0x31a87c6586fbb4373516f0bee3800f5448636c974b88...  False          Curve  \n",
       "\n",
       "[8439 rows x 13 columns]"
      ]
     },
     "execution_count": 17,
     "metadata": {},
     "output_type": "execute_result"
    }
   ],
   "source": [
    "dexes = ['1inch', 'Odos', 'Curve', 'CowSwap', 'ParaSwap', 'Maverick', 'Balancer', 'UniswapV3Pool', '0x Exchange', 'Kyber Network', 'Li.Fi', 'Others', 'MultiSigs', 'MEV Bots']\n",
    "minter_full_txs['destination'] =  minter_full_txs['to'].apply(lambda x: contract_names.get(x, \"Others\"))\n",
    "dex_txs = minter_full_txs[minter_full_txs['destination'].isin(dexes)]\n",
    "dex_txs"
   ]
  },
  {
   "cell_type": "markdown",
   "id": "c189eeb6-d094-4d51-ba8f-cc16ed5db987",
   "metadata": {},
   "source": [
    "### Parse token transfers\n",
    "We're going to look for ERC20 transfers going TO the dumper address in the same transaction and we'll fetch the symbol for those"
   ]
  },
  {
   "cell_type": "code",
   "execution_count": 18,
   "id": "522658db-3f9f-4c73-8130-cb9bf7129712",
   "metadata": {},
   "outputs": [
    {
     "name": "stderr",
     "output_type": "stream",
     "text": [
      "  0%|                                                                                        | 0/422 [00:00<?, ?it/s]"
     ]
    },
    {
     "name": "stdout",
     "output_type": "stream",
     "text": [
      "Transaction with hash: '0x4fd1714cd20f473946c229f8b38a363836c8df85d70a2c50b42179fe13a22351' not found.\n",
      "Transaction with hash: '0x0dae1bf055cab21bf4d32cb247bc36262679dcc99c1200b9d71d7ff60ba109f3' not found.\n"
     ]
    },
    {
     "name": "stderr",
     "output_type": "stream",
     "text": [
      "  0%|▏                                                                               | 1/422 [00:03<25:00,  3.56s/it]"
     ]
    },
    {
     "name": "stdout",
     "output_type": "stream",
     "text": [
      "Transaction with hash: '0x91672b3409231ad7251d61f06f3241f3e50bce4220e97830925e180c137eb5ca' not found.\n"
     ]
    },
    {
     "name": "stderr",
     "output_type": "stream",
     "text": [
      "  2%|█▊                                                                             | 10/422 [00:04<01:26,  4.77it/s]"
     ]
    },
    {
     "name": "stdout",
     "output_type": "stream",
     "text": [
      "Transaction with hash: '0x74607a50c8cd73f224f9d520ed77bd167b9aa9e0aab082741eb1b588682c561b' not found.\n"
     ]
    },
    {
     "name": "stderr",
     "output_type": "stream",
     "text": [
      "  5%|███▉                                                                           | 21/422 [00:08<02:10,  3.08it/s]"
     ]
    },
    {
     "name": "stdout",
     "output_type": "stream",
     "text": [
      "Transaction with hash: '0x6d8cbc3660da63544190fd832f930d071c95a3713c220bf100c41c8c02b2722a' not found.\n"
     ]
    },
    {
     "name": "stderr",
     "output_type": "stream",
     "text": [
      "  8%|█████▉                                                                         | 32/422 [00:11<02:34,  2.52it/s]"
     ]
    },
    {
     "name": "stdout",
     "output_type": "stream",
     "text": [
      "Transaction with hash: '0x252166b7d182d0cffeda936d874c2027197c97a0e8442e4f063809654bf46a0f' not found.\n"
     ]
    },
    {
     "name": "stderr",
     "output_type": "stream",
     "text": [
      " 11%|████████▊                                                                      | 47/422 [00:14<00:42,  8.83it/s]"
     ]
    },
    {
     "name": "stdout",
     "output_type": "stream",
     "text": [
      "Transaction with hash: '0x8f87c9661b42f90337e75533988fea2d46af22bce8f3749d4d8fb5f92979a9bf' not found.\n",
      "Transaction with hash: '0x04034e64f3f86b377650ab559c655356e08586c618f713e955137f7eda70f4bc' not found.\n",
      "Transaction with hash: '0x58bc56de8558cd3d98334988005402390ece93dfa754f30550545d77c4b0868d' not found.\n",
      "Transaction with hash: '0x7ae25c6ad5947bb41947a3e3ca6f9b48974f0927b594e99c58e0f2c7a9b1c2e1' not found.\n",
      "Transaction with hash: '0x87ea84aee37f7e696e4ef9d022eb10ce0a2e7b271cb7460b641b171932dc27b3' not found.\n"
     ]
    },
    {
     "name": "stderr",
     "output_type": "stream",
     "text": [
      " 12%|█████████▌                                                                     | 51/422 [00:16<02:13,  2.78it/s]"
     ]
    },
    {
     "name": "stdout",
     "output_type": "stream",
     "text": [
      "Transaction with hash: '0x072802a94a0807af146b5398d8c744dfa70e6ddd934afadc41b5c9e9df0d32f6' not found.\n"
     ]
    },
    {
     "name": "stderr",
     "output_type": "stream",
     "text": [
      " 15%|███████████▌                                                                   | 62/422 [00:18<00:58,  6.17it/s]"
     ]
    },
    {
     "name": "stdout",
     "output_type": "stream",
     "text": [
      "Transaction with hash: '0xee0a56bf92bfe84eb1cce082daf5cf3bec2bd8ef751f51e58f434e8241db2bb6' not found.\n",
      "Transaction with hash: '0x39d42be7cbabb1e4899faf333e70781d9d030f0a4e676a5541372158a0d16cad' not found.\n",
      "Transaction with hash: '0xe8d12854dcd183da358530537ae66ef6c623e3a4b87fc6dadefecdb3d28fc13f' not found.\n",
      "Transaction with hash: '0x4824e4cd9c5f9ee7c7be31cdbc765b4efbf1e8f62ec615f9e66d1085473f200a' not found.\n"
     ]
    },
    {
     "name": "stderr",
     "output_type": "stream",
     "text": [
      " 15%|████████████▏                                                                  | 65/422 [00:20<02:10,  2.74it/s]"
     ]
    },
    {
     "name": "stdout",
     "output_type": "stream",
     "text": [
      "Transaction with hash: '0x6647111ffe029ea65bd8a7dc0195d90e7521003eac26f7f06d4262326e4f2631' not found.\n"
     ]
    },
    {
     "name": "stderr",
     "output_type": "stream",
     "text": [
      " 16%|████████████▎                                                                  | 66/422 [00:21<02:35,  2.29it/s]"
     ]
    },
    {
     "name": "stdout",
     "output_type": "stream",
     "text": [
      "Transaction with hash: '0x73ccb3e0c395f5732d83c9859c31e3fc074fe1512ce47b9e961db21f9d8c3796' not found.\n"
     ]
    },
    {
     "name": "stderr",
     "output_type": "stream",
     "text": [
      " 17%|█████████████▋                                                                 | 73/422 [00:22<01:19,  4.40it/s]"
     ]
    },
    {
     "name": "stdout",
     "output_type": "stream",
     "text": [
      "Transaction with hash: '0xd69e660fe1b3017e733cd74f516996942cc54e82694bb2f00f643a184b95df8e' not found.\n"
     ]
    },
    {
     "name": "stderr",
     "output_type": "stream",
     "text": [
      " 19%|██████████████▉                                                                | 80/422 [00:24<02:13,  2.56it/s]"
     ]
    },
    {
     "name": "stdout",
     "output_type": "stream",
     "text": [
      "Transaction with hash: '0xe353e302ef283d399a40b0ad15ab2c05170afbcde28252d32a36d22f2524f235' not found.\n"
     ]
    },
    {
     "name": "stderr",
     "output_type": "stream",
     "text": [
      " 20%|███████████████▉                                                               | 85/422 [00:26<01:45,  3.18it/s]"
     ]
    },
    {
     "name": "stdout",
     "output_type": "stream",
     "text": [
      "Transaction with hash: '0xd1784971f1497bab1aa95d04e314d400044fdc471b3fba26b9b8d092aff62c8e' not found.\n"
     ]
    },
    {
     "name": "stderr",
     "output_type": "stream",
     "text": [
      " 22%|█████████████████▍                                                             | 93/422 [00:28<01:09,  4.74it/s]"
     ]
    },
    {
     "name": "stdout",
     "output_type": "stream",
     "text": [
      "Transaction with hash: '0x557f507f8cbbca1174cfd0df4ce2e97d9f6cafc153505ba626362cda85d42896' not found.\n"
     ]
    },
    {
     "name": "stderr",
     "output_type": "stream",
     "text": [
      " 23%|█████████████████▉                                                             | 96/422 [00:29<01:57,  2.78it/s]"
     ]
    },
    {
     "name": "stdout",
     "output_type": "stream",
     "text": [
      "Transaction with hash: '0x85769c76a44b0c5a4a5d2537de6270f01ab32f0443a4675aa13320413e0abe02' not found.\n"
     ]
    },
    {
     "name": "stderr",
     "output_type": "stream",
     "text": [
      " 26%|████████████████████▌                                                         | 111/422 [00:33<00:51,  6.05it/s]"
     ]
    },
    {
     "name": "stdout",
     "output_type": "stream",
     "text": [
      "Transaction with hash: '0x08a5f752e7b48142c2b7a7900026b4ce89f2b90c4a0df3f8f8757ba052beb4f4' not found.\n"
     ]
    },
    {
     "name": "stderr",
     "output_type": "stream",
     "text": [
      " 27%|████████████████████▉                                                         | 113/422 [00:35<02:46,  1.86it/s]"
     ]
    },
    {
     "name": "stdout",
     "output_type": "stream",
     "text": [
      "Transaction with hash: '0x676c0f927deb5dd177b822a0c3925608d5b306223f359e845d1fb0686d0acf72' not found.\n",
      "Transaction with hash: '0x583073b9efedc02141b068e247fb08a027f69f04e1e86bff32ad1d58040ba16c' not found.\n"
     ]
    },
    {
     "name": "stderr",
     "output_type": "stream",
     "text": [
      " 33%|█████████████████████████▌                                                    | 138/422 [00:41<00:55,  5.13it/s]"
     ]
    },
    {
     "name": "stdout",
     "output_type": "stream",
     "text": [
      "Transaction with hash: '0x61d8fd3739510dfaeb7881eb010afc634b0d62fcd5483584e932a49564a7244f' not found.\n"
     ]
    },
    {
     "name": "stderr",
     "output_type": "stream",
     "text": [
      " 34%|██████████████████████████▌                                                   | 144/422 [00:43<01:38,  2.81it/s]"
     ]
    },
    {
     "name": "stdout",
     "output_type": "stream",
     "text": [
      "Transaction with hash: '0xb1f1f64535d086c81556c9a1e7fab0394e1a7bc90de429c96e65832f68941b92' not found.\n",
      "Transaction with hash: '0x38c91ae20e17fd3fd9956bc0a533f163ff1b42e7dc4d2e470bae7dfefcf2f949' not found.\n"
     ]
    },
    {
     "name": "stderr",
     "output_type": "stream",
     "text": [
      " 35%|███████████████████████████▎                                                  | 148/422 [00:44<01:06,  4.14it/s]"
     ]
    },
    {
     "name": "stdout",
     "output_type": "stream",
     "text": [
      "Transaction with hash: '0x0d28f7682757a434aa3c6500bf14d76423b71b2b38e805ece927302f004fb34e' not found.\n"
     ]
    },
    {
     "name": "stderr",
     "output_type": "stream",
     "text": [
      " 39%|██████████████████████████████▏                                               | 163/422 [00:49<01:26,  2.98it/s]"
     ]
    },
    {
     "name": "stdout",
     "output_type": "stream",
     "text": [
      "Transaction with hash: '0x166f221e8134437c432c2a9b90596a4631d4102eb7594b61c64afd5237d73dca' not found.\n"
     ]
    },
    {
     "name": "stderr",
     "output_type": "stream",
     "text": [
      " 43%|█████████████████████████████████▊                                            | 183/422 [00:54<00:53,  4.51it/s]"
     ]
    },
    {
     "name": "stdout",
     "output_type": "stream",
     "text": [
      "Transaction with hash: '0x64d605010f69c612f21cce0446558262862d3aaa5173932cd94d60f61eb9095f' not found.\n"
     ]
    },
    {
     "name": "stderr",
     "output_type": "stream",
     "text": [
      " 46%|███████████████████████████████████▋                                          | 193/422 [00:57<01:04,  3.57it/s]"
     ]
    },
    {
     "name": "stdout",
     "output_type": "stream",
     "text": [
      "Transaction with hash: '0xaba59a0aa0d8ad7ff00a05115f40b9a54af1deb9b549e5ba377391ee2e5be06b' not found.\n"
     ]
    },
    {
     "name": "stderr",
     "output_type": "stream",
     "text": [
      " 47%|████████████████████████████████████▉                                         | 200/422 [00:58<00:50,  4.43it/s]"
     ]
    },
    {
     "name": "stdout",
     "output_type": "stream",
     "text": [
      "Transaction with hash: '0xf10a2308739dc1c24f062668bd21f5a64acd5e95b8f422b24d132536672c170f' not found.\n"
     ]
    },
    {
     "name": "stderr",
     "output_type": "stream",
     "text": [
      " 49%|██████████████████████████████████████                                        | 206/422 [01:01<01:16,  2.81it/s]"
     ]
    },
    {
     "name": "stdout",
     "output_type": "stream",
     "text": [
      "Transaction with hash: '0xf56af5d04c6df4e641b28729f220e7b56d421779771c07cd4efcddb8bc13c8f9' not found.\n"
     ]
    },
    {
     "name": "stderr",
     "output_type": "stream",
     "text": [
      " 52%|████████████████████████████████████████▋                                     | 220/422 [01:05<01:00,  3.36it/s]"
     ]
    },
    {
     "name": "stdout",
     "output_type": "stream",
     "text": [
      "Transaction with hash: '0xbb59647098936b558bd065047123347b833d7a1f6f05612d1e36f28761f77f23' not found.\n"
     ]
    },
    {
     "name": "stderr",
     "output_type": "stream",
     "text": [
      " 55%|██████████████████████████████████████████▉                                   | 232/422 [01:07<00:27,  6.79it/s]"
     ]
    },
    {
     "name": "stdout",
     "output_type": "stream",
     "text": [
      "Transaction with hash: '0x8f7232e272975a4cd99715b99f38e594af07e33e8e1563eb12f3a77795113b02' not found.\n"
     ]
    },
    {
     "name": "stderr",
     "output_type": "stream",
     "text": [
      " 59%|█████████████████████████████████████████████▊                                | 248/422 [01:13<00:36,  4.74it/s]"
     ]
    },
    {
     "name": "stdout",
     "output_type": "stream",
     "text": [
      "Transaction with hash: '0x00ee5f8d818933d36b67e25591a73ec93e9f9b2d601d035202f1f40189eaa7d5' not found.\n"
     ]
    },
    {
     "name": "stderr",
     "output_type": "stream",
     "text": [
      " 59%|██████████████████████████████████████████████                                | 249/422 [01:14<01:15,  2.30it/s]"
     ]
    },
    {
     "name": "stdout",
     "output_type": "stream",
     "text": [
      "Transaction with hash: '0xde3ee5f507cd673aa7d0d034ed142db5990fbed85ddcabd7b9794cbcc7fd13fa' not found.\n"
     ]
    },
    {
     "name": "stderr",
     "output_type": "stream",
     "text": [
      " 60%|██████████████████████████████████████████████▉                               | 254/422 [01:15<00:50,  3.35it/s]"
     ]
    },
    {
     "name": "stdout",
     "output_type": "stream",
     "text": [
      "Transaction with hash: '0xa27405d77d0f0fb927d341a97c01f962e412edde5e95d86e8935df551b39d184' not found.\n"
     ]
    },
    {
     "name": "stderr",
     "output_type": "stream",
     "text": [
      " 63%|█████████████████████████████████████████████████▏                            | 266/422 [01:19<00:54,  2.86it/s]"
     ]
    },
    {
     "name": "stdout",
     "output_type": "stream",
     "text": [
      "Transaction with hash: '0x6be65369a59b5d297113c9238ef4ad0682ed8bbe4c515aa14caecc42d15d3de4' not found.\n"
     ]
    },
    {
     "name": "stderr",
     "output_type": "stream",
     "text": [
      " 64%|█████████████████████████████████████████████████▌                            | 268/422 [01:20<00:46,  3.30it/s]"
     ]
    },
    {
     "name": "stdout",
     "output_type": "stream",
     "text": [
      "Transaction with hash: '0x58f2538cc83deb270a26c13394a7fa276b4a5f0a238e48dd5782b43cf79ba9d0' not found.\n"
     ]
    },
    {
     "name": "stderr",
     "output_type": "stream",
     "text": [
      " 64%|█████████████████████████████████████████████████▉                            | 270/422 [01:21<00:56,  2.71it/s]"
     ]
    },
    {
     "name": "stdout",
     "output_type": "stream",
     "text": [
      "Transaction with hash: '0xea44562d0f6b6438303713550a0b5753956f2a948be8c7ce7530fcb00516241f' not found.\n"
     ]
    },
    {
     "name": "stderr",
     "output_type": "stream",
     "text": [
      " 64%|██████████████████████████████████████████████████▎                           | 272/422 [01:21<00:59,  2.54it/s]"
     ]
    },
    {
     "name": "stdout",
     "output_type": "stream",
     "text": [
      "Transaction with hash: '0xfeac62d7a145400fd0fab08a78d86e712ec89c093f9d4a8d36f0c77c4ca7074f' not found.\n"
     ]
    },
    {
     "name": "stderr",
     "output_type": "stream",
     "text": [
      " 66%|███████████████████████████████████████████████████▌                          | 279/422 [01:24<00:46,  3.05it/s]"
     ]
    },
    {
     "name": "stdout",
     "output_type": "stream",
     "text": [
      "Transaction with hash: '0xd6768a9a6711da517fa4d883d14a263e982255be19e84fe26f874a2eb1962e91' not found.\n",
      "Transaction with hash: '0xf9ad1a0f93ee747c36fb26be1f941aae1a57d0d540220b963036c1d23bd083c3' not found.\n"
     ]
    },
    {
     "name": "stderr",
     "output_type": "stream",
     "text": [
      " 67%|████████████████████████████████████████████████████▎                         | 283/422 [01:25<00:37,  3.72it/s]"
     ]
    },
    {
     "name": "stdout",
     "output_type": "stream",
     "text": [
      "Transaction with hash: '0x437919ef5b53afe61436b78dc04bff54dd7359303fb9fb4c0c8c471b5ca2d41e' not found.\n"
     ]
    },
    {
     "name": "stderr",
     "output_type": "stream",
     "text": [
      " 69%|██████████████████████████████████████████████████████▏                       | 293/422 [01:29<00:40,  3.17it/s]"
     ]
    },
    {
     "name": "stdout",
     "output_type": "stream",
     "text": [
      "Transaction with hash: '0x15fd72aaf66de77c30410a1ddee2466fc9db964d043c926b5873453816931c72' not found.\n"
     ]
    },
    {
     "name": "stderr",
     "output_type": "stream",
     "text": [
      "100%|██████████████████████████████████████████████████████████████████████████████| 422/422 [02:07<00:00,  3.32it/s]\n"
     ]
    }
   ],
   "source": [
    "from web3.exceptions import ContractLogicError\n",
    "import aiohttp\n",
    "import pandas as pd\n",
    "\n",
    "w3 = Web3(Web3.HTTPProvider(provider))\n",
    "\n",
    "ERC20_ABI = [\n",
    "    {\n",
    "        \"constant\": True,\n",
    "        \"inputs\": [],\n",
    "        \"name\": \"symbol\",\n",
    "        \"outputs\": [{\"name\": \"\", \"type\": \"string\"}],\n",
    "        \"type\": \"function\"\n",
    "    },\n",
    "    {\n",
    "        \"anonymous\": False,\n",
    "        \"inputs\": [\n",
    "            {\"indexed\": True, \"name\": \"from\", \"type\": \"address\"},\n",
    "            {\"indexed\": True, \"name\": \"to\", \"type\": \"address\"},\n",
    "            {\"indexed\": False, \"name\": \"value\", \"type\": \"uint256\"}\n",
    "        ],\n",
    "        \"name\": \"Transfer\",\n",
    "        \"type\": \"event\"\n",
    "    }\n",
    "]\n",
    "\n",
    "LP_EVENT_TOPICS = [\n",
    "    '0x3067048beee31b25b2f1681f88dac838c8bba36af25bfb2b7cf7473a5847e35f' # IncreaseLiquidity UniV3\n",
    "    '0x26f55a85081d24974e85c6c00045d0f0453991e95873f52bff0d21af4079a768' # AddLiquidity Curve\n",
    "]\n",
    "\n",
    "symbols = {'0x9f8F72aA9304c8B593d555F12eF6589cC3A579A2'.lower(): 'MKR'}\n",
    "\n",
    "def get_token_symbol(token_address):\n",
    "    contract = w3.eth.contract(address=token_address, abi=ERC20_ABI)\n",
    "    try:\n",
    "        symbol = contract.functions.symbol().call()\n",
    "        return symbol\n",
    "    except ContractLogicError:\n",
    "        return \"Unknown\"\n",
    "\n",
    "def process_transaction(tx_hash, target_address, destination):\n",
    "    try:\n",
    "        receipt = w3.eth.get_transaction_receipt(tx_hash)\n",
    "    except Exception as e:\n",
    "        print(e)\n",
    "        return {}\n",
    "    events = []\n",
    "    \n",
    "    for log in receipt.logs:\n",
    "        if len(log['topics']) in [3,4] and log['topics'][0].hex() == Web3.keccak(text=\"Transfer(address,address,uint256)\").hex():\n",
    "            to_address = '0x' + log['topics'][2].hex()[-40:]\n",
    "            if to_address.lower() == target_address.lower():\n",
    "                from_address = '0x' + log['topics'][1].hex()[-40:]\n",
    "                token_address = log['address']\n",
    "                \n",
    "                if token_address.lower() in symbols:\n",
    "                    symbol = symbols[token_address.lower()]\n",
    "                else:\n",
    "                    try:\n",
    "                        symbol = get_token_symbol(token_address)\n",
    "                        symbols[token_address.lower()] = symbol\n",
    "                    except Exception as e:\n",
    "                        print(f'{e}: {token_address} : {tx_hash}')\n",
    "                        symbol = \"Missing\"\n",
    "                \n",
    "                events.append({\n",
    "                    'tx_hash': tx_hash,\n",
    "                    'token_address': token_address,\n",
    "                    'symbol': symbol,\n",
    "                    'from': from_address,\n",
    "                    'to': to_address,\n",
    "                    'destination': destination,\n",
    "                })\n",
    "    \n",
    "    return events\n",
    "\n",
    "def process_batch(batch):\n",
    "    results = []\n",
    "    for tx_hash, target_address, destination in batch:\n",
    "        results.extend(process_transaction(tx_hash, target_address, destination))\n",
    "    return results\n",
    "\n",
    "def parallel_transaction_processing(tx_hashes, target_addresses, destinations, batch_size=20):\n",
    "    all_events = []\n",
    "\n",
    "    tx_address_pairs = list(zip(tx_hashes, target_addresses, destinations))\n",
    "\n",
    "    with concurrent.futures.ThreadPoolExecutor() as executor:\n",
    "        batches = [tx_address_pairs[i:i + batch_size] for i in range(0, len(tx_address_pairs), batch_size)]\n",
    "        futures = [executor.submit(process_batch, batch) for batch in batches]\n",
    "\n",
    "        for future in tqdm(concurrent.futures.as_completed(futures), total=len(futures)):\n",
    "            batch_events = future.result()\n",
    "            all_events.extend(batch_events)\n",
    "\n",
    "    return pd.DataFrame(all_events)\n",
    "\n",
    "tx_hashes = dex_txs['transactionHash'].to_list()\n",
    "target_addresses = dex_txs['from'].to_list()\n",
    "destinations = dex_txs['destination'].to_list()\n",
    "\n",
    "result_df = parallel_transaction_processing(tx_hashes, target_addresses, destinations)"
   ]
  },
  {
   "cell_type": "code",
   "execution_count": 35,
   "id": "976c8b25-e8c9-4f1e-a20c-182de26a80be",
   "metadata": {},
   "outputs": [],
   "source": [
    "pd.set_option('display.max_colwidth', None)"
   ]
  },
  {
   "cell_type": "code",
   "execution_count": 106,
   "id": "056386fb-c108-421c-af08-7e70fe70ea94",
   "metadata": {},
   "outputs": [
    {
     "data": {
      "text/html": [
       "<div>\n",
       "<style scoped>\n",
       "    .dataframe tbody tr th:only-of-type {\n",
       "        vertical-align: middle;\n",
       "    }\n",
       "\n",
       "    .dataframe tbody tr th {\n",
       "        vertical-align: top;\n",
       "    }\n",
       "\n",
       "    .dataframe thead th {\n",
       "        text-align: right;\n",
       "    }\n",
       "</style>\n",
       "<table border=\"1\" class=\"dataframe\">\n",
       "  <thead>\n",
       "    <tr style=\"text-align: right;\">\n",
       "      <th></th>\n",
       "      <th>tx_hash</th>\n",
       "      <th>token_address</th>\n",
       "      <th>symbol</th>\n",
       "      <th>from</th>\n",
       "      <th>to</th>\n",
       "      <th>destination</th>\n",
       "    </tr>\n",
       "  </thead>\n",
       "  <tbody>\n",
       "    <tr>\n",
       "      <th>0</th>\n",
       "      <td>0x0d73f08d46ffd3f12f197a4e03eab32b4ab69457d11d...</td>\n",
       "      <td>0xA0b86991c6218b36c1d19D4a2e9Eb0cE3606eB48</td>\n",
       "      <td>USDC</td>\n",
       "      <td>0x9008d19f58aabd9ed0d60971565aa8510560ab41</td>\n",
       "      <td>0xd14f076044414c255d2e82cceb1cb00fb1bba64c</td>\n",
       "      <td>CowSwap</td>\n",
       "    </tr>\n",
       "    <tr>\n",
       "      <th>1</th>\n",
       "      <td>0x850d108cf9568bb0a9855b81b746a4e00027e2e83585...</td>\n",
       "      <td>0xA0b86991c6218b36c1d19D4a2e9Eb0cE3606eB48</td>\n",
       "      <td>USDC</td>\n",
       "      <td>0x9008d19f58aabd9ed0d60971565aa8510560ab41</td>\n",
       "      <td>0xd14f076044414c255d2e82cceb1cb00fb1bba64c</td>\n",
       "      <td>CowSwap</td>\n",
       "    </tr>\n",
       "    <tr>\n",
       "      <th>2</th>\n",
       "      <td>0x84b396c7fad17e16bb22ede6978340d240a1d61c8f93...</td>\n",
       "      <td>0xC36442b4a4522E871399CD717aBDD847Ab11FE88</td>\n",
       "      <td>UNI-V3-POS</td>\n",
       "      <td>0x0000000000000000000000000000000000000000</td>\n",
       "      <td>0x36c4bd54d54dd898c242f5f634f5d0cef3be2a8a</td>\n",
       "      <td>UniswapV3Pool</td>\n",
       "    </tr>\n",
       "    <tr>\n",
       "      <th>3</th>\n",
       "      <td>0x2cfac29f66bffd5bac296c8b832e631589e2e185e277...</td>\n",
       "      <td>0xC36442b4a4522E871399CD717aBDD847Ab11FE88</td>\n",
       "      <td>UNI-V3-POS</td>\n",
       "      <td>0x0000000000000000000000000000000000000000</td>\n",
       "      <td>0x36c4bd54d54dd898c242f5f634f5d0cef3be2a8a</td>\n",
       "      <td>UniswapV3Pool</td>\n",
       "    </tr>\n",
       "    <tr>\n",
       "      <th>4</th>\n",
       "      <td>0xc2c13363f315249fc3481b0c94397edbc15269b87bad...</td>\n",
       "      <td>0xC36442b4a4522E871399CD717aBDD847Ab11FE88</td>\n",
       "      <td>UNI-V3-POS</td>\n",
       "      <td>0x0000000000000000000000000000000000000000</td>\n",
       "      <td>0xd2eeff73117c86c14f11a6052620848f8dd6e0c8</td>\n",
       "      <td>Others</td>\n",
       "    </tr>\n",
       "    <tr>\n",
       "      <th>...</th>\n",
       "      <td>...</td>\n",
       "      <td>...</td>\n",
       "      <td>...</td>\n",
       "      <td>...</td>\n",
       "      <td>...</td>\n",
       "      <td>...</td>\n",
       "    </tr>\n",
       "    <tr>\n",
       "      <th>13211</th>\n",
       "      <td>0x2c4140ca025ba41e0d5a28bb483f6101c310beefbddd...</td>\n",
       "      <td>0x2260FAC5E5542a773Aa44fBCfeDf7C193bc2C599</td>\n",
       "      <td>WBTC</td>\n",
       "      <td>0x3fc91a3afd70395cd496c647d5a6cc9d4b2b7fad</td>\n",
       "      <td>0x97e1e6c70fe9f2209792640336534bfc9f93aa7a</td>\n",
       "      <td>UniswapV3Pool</td>\n",
       "    </tr>\n",
       "    <tr>\n",
       "      <th>13212</th>\n",
       "      <td>0xd6f7e7e0fbc67557e766698fe936040ec5771d342df1...</td>\n",
       "      <td>0x2260FAC5E5542a773Aa44fBCfeDf7C193bc2C599</td>\n",
       "      <td>WBTC</td>\n",
       "      <td>0x3fc91a3afd70395cd496c647d5a6cc9d4b2b7fad</td>\n",
       "      <td>0x97e1e6c70fe9f2209792640336534bfc9f93aa7a</td>\n",
       "      <td>UniswapV3Pool</td>\n",
       "    </tr>\n",
       "    <tr>\n",
       "      <th>13213</th>\n",
       "      <td>0xd3e459dcd796c526f22cea607844229cfc3d9b536b8e...</td>\n",
       "      <td>0xA0b86991c6218b36c1d19D4a2e9Eb0cE3606eB48</td>\n",
       "      <td>USDC</td>\n",
       "      <td>0x9008d19f58aabd9ed0d60971565aa8510560ab41</td>\n",
       "      <td>0xe705b1d26b85c9f9f91a3690079d336295f14f08</td>\n",
       "      <td>CowSwap</td>\n",
       "    </tr>\n",
       "    <tr>\n",
       "      <th>13214</th>\n",
       "      <td>0x264dbb0f1eda1d684a1b70d26f8f6ec82093d6445172...</td>\n",
       "      <td>0xA0b86991c6218b36c1d19D4a2e9Eb0cE3606eB48</td>\n",
       "      <td>USDC</td>\n",
       "      <td>0x5b93d80da1a359340d1f339fb574bdc56763f995</td>\n",
       "      <td>0x2767edfee9f5ba743511ee4187a596b302b43938</td>\n",
       "      <td>UniswapV3Pool</td>\n",
       "    </tr>\n",
       "    <tr>\n",
       "      <th>13215</th>\n",
       "      <td>0x8570e66f2cb586feef722e4ba6ae533ffe82cadbecbf...</td>\n",
       "      <td>0xA0b86991c6218b36c1d19D4a2e9Eb0cE3606eB48</td>\n",
       "      <td>USDC</td>\n",
       "      <td>0xd5e74de4385ef0eb1bb4db05a6a504f04d92e79d</td>\n",
       "      <td>0x2767edfee9f5ba743511ee4187a596b302b43938</td>\n",
       "      <td>UniswapV3Pool</td>\n",
       "    </tr>\n",
       "  </tbody>\n",
       "</table>\n",
       "<p>13216 rows × 6 columns</p>\n",
       "</div>"
      ],
      "text/plain": [
       "                                                 tx_hash  \\\n",
       "0      0x0d73f08d46ffd3f12f197a4e03eab32b4ab69457d11d...   \n",
       "1      0x850d108cf9568bb0a9855b81b746a4e00027e2e83585...   \n",
       "2      0x84b396c7fad17e16bb22ede6978340d240a1d61c8f93...   \n",
       "3      0x2cfac29f66bffd5bac296c8b832e631589e2e185e277...   \n",
       "4      0xc2c13363f315249fc3481b0c94397edbc15269b87bad...   \n",
       "...                                                  ...   \n",
       "13211  0x2c4140ca025ba41e0d5a28bb483f6101c310beefbddd...   \n",
       "13212  0xd6f7e7e0fbc67557e766698fe936040ec5771d342df1...   \n",
       "13213  0xd3e459dcd796c526f22cea607844229cfc3d9b536b8e...   \n",
       "13214  0x264dbb0f1eda1d684a1b70d26f8f6ec82093d6445172...   \n",
       "13215  0x8570e66f2cb586feef722e4ba6ae533ffe82cadbecbf...   \n",
       "\n",
       "                                    token_address      symbol  \\\n",
       "0      0xA0b86991c6218b36c1d19D4a2e9Eb0cE3606eB48        USDC   \n",
       "1      0xA0b86991c6218b36c1d19D4a2e9Eb0cE3606eB48        USDC   \n",
       "2      0xC36442b4a4522E871399CD717aBDD847Ab11FE88  UNI-V3-POS   \n",
       "3      0xC36442b4a4522E871399CD717aBDD847Ab11FE88  UNI-V3-POS   \n",
       "4      0xC36442b4a4522E871399CD717aBDD847Ab11FE88  UNI-V3-POS   \n",
       "...                                           ...         ...   \n",
       "13211  0x2260FAC5E5542a773Aa44fBCfeDf7C193bc2C599        WBTC   \n",
       "13212  0x2260FAC5E5542a773Aa44fBCfeDf7C193bc2C599        WBTC   \n",
       "13213  0xA0b86991c6218b36c1d19D4a2e9Eb0cE3606eB48        USDC   \n",
       "13214  0xA0b86991c6218b36c1d19D4a2e9Eb0cE3606eB48        USDC   \n",
       "13215  0xA0b86991c6218b36c1d19D4a2e9Eb0cE3606eB48        USDC   \n",
       "\n",
       "                                             from  \\\n",
       "0      0x9008d19f58aabd9ed0d60971565aa8510560ab41   \n",
       "1      0x9008d19f58aabd9ed0d60971565aa8510560ab41   \n",
       "2      0x0000000000000000000000000000000000000000   \n",
       "3      0x0000000000000000000000000000000000000000   \n",
       "4      0x0000000000000000000000000000000000000000   \n",
       "...                                           ...   \n",
       "13211  0x3fc91a3afd70395cd496c647d5a6cc9d4b2b7fad   \n",
       "13212  0x3fc91a3afd70395cd496c647d5a6cc9d4b2b7fad   \n",
       "13213  0x9008d19f58aabd9ed0d60971565aa8510560ab41   \n",
       "13214  0x5b93d80da1a359340d1f339fb574bdc56763f995   \n",
       "13215  0xd5e74de4385ef0eb1bb4db05a6a504f04d92e79d   \n",
       "\n",
       "                                               to    destination  \n",
       "0      0xd14f076044414c255d2e82cceb1cb00fb1bba64c        CowSwap  \n",
       "1      0xd14f076044414c255d2e82cceb1cb00fb1bba64c        CowSwap  \n",
       "2      0x36c4bd54d54dd898c242f5f634f5d0cef3be2a8a  UniswapV3Pool  \n",
       "3      0x36c4bd54d54dd898c242f5f634f5d0cef3be2a8a  UniswapV3Pool  \n",
       "4      0xd2eeff73117c86c14f11a6052620848f8dd6e0c8         Others  \n",
       "...                                           ...            ...  \n",
       "13211  0x97e1e6c70fe9f2209792640336534bfc9f93aa7a  UniswapV3Pool  \n",
       "13212  0x97e1e6c70fe9f2209792640336534bfc9f93aa7a  UniswapV3Pool  \n",
       "13213  0xe705b1d26b85c9f9f91a3690079d336295f14f08        CowSwap  \n",
       "13214  0x2767edfee9f5ba743511ee4187a596b302b43938  UniswapV3Pool  \n",
       "13215  0x2767edfee9f5ba743511ee4187a596b302b43938  UniswapV3Pool  \n",
       "\n",
       "[13216 rows x 6 columns]"
      ]
     },
     "execution_count": 106,
     "metadata": {},
     "output_type": "execute_result"
    }
   ],
   "source": [
    "result_df"
   ]
  },
  {
   "cell_type": "code",
   "execution_count": 19,
   "id": "f68ee16f-ad02-4fb2-8078-d90b0577c71e",
   "metadata": {},
   "outputs": [
    {
     "data": {
      "text/plain": [
       "GHO                   2943\n",
       "USDC                  2187\n",
       "USDT                  1025\n",
       "WBTC                   439\n",
       "DAI                    437\n",
       "AAVE                   327\n",
       "variableDebtEthGHO     278\n",
       "WETH                   243\n",
       "wstETH                 225\n",
       "LINK                   157\n",
       "UNI-V3-POS             108\n",
       "GHO/bb-a-USD            77\n",
       "aEthWETH                73\n",
       "LUSD                    72\n",
       "GP                      64\n",
       "aEthwstETH              57\n",
       "rETH                    52\n",
       "crvUSD                  51\n",
       "GHO/USDT/USDC           48\n",
       "USDe                    42\n",
       "Name: symbol, dtype: int64"
      ]
     },
     "execution_count": 19,
     "metadata": {},
     "output_type": "execute_result"
    }
   ],
   "source": [
    "result_df['symbol'].value_counts()[:20]"
   ]
  },
  {
   "cell_type": "code",
   "execution_count": 41,
   "id": "a0fc0b0c-d72c-496f-9b71-adc3bac1a18a",
   "metadata": {},
   "outputs": [
    {
     "data": {
      "text/html": [
       "<div>\n",
       "<style scoped>\n",
       "    .dataframe tbody tr th:only-of-type {\n",
       "        vertical-align: middle;\n",
       "    }\n",
       "\n",
       "    .dataframe tbody tr th {\n",
       "        vertical-align: top;\n",
       "    }\n",
       "\n",
       "    .dataframe thead th {\n",
       "        text-align: right;\n",
       "    }\n",
       "</style>\n",
       "<table border=\"1\" class=\"dataframe\">\n",
       "  <thead>\n",
       "    <tr style=\"text-align: right;\">\n",
       "      <th></th>\n",
       "      <th>from</th>\n",
       "      <th>to</th>\n",
       "      <th>value</th>\n",
       "      <th>transferIndex</th>\n",
       "      <th>borrowCap</th>\n",
       "      <th>supplyCap</th>\n",
       "      <th>totalVariableDebt</th>\n",
       "      <th>variableBorrowRate</th>\n",
       "      <th>blockNumber</th>\n",
       "      <th>blockTimestamp</th>\n",
       "      <th>transactionHash</th>\n",
       "      <th>mint</th>\n",
       "      <th>destination</th>\n",
       "    </tr>\n",
       "  </thead>\n",
       "  <tbody>\n",
       "    <tr>\n",
       "      <th>79156</th>\n",
       "      <td>0x686f8d21520f4ecec7ba577be08354f4d1eb8262</td>\n",
       "      <td>0x9008d19f58aabd9ed0d60971565aa8510560ab41</td>\n",
       "      <td>691779724000000000000</td>\n",
       "      <td>79156</td>\n",
       "      <td>116000000</td>\n",
       "      <td>0</td>\n",
       "      <td>106694969088181240637862378</td>\n",
       "      <td>60000000000000000000000000</td>\n",
       "      <td>20641913</td>\n",
       "      <td>1725027179</td>\n",
       "      <td>0x9d1efc90e836150b21ada9a2cebff14a1d47d74331a6bd5e67530c2cf112152e</td>\n",
       "      <td>False</td>\n",
       "      <td>CowSwap</td>\n",
       "    </tr>\n",
       "  </tbody>\n",
       "</table>\n",
       "</div>"
      ],
      "text/plain": [
       "                                             from  \\\n",
       "79156  0x686f8d21520f4ecec7ba577be08354f4d1eb8262   \n",
       "\n",
       "                                               to                  value  \\\n",
       "79156  0x9008d19f58aabd9ed0d60971565aa8510560ab41  691779724000000000000   \n",
       "\n",
       "       transferIndex  borrowCap supplyCap            totalVariableDebt  \\\n",
       "79156          79156  116000000         0  106694969088181240637862378   \n",
       "\n",
       "               variableBorrowRate blockNumber blockTimestamp  \\\n",
       "79156  60000000000000000000000000    20641913     1725027179   \n",
       "\n",
       "                                                          transactionHash  \\\n",
       "79156  0x9d1efc90e836150b21ada9a2cebff14a1d47d74331a6bd5e67530c2cf112152e   \n",
       "\n",
       "        mint destination  \n",
       "79156  False     CowSwap  "
      ]
     },
     "execution_count": 41,
     "metadata": {},
     "output_type": "execute_result"
    }
   ],
   "source": [
    "dex_txs[dex_txs['transactionHash'] == '0x9d1efc90e836150b21ada9a2cebff14a1d47d74331a6bd5e67530c2cf112152e']"
   ]
  },
  {
   "cell_type": "code",
   "execution_count": 20,
   "id": "0eed3ea0-98cd-4be0-8b7d-3b6824a11737",
   "metadata": {},
   "outputs": [
    {
     "data": {
      "text/html": [
       "<div>\n",
       "<style scoped>\n",
       "    .dataframe tbody tr th:only-of-type {\n",
       "        vertical-align: middle;\n",
       "    }\n",
       "\n",
       "    .dataframe tbody tr th {\n",
       "        vertical-align: top;\n",
       "    }\n",
       "\n",
       "    .dataframe thead th {\n",
       "        text-align: right;\n",
       "    }\n",
       "</style>\n",
       "<table border=\"1\" class=\"dataframe\">\n",
       "  <thead>\n",
       "    <tr style=\"text-align: right;\">\n",
       "      <th></th>\n",
       "      <th></th>\n",
       "      <th>to</th>\n",
       "    </tr>\n",
       "    <tr>\n",
       "      <th>destination</th>\n",
       "      <th>symbol</th>\n",
       "      <th></th>\n",
       "    </tr>\n",
       "  </thead>\n",
       "  <tbody>\n",
       "    <tr>\n",
       "      <th rowspan=\"5\" valign=\"top\">0x Exchange</th>\n",
       "      <th>AAVE</th>\n",
       "      <td>7</td>\n",
       "    </tr>\n",
       "    <tr>\n",
       "      <th>BTRFLY</th>\n",
       "      <td>1</td>\n",
       "    </tr>\n",
       "    <tr>\n",
       "      <th>DAI</th>\n",
       "      <td>3</td>\n",
       "    </tr>\n",
       "    <tr>\n",
       "      <th>DMT</th>\n",
       "      <td>1</td>\n",
       "    </tr>\n",
       "    <tr>\n",
       "      <th>GHO</th>\n",
       "      <td>2</td>\n",
       "    </tr>\n",
       "    <tr>\n",
       "      <th>...</th>\n",
       "      <th>...</th>\n",
       "      <td>...</td>\n",
       "    </tr>\n",
       "    <tr>\n",
       "      <th rowspan=\"5\" valign=\"top\">UniswapV3Pool</th>\n",
       "      <th>swETH</th>\n",
       "      <td>1</td>\n",
       "    </tr>\n",
       "    <tr>\n",
       "      <th>variableDebtEthGHO</th>\n",
       "      <td>4</td>\n",
       "    </tr>\n",
       "    <tr>\n",
       "      <th>variableDebtEthcrvUSD</th>\n",
       "      <td>1</td>\n",
       "    </tr>\n",
       "    <tr>\n",
       "      <th>wTAO</th>\n",
       "      <td>2</td>\n",
       "    </tr>\n",
       "    <tr>\n",
       "      <th>wstETH</th>\n",
       "      <td>51</td>\n",
       "    </tr>\n",
       "  </tbody>\n",
       "</table>\n",
       "<p>485 rows × 1 columns</p>\n",
       "</div>"
      ],
      "text/plain": [
       "                                     to\n",
       "destination   symbol                   \n",
       "0x Exchange   AAVE                    7\n",
       "              BTRFLY                  1\n",
       "              DAI                     3\n",
       "              DMT                     1\n",
       "              GHO                     2\n",
       "...                                  ..\n",
       "UniswapV3Pool swETH                   1\n",
       "              variableDebtEthGHO      4\n",
       "              variableDebtEthcrvUSD   1\n",
       "              wTAO                    2\n",
       "              wstETH                 51\n",
       "\n",
       "[485 rows x 1 columns]"
      ]
     },
     "execution_count": 20,
     "metadata": {},
     "output_type": "execute_result"
    }
   ],
   "source": [
    "result_df[['symbol', 'destination', 'to']].groupby(['destination', 'symbol']).count()"
   ]
  },
  {
   "cell_type": "code",
   "execution_count": 21,
   "id": "cb387e3d-5db8-4ff9-9030-204627214a1f",
   "metadata": {},
   "outputs": [
    {
     "name": "stderr",
     "output_type": "stream",
     "text": [
      "/tmp/ipykernel_180125/3331406645.py:3: FutureWarning: Not prepending group keys to the result index of transform-like apply. In the future, the group keys will be included in the index, regardless of whether the applied function returns a like-indexed object.\n",
      "To preserve the previous behavior, use\n",
      "\n",
      "\t>>> .groupby(..., group_keys=False)\n",
      "\n",
      "To adopt the future behavior and silence this warning, use \n",
      "\n",
      "\t>>> .groupby(..., group_keys=True)\n",
      "  grouped['percentage'] = grouped.groupby(level=0).apply(lambda x: x / x.sum() * 100)\n"
     ]
    },
    {
     "data": {
      "text/html": [
       "<div>\n",
       "<style scoped>\n",
       "    .dataframe tbody tr th:only-of-type {\n",
       "        vertical-align: middle;\n",
       "    }\n",
       "\n",
       "    .dataframe tbody tr th {\n",
       "        vertical-align: top;\n",
       "    }\n",
       "\n",
       "    .dataframe thead th {\n",
       "        text-align: right;\n",
       "    }\n",
       "</style>\n",
       "<table border=\"1\" class=\"dataframe\">\n",
       "  <thead>\n",
       "    <tr style=\"text-align: right;\">\n",
       "      <th></th>\n",
       "      <th></th>\n",
       "      <th>count</th>\n",
       "      <th>percentage</th>\n",
       "    </tr>\n",
       "    <tr>\n",
       "      <th>destination</th>\n",
       "      <th>symbol</th>\n",
       "      <th></th>\n",
       "      <th></th>\n",
       "    </tr>\n",
       "  </thead>\n",
       "  <tbody>\n",
       "    <tr>\n",
       "      <th rowspan=\"5\" valign=\"top\">0x Exchange</th>\n",
       "      <th>AAVE</th>\n",
       "      <td>7</td>\n",
       "      <td>10.606061</td>\n",
       "    </tr>\n",
       "    <tr>\n",
       "      <th>BTRFLY</th>\n",
       "      <td>1</td>\n",
       "      <td>1.515152</td>\n",
       "    </tr>\n",
       "    <tr>\n",
       "      <th>DAI</th>\n",
       "      <td>3</td>\n",
       "      <td>4.545455</td>\n",
       "    </tr>\n",
       "    <tr>\n",
       "      <th>DMT</th>\n",
       "      <td>1</td>\n",
       "      <td>1.515152</td>\n",
       "    </tr>\n",
       "    <tr>\n",
       "      <th>GHO</th>\n",
       "      <td>2</td>\n",
       "      <td>3.030303</td>\n",
       "    </tr>\n",
       "    <tr>\n",
       "      <th>...</th>\n",
       "      <th>...</th>\n",
       "      <td>...</td>\n",
       "      <td>...</td>\n",
       "    </tr>\n",
       "    <tr>\n",
       "      <th rowspan=\"5\" valign=\"top\">UniswapV3Pool</th>\n",
       "      <th>swETH</th>\n",
       "      <td>1</td>\n",
       "      <td>0.051256</td>\n",
       "    </tr>\n",
       "    <tr>\n",
       "      <th>variableDebtEthGHO</th>\n",
       "      <td>4</td>\n",
       "      <td>0.205023</td>\n",
       "    </tr>\n",
       "    <tr>\n",
       "      <th>variableDebtEthcrvUSD</th>\n",
       "      <td>1</td>\n",
       "      <td>0.051256</td>\n",
       "    </tr>\n",
       "    <tr>\n",
       "      <th>wTAO</th>\n",
       "      <td>2</td>\n",
       "      <td>0.102512</td>\n",
       "    </tr>\n",
       "    <tr>\n",
       "      <th>wstETH</th>\n",
       "      <td>51</td>\n",
       "      <td>2.614044</td>\n",
       "    </tr>\n",
       "  </tbody>\n",
       "</table>\n",
       "<p>485 rows × 2 columns</p>\n",
       "</div>"
      ],
      "text/plain": [
       "                                     count  percentage\n",
       "destination   symbol                                  \n",
       "0x Exchange   AAVE                       7   10.606061\n",
       "              BTRFLY                     1    1.515152\n",
       "              DAI                        3    4.545455\n",
       "              DMT                        1    1.515152\n",
       "              GHO                        2    3.030303\n",
       "...                                    ...         ...\n",
       "UniswapV3Pool swETH                      1    0.051256\n",
       "              variableDebtEthGHO         4    0.205023\n",
       "              variableDebtEthcrvUSD      1    0.051256\n",
       "              wTAO                       2    0.102512\n",
       "              wstETH                    51    2.614044\n",
       "\n",
       "[485 rows x 2 columns]"
      ]
     },
     "execution_count": 21,
     "metadata": {},
     "output_type": "execute_result"
    }
   ],
   "source": [
    "grouped = result_df[['symbol', 'destination', 'to']].groupby(['destination', 'symbol']).count()\n",
    "grouped = grouped.rename(columns={'to': 'count'})\n",
    "grouped['percentage'] = grouped.groupby(level=0).apply(lambda x: x / x.sum() * 100)\n",
    "grouped = grouped.reset_index()\n",
    "grouped = grouped.set_index(['destination', 'symbol'])\n",
    "grouped"
   ]
  },
  {
   "cell_type": "code",
   "execution_count": 22,
   "id": "6278a7b2-6c07-4287-af3f-c9b6c5e1f00b",
   "metadata": {},
   "outputs": [],
   "source": [
    "tokens_df = result_df[['symbol', 'destination', 'to']].groupby(['destination', 'symbol']).count()"
   ]
  },
  {
   "cell_type": "code",
   "execution_count": 23,
   "id": "234eec96-43ef-4edf-b31d-6e432dfcd73c",
   "metadata": {},
   "outputs": [
    {
     "data": {
      "text/html": [
       "<div>\n",
       "<style scoped>\n",
       "    .dataframe tbody tr th:only-of-type {\n",
       "        vertical-align: middle;\n",
       "    }\n",
       "\n",
       "    .dataframe tbody tr th {\n",
       "        vertical-align: top;\n",
       "    }\n",
       "\n",
       "    .dataframe thead th {\n",
       "        text-align: right;\n",
       "    }\n",
       "</style>\n",
       "<table border=\"1\" class=\"dataframe\">\n",
       "  <thead>\n",
       "    <tr style=\"text-align: right;\">\n",
       "      <th></th>\n",
       "      <th>to</th>\n",
       "    </tr>\n",
       "    <tr>\n",
       "      <th>symbol</th>\n",
       "      <th></th>\n",
       "    </tr>\n",
       "  </thead>\n",
       "  <tbody>\n",
       "    <tr>\n",
       "      <th>AAVE</th>\n",
       "      <td>123</td>\n",
       "    </tr>\n",
       "    <tr>\n",
       "      <th>ACX</th>\n",
       "      <td>4</td>\n",
       "    </tr>\n",
       "    <tr>\n",
       "      <th>ANKR</th>\n",
       "      <td>1</td>\n",
       "    </tr>\n",
       "    <tr>\n",
       "      <th>ARB</th>\n",
       "      <td>2</td>\n",
       "    </tr>\n",
       "    <tr>\n",
       "      <th>ARES</th>\n",
       "      <td>1</td>\n",
       "    </tr>\n",
       "    <tr>\n",
       "      <th>...</th>\n",
       "      <td>...</td>\n",
       "    </tr>\n",
       "    <tr>\n",
       "      <th>swETH</th>\n",
       "      <td>1</td>\n",
       "    </tr>\n",
       "    <tr>\n",
       "      <th>variableDebtEthGHO</th>\n",
       "      <td>4</td>\n",
       "    </tr>\n",
       "    <tr>\n",
       "      <th>variableDebtEthcrvUSD</th>\n",
       "      <td>1</td>\n",
       "    </tr>\n",
       "    <tr>\n",
       "      <th>wTAO</th>\n",
       "      <td>2</td>\n",
       "    </tr>\n",
       "    <tr>\n",
       "      <th>wstETH</th>\n",
       "      <td>51</td>\n",
       "    </tr>\n",
       "  </tbody>\n",
       "</table>\n",
       "<p>97 rows × 1 columns</p>\n",
       "</div>"
      ],
      "text/plain": [
       "                        to\n",
       "symbol                    \n",
       "AAVE                   123\n",
       "ACX                      4\n",
       "ANKR                     1\n",
       "ARB                      2\n",
       "ARES                     1\n",
       "...                    ...\n",
       "swETH                    1\n",
       "variableDebtEthGHO       4\n",
       "variableDebtEthcrvUSD    1\n",
       "wTAO                     2\n",
       "wstETH                  51\n",
       "\n",
       "[97 rows x 1 columns]"
      ]
     },
     "execution_count": 23,
     "metadata": {},
     "output_type": "execute_result"
    }
   ],
   "source": [
    "tokens_df.loc['UniswapV3Pool']"
   ]
  },
  {
   "cell_type": "code",
   "execution_count": 24,
   "id": "055e2ea9-5898-47a1-83ad-a553386b8cd8",
   "metadata": {},
   "outputs": [
    {
     "data": {
      "text/html": [
       "<div>\n",
       "<style scoped>\n",
       "    .dataframe tbody tr th:only-of-type {\n",
       "        vertical-align: middle;\n",
       "    }\n",
       "\n",
       "    .dataframe tbody tr th {\n",
       "        vertical-align: top;\n",
       "    }\n",
       "\n",
       "    .dataframe thead th {\n",
       "        text-align: right;\n",
       "    }\n",
       "</style>\n",
       "<table border=\"1\" class=\"dataframe\">\n",
       "  <thead>\n",
       "    <tr style=\"text-align: right;\">\n",
       "      <th></th>\n",
       "      <th>count</th>\n",
       "      <th>percentage</th>\n",
       "    </tr>\n",
       "    <tr>\n",
       "      <th>symbol</th>\n",
       "      <th></th>\n",
       "      <th></th>\n",
       "    </tr>\n",
       "  </thead>\n",
       "  <tbody>\n",
       "    <tr>\n",
       "      <th>AAVE</th>\n",
       "      <td>1</td>\n",
       "      <td>0.442478</td>\n",
       "    </tr>\n",
       "    <tr>\n",
       "      <th>CRV</th>\n",
       "      <td>2</td>\n",
       "      <td>0.884956</td>\n",
       "    </tr>\n",
       "    <tr>\n",
       "      <th>DAI</th>\n",
       "      <td>5</td>\n",
       "      <td>2.212389</td>\n",
       "    </tr>\n",
       "    <tr>\n",
       "      <th>DOLA</th>\n",
       "      <td>1</td>\n",
       "      <td>0.442478</td>\n",
       "    </tr>\n",
       "    <tr>\n",
       "      <th>ETHx</th>\n",
       "      <td>1</td>\n",
       "      <td>0.442478</td>\n",
       "    </tr>\n",
       "    <tr>\n",
       "      <th>FRAX</th>\n",
       "      <td>3</td>\n",
       "      <td>1.327434</td>\n",
       "    </tr>\n",
       "    <tr>\n",
       "      <th>FXS</th>\n",
       "      <td>1</td>\n",
       "      <td>0.442478</td>\n",
       "    </tr>\n",
       "    <tr>\n",
       "      <th>GHO</th>\n",
       "      <td>2</td>\n",
       "      <td>0.884956</td>\n",
       "    </tr>\n",
       "    <tr>\n",
       "      <th>GHOUSDe</th>\n",
       "      <td>4</td>\n",
       "      <td>1.769912</td>\n",
       "    </tr>\n",
       "    <tr>\n",
       "      <th>GHOcrvUSD</th>\n",
       "      <td>2</td>\n",
       "      <td>0.884956</td>\n",
       "    </tr>\n",
       "    <tr>\n",
       "      <th>GUSD</th>\n",
       "      <td>1</td>\n",
       "      <td>0.442478</td>\n",
       "    </tr>\n",
       "    <tr>\n",
       "      <th>PYUSD</th>\n",
       "      <td>5</td>\n",
       "      <td>2.212389</td>\n",
       "    </tr>\n",
       "    <tr>\n",
       "      <th>USD0</th>\n",
       "      <td>1</td>\n",
       "      <td>0.442478</td>\n",
       "    </tr>\n",
       "    <tr>\n",
       "      <th>USD3</th>\n",
       "      <td>2</td>\n",
       "      <td>0.884956</td>\n",
       "    </tr>\n",
       "    <tr>\n",
       "      <th>USDC</th>\n",
       "      <td>63</td>\n",
       "      <td>27.876106</td>\n",
       "    </tr>\n",
       "    <tr>\n",
       "      <th>USDT</th>\n",
       "      <td>48</td>\n",
       "      <td>21.238938</td>\n",
       "    </tr>\n",
       "    <tr>\n",
       "      <th>USDe</th>\n",
       "      <td>22</td>\n",
       "      <td>9.734513</td>\n",
       "    </tr>\n",
       "    <tr>\n",
       "      <th>WBTC</th>\n",
       "      <td>4</td>\n",
       "      <td>1.769912</td>\n",
       "    </tr>\n",
       "    <tr>\n",
       "      <th>WETH</th>\n",
       "      <td>3</td>\n",
       "      <td>1.327434</td>\n",
       "    </tr>\n",
       "    <tr>\n",
       "      <th>crvUSD</th>\n",
       "      <td>7</td>\n",
       "      <td>3.097345</td>\n",
       "    </tr>\n",
       "    <tr>\n",
       "      <th>crvUSDGHO-f</th>\n",
       "      <td>21</td>\n",
       "      <td>9.292035</td>\n",
       "    </tr>\n",
       "    <tr>\n",
       "      <th>cvxCRV</th>\n",
       "      <td>1</td>\n",
       "      <td>0.442478</td>\n",
       "    </tr>\n",
       "    <tr>\n",
       "      <th>fxUSD</th>\n",
       "      <td>3</td>\n",
       "      <td>1.327434</td>\n",
       "    </tr>\n",
       "    <tr>\n",
       "      <th>fxUSDGHO</th>\n",
       "      <td>17</td>\n",
       "      <td>7.522124</td>\n",
       "    </tr>\n",
       "    <tr>\n",
       "      <th>mkUSD</th>\n",
       "      <td>2</td>\n",
       "      <td>0.884956</td>\n",
       "    </tr>\n",
       "    <tr>\n",
       "      <th>sDAI</th>\n",
       "      <td>1</td>\n",
       "      <td>0.442478</td>\n",
       "    </tr>\n",
       "    <tr>\n",
       "      <th>sdCRV</th>\n",
       "      <td>2</td>\n",
       "      <td>0.884956</td>\n",
       "    </tr>\n",
       "    <tr>\n",
       "      <th>wstETH</th>\n",
       "      <td>1</td>\n",
       "      <td>0.442478</td>\n",
       "    </tr>\n",
       "  </tbody>\n",
       "</table>\n",
       "</div>"
      ],
      "text/plain": [
       "             count  percentage\n",
       "symbol                        \n",
       "AAVE             1    0.442478\n",
       "CRV              2    0.884956\n",
       "DAI              5    2.212389\n",
       "DOLA             1    0.442478\n",
       "ETHx             1    0.442478\n",
       "FRAX             3    1.327434\n",
       "FXS              1    0.442478\n",
       "GHO              2    0.884956\n",
       "GHOUSDe          4    1.769912\n",
       "GHOcrvUSD        2    0.884956\n",
       "GUSD             1    0.442478\n",
       "PYUSD            5    2.212389\n",
       "USD0             1    0.442478\n",
       "USD3             2    0.884956\n",
       "USDC            63   27.876106\n",
       "USDT            48   21.238938\n",
       "USDe            22    9.734513\n",
       "WBTC             4    1.769912\n",
       "WETH             3    1.327434\n",
       "crvUSD           7    3.097345\n",
       "crvUSDGHO-f     21    9.292035\n",
       "cvxCRV           1    0.442478\n",
       "fxUSD            3    1.327434\n",
       "fxUSDGHO        17    7.522124\n",
       "mkUSD            2    0.884956\n",
       "sDAI             1    0.442478\n",
       "sdCRV            2    0.884956\n",
       "wstETH           1    0.442478"
      ]
     },
     "execution_count": 24,
     "metadata": {},
     "output_type": "execute_result"
    }
   ],
   "source": [
    "grouped.loc['Curve']"
   ]
  },
  {
   "cell_type": "code",
   "execution_count": 25,
   "id": "68240a66-73e2-4543-a289-fcf1a39ea128",
   "metadata": {},
   "outputs": [
    {
     "data": {
      "text/plain": [
       "{'variableDebtDAI',\n",
       " 'variableDebtEthDAI',\n",
       " 'variableDebtEthGHO',\n",
       " 'variableDebtEthLDO',\n",
       " 'variableDebtEthUSDC',\n",
       " 'variableDebtEthUSDT',\n",
       " 'variableDebtEthcrvUSD'}"
      ]
     },
     "execution_count": 25,
     "metadata": {},
     "output_type": "execute_result"
    }
   ],
   "source": [
    "set(result_df['symbol'][result_df['symbol'].str.lower().str.startswith('var')].to_list())"
   ]
  },
  {
   "cell_type": "code",
   "execution_count": 26,
   "id": "d9e7ba93-f20a-4944-b81a-935a516b1d6b",
   "metadata": {},
   "outputs": [],
   "source": [
    "LP_SYMBOLS = {'UNI-V3-POS','ECLP-GHO-GYD',\n",
    " 'ECLP-GHO-USDC',\n",
    "              'GHOBTCwstE',\n",
    " 'ECLP-GHO-USDC-2',\n",
    " 'GHO-3POOL-BPT',\n",
    " 'GHO/bb-a-USD',\n",
    "              'auraGHO/USDT/USDC-vault',\n",
    " 'MBP-GHO-USDC-15-R1',\n",
    " 'MBP-GHO-USDC-18-R1',\n",
    " 'MBP-GHO-USDC-21',\n",
    " 'MBP-GHO-USDC-21-R1',\n",
    "              'SPT-PT/IBT-f',\n",
    " 'MBP-GHO-USDC-23-R1',\n",
    " 'MBP-GHO-USDC-4-R1',\n",
    " 'UNI-V3-POS',\n",
    " 'USDC-DAI-USDT',\n",
    " 'bb-a-USD',\n",
    " 'crvUSDGHO-f',\n",
    "              'GHO/bb-a-USD',  'GHO/LUSD', 'GHO/USDT/USDC', 'GHO/bb-a-USD', 'GHO/USDT/USDC', 'GHOUSDe', 'fxUSDGHO', 'crvUSDGHO-f', 'GHOcrvUSD', 'GHOUSDe', '80wstETH/20GHO'}\n",
    "\n",
    "ETH_AND_LSTS = {'boxETH',\n",
    " 'cbETH',\n",
    " 'ezETH',\n",
    " 'osETH',\n",
    " 'rETH',\n",
    " 'ETH2X',\n",
    " 'sfrxETH',\n",
    " 'stETH',\n",
    " 'swETH',\n",
    " 'ETHx',\n",
    " 'WETH',\n",
    " 'weETH',\n",
    " 'wstETH'}\n",
    "\n",
    "BTC = {'LBTC', 'WBTC', 'tBTC'}\n",
    "\n",
    "OTHER_STABLES = { 'mkUSD',\n",
    " 'rgUSD',\n",
    " 'sUSDe', \n",
    " 'fxUSD',\n",
    "                 'sUSD',\n",
    " 'stUSD', \n",
    " 'bb-a-USD',\n",
    " 'USDP', \n",
    " 'PYUSD',\n",
    " 'DOLA',\n",
    " 'crvUSD',\n",
    " 'USD0',\n",
    " 'USD3',\n",
    " 'USDA',\n",
    "                 'FRAX',\n",
    " 'USDe',\n",
    " 'GUSD',\n",
    "                 'sDAI'\n",
    " }\n",
    "\n",
    "A_TOKENS = {\n",
    " 'aEthAAVE',\n",
    " 'aEthDAI',\n",
    " 'aEthUSDC',\n",
    "    'aEthETHx',\n",
    " 'aEthUSDT',\n",
    " 'aEthUSDe',\n",
    " 'aEthWBTC',\n",
    " 'aEthWETH',\n",
    " 'aEthcrvUSD',\n",
    " 'aEthrETH',\n",
    " 'aEthwstETH'}\n",
    "\n",
    "GHO = {'pGHO', 'YT-sw-stkGHO-1732492824', 'GHO-agg', 'nGHO', 'pdGHO', 'PT-sw-stkGHO-1732492824'}\n",
    "\n",
    "VAR_DEBT_TOKENS = {'variableDebtEthGHO', 'variableDebtEthUSDC', 'variableDebtEthcrvUSD', 'variableDebtEthDAI'}\n",
    "\n",
    "MAJORS = {'GHO', 'USDC', 'USDT', 'DAI', 'AAVE', 'LINK', 'LUSD'}\n"
   ]
  },
  {
   "cell_type": "code",
   "execution_count": 27,
   "id": "e3f69306-821c-434f-8630-6d122955f57a",
   "metadata": {},
   "outputs": [
    {
     "data": {
      "text/plain": [
       "GP         64\n",
       "MKR        34\n",
       "CRV        32\n",
       "stkAAVE    23\n",
       "UNI        16\n",
       "LDO        14\n",
       "CVX        13\n",
       "RPL        12\n",
       "EURe       12\n",
       "AURA       11\n",
       "DIP        10\n",
       "FXS         7\n",
       "BITCOIN     7\n",
       "OHM         7\n",
       "TSUKA       6\n",
       "SNX         6\n",
       "RLB         6\n",
       "PEPE        6\n",
       "MPL         5\n",
       "sdCRV       5\n",
       "MATIC       5\n",
       "BAL         5\n",
       "wTAO        5\n",
       "ILV         5\n",
       "cvxCRV      4\n",
       "SOL         4\n",
       "R           4\n",
       "ENA         4\n",
       "PENDLE      4\n",
       "RNDR        4\n",
       "MPv2        4\n",
       "ONDO        4\n",
       "ACX         4\n",
       "GNO         3\n",
       "RIO         3\n",
       "WOJAK       3\n",
       "SHIB        3\n",
       "PRISMA      2\n",
       "ELA         2\n",
       "EUL         2\n",
       "ETHFI       2\n",
       "ENS         2\n",
       "MAV         2\n",
       "PRIME       2\n",
       "JPGD        2\n",
       "GEAR        2\n",
       "BLUR        2\n",
       "VSP         2\n",
       "GYD         2\n",
       "ULTRA       2\n",
       "Name: symbol, dtype: int64"
      ]
     },
     "execution_count": 27,
     "metadata": {},
     "output_type": "execute_result"
    }
   ],
   "source": [
    "result_df[~result_df['symbol'].isin(VAR_DEBT_TOKENS | A_TOKENS | BTC | OTHER_STABLES | ETH_AND_LSTS | LP_SYMBOLS | MAJORS | GHO )]['symbol'].value_counts()[:50]"
   ]
  },
  {
   "cell_type": "markdown",
   "id": "79746ebe-26a6-4b86-8440-1061b4ded636",
   "metadata": {},
   "source": [
    "### Relabelling our symbols"
   ]
  },
  {
   "cell_type": "code",
   "execution_count": 28,
   "id": "8ae506c5-efff-4f37-8b01-8a7907e01a45",
   "metadata": {},
   "outputs": [
    {
     "data": {
      "text/html": [
       "<div>\n",
       "<style scoped>\n",
       "    .dataframe tbody tr th:only-of-type {\n",
       "        vertical-align: middle;\n",
       "    }\n",
       "\n",
       "    .dataframe tbody tr th {\n",
       "        vertical-align: top;\n",
       "    }\n",
       "\n",
       "    .dataframe thead th {\n",
       "        text-align: right;\n",
       "    }\n",
       "</style>\n",
       "<table border=\"1\" class=\"dataframe\">\n",
       "  <thead>\n",
       "    <tr style=\"text-align: right;\">\n",
       "      <th></th>\n",
       "      <th>tx_hash</th>\n",
       "      <th>token_address</th>\n",
       "      <th>symbol</th>\n",
       "      <th>from</th>\n",
       "      <th>to</th>\n",
       "      <th>destination</th>\n",
       "    </tr>\n",
       "  </thead>\n",
       "  <tbody>\n",
       "    <tr>\n",
       "      <th>0</th>\n",
       "      <td>0x84b396c7fad17e16bb22ede6978340d240a1d61c8f93...</td>\n",
       "      <td>0xC36442b4a4522E871399CD717aBDD847Ab11FE88</td>\n",
       "      <td>Providing Liquidity</td>\n",
       "      <td>0x0000000000000000000000000000000000000000</td>\n",
       "      <td>0x36c4bd54d54dd898c242f5f634f5d0cef3be2a8a</td>\n",
       "      <td>UniswapV3Pool</td>\n",
       "    </tr>\n",
       "    <tr>\n",
       "      <th>1</th>\n",
       "      <td>0x2cfac29f66bffd5bac296c8b832e631589e2e185e277...</td>\n",
       "      <td>0xC36442b4a4522E871399CD717aBDD847Ab11FE88</td>\n",
       "      <td>Providing Liquidity</td>\n",
       "      <td>0x0000000000000000000000000000000000000000</td>\n",
       "      <td>0x36c4bd54d54dd898c242f5f634f5d0cef3be2a8a</td>\n",
       "      <td>UniswapV3Pool</td>\n",
       "    </tr>\n",
       "    <tr>\n",
       "      <th>2</th>\n",
       "      <td>0x072ac24481a9a8220932a0f7f916593124203708314b...</td>\n",
       "      <td>0xA0b86991c6218b36c1d19D4a2e9Eb0cE3606eB48</td>\n",
       "      <td>USDC</td>\n",
       "      <td>0x5c95d4b1c3321cf898d25949f41d50be2db5bc1d</td>\n",
       "      <td>0xfb13776ac0a308919fc8a4eb9e8f7eac7d8f1bda</td>\n",
       "      <td>UniswapV3Pool</td>\n",
       "    </tr>\n",
       "    <tr>\n",
       "      <th>3</th>\n",
       "      <td>0x4e546baa664234ad58960ba1fd78fb2dc5be771ddd0b...</td>\n",
       "      <td>0x7D1AfA7B718fb893dB30A3aBc0Cfc608AaCfeBB0</td>\n",
       "      <td>Other Cryptos</td>\n",
       "      <td>0x290a6a7460b308ee3f19023d2d00de604bcf5b42</td>\n",
       "      <td>0x698373ba1186edb9f9dd8ed46fb69f1580015153</td>\n",
       "      <td>UniswapV3Pool</td>\n",
       "    </tr>\n",
       "    <tr>\n",
       "      <th>4</th>\n",
       "      <td>0x97cf14deadbd3230a3394e9458f5c0565d1e3c4becfb...</td>\n",
       "      <td>0x6B175474E89094C44Da98b954EedeAC495271d0F</td>\n",
       "      <td>DAI</td>\n",
       "      <td>0x5777d92f208679db4b9778590fa3cab3ac9e2168</td>\n",
       "      <td>0x3cd361345df2a61d2fa0e2d1692da4404f1a4a11</td>\n",
       "      <td>UniswapV3Pool</td>\n",
       "    </tr>\n",
       "    <tr>\n",
       "      <th>...</th>\n",
       "      <td>...</td>\n",
       "      <td>...</td>\n",
       "      <td>...</td>\n",
       "      <td>...</td>\n",
       "      <td>...</td>\n",
       "      <td>...</td>\n",
       "    </tr>\n",
       "    <tr>\n",
       "      <th>9803</th>\n",
       "      <td>0xb3c4f953af0c855cc35a8d350317135fa77376e1c344...</td>\n",
       "      <td>0xC02aaA39b223FE8D0A0e5C4F27eAD9083C756Cc2</td>\n",
       "      <td>ETH/LSTs/LRTs</td>\n",
       "      <td>0xc351e45db65d68585e180795537563d33b3716e7</td>\n",
       "      <td>0x60a4dadea54fd242d11462667598a73473543542</td>\n",
       "      <td>ParaSwap</td>\n",
       "    </tr>\n",
       "    <tr>\n",
       "      <th>9804</th>\n",
       "      <td>0xb3c4f953af0c855cc35a8d350317135fa77376e1c344...</td>\n",
       "      <td>0x4d5F47FA6A74757f35C14fD3a6Ef8E3C9BC514E8</td>\n",
       "      <td>aTokens</td>\n",
       "      <td>0x0000000000000000000000000000000000000000</td>\n",
       "      <td>0x60a4dadea54fd242d11462667598a73473543542</td>\n",
       "      <td>ParaSwap</td>\n",
       "    </tr>\n",
       "    <tr>\n",
       "      <th>9805</th>\n",
       "      <td>0xb3c4f953af0c855cc35a8d350317135fa77376e1c344...</td>\n",
       "      <td>0x786dBff3f1292ae8F92ea68Cf93c30b34B1ed04B</td>\n",
       "      <td>Variable Debt Tokens</td>\n",
       "      <td>0x0000000000000000000000000000000000000000</td>\n",
       "      <td>0x60a4dadea54fd242d11462667598a73473543542</td>\n",
       "      <td>ParaSwap</td>\n",
       "    </tr>\n",
       "    <tr>\n",
       "      <th>9806</th>\n",
       "      <td>0xb3c4f953af0c855cc35a8d350317135fa77376e1c344...</td>\n",
       "      <td>0x40D16FC0246aD3160Ccc09B8D0D3A2cD28aE6C2f</td>\n",
       "      <td>GHO</td>\n",
       "      <td>0x0000000000000000000000000000000000000000</td>\n",
       "      <td>0x60a4dadea54fd242d11462667598a73473543542</td>\n",
       "      <td>ParaSwap</td>\n",
       "    </tr>\n",
       "    <tr>\n",
       "      <th>9807</th>\n",
       "      <td>0xb6f333fa6a48d24cea233ef5e7a24991c67aa67daf96...</td>\n",
       "      <td>0x3fFEea07a27Fab7ad1df5297fa75e77a43CB5790</td>\n",
       "      <td>Other Cryptos</td>\n",
       "      <td>0x3fc91a3afd70395cd496c647d5a6cc9d4b2b7fad</td>\n",
       "      <td>0xc8ec5e82855ca0781d82cf00477d4a0c67852f13</td>\n",
       "      <td>UniswapV3Pool</td>\n",
       "    </tr>\n",
       "  </tbody>\n",
       "</table>\n",
       "<p>9808 rows × 6 columns</p>\n",
       "</div>"
      ],
      "text/plain": [
       "                                                tx_hash  \\\n",
       "0     0x84b396c7fad17e16bb22ede6978340d240a1d61c8f93...   \n",
       "1     0x2cfac29f66bffd5bac296c8b832e631589e2e185e277...   \n",
       "2     0x072ac24481a9a8220932a0f7f916593124203708314b...   \n",
       "3     0x4e546baa664234ad58960ba1fd78fb2dc5be771ddd0b...   \n",
       "4     0x97cf14deadbd3230a3394e9458f5c0565d1e3c4becfb...   \n",
       "...                                                 ...   \n",
       "9803  0xb3c4f953af0c855cc35a8d350317135fa77376e1c344...   \n",
       "9804  0xb3c4f953af0c855cc35a8d350317135fa77376e1c344...   \n",
       "9805  0xb3c4f953af0c855cc35a8d350317135fa77376e1c344...   \n",
       "9806  0xb3c4f953af0c855cc35a8d350317135fa77376e1c344...   \n",
       "9807  0xb6f333fa6a48d24cea233ef5e7a24991c67aa67daf96...   \n",
       "\n",
       "                                   token_address                symbol  \\\n",
       "0     0xC36442b4a4522E871399CD717aBDD847Ab11FE88   Providing Liquidity   \n",
       "1     0xC36442b4a4522E871399CD717aBDD847Ab11FE88   Providing Liquidity   \n",
       "2     0xA0b86991c6218b36c1d19D4a2e9Eb0cE3606eB48                  USDC   \n",
       "3     0x7D1AfA7B718fb893dB30A3aBc0Cfc608AaCfeBB0         Other Cryptos   \n",
       "4     0x6B175474E89094C44Da98b954EedeAC495271d0F                   DAI   \n",
       "...                                          ...                   ...   \n",
       "9803  0xC02aaA39b223FE8D0A0e5C4F27eAD9083C756Cc2         ETH/LSTs/LRTs   \n",
       "9804  0x4d5F47FA6A74757f35C14fD3a6Ef8E3C9BC514E8               aTokens   \n",
       "9805  0x786dBff3f1292ae8F92ea68Cf93c30b34B1ed04B  Variable Debt Tokens   \n",
       "9806  0x40D16FC0246aD3160Ccc09B8D0D3A2cD28aE6C2f                   GHO   \n",
       "9807  0x3fFEea07a27Fab7ad1df5297fa75e77a43CB5790         Other Cryptos   \n",
       "\n",
       "                                            from  \\\n",
       "0     0x0000000000000000000000000000000000000000   \n",
       "1     0x0000000000000000000000000000000000000000   \n",
       "2     0x5c95d4b1c3321cf898d25949f41d50be2db5bc1d   \n",
       "3     0x290a6a7460b308ee3f19023d2d00de604bcf5b42   \n",
       "4     0x5777d92f208679db4b9778590fa3cab3ac9e2168   \n",
       "...                                          ...   \n",
       "9803  0xc351e45db65d68585e180795537563d33b3716e7   \n",
       "9804  0x0000000000000000000000000000000000000000   \n",
       "9805  0x0000000000000000000000000000000000000000   \n",
       "9806  0x0000000000000000000000000000000000000000   \n",
       "9807  0x3fc91a3afd70395cd496c647d5a6cc9d4b2b7fad   \n",
       "\n",
       "                                              to    destination  \n",
       "0     0x36c4bd54d54dd898c242f5f634f5d0cef3be2a8a  UniswapV3Pool  \n",
       "1     0x36c4bd54d54dd898c242f5f634f5d0cef3be2a8a  UniswapV3Pool  \n",
       "2     0xfb13776ac0a308919fc8a4eb9e8f7eac7d8f1bda  UniswapV3Pool  \n",
       "3     0x698373ba1186edb9f9dd8ed46fb69f1580015153  UniswapV3Pool  \n",
       "4     0x3cd361345df2a61d2fa0e2d1692da4404f1a4a11  UniswapV3Pool  \n",
       "...                                          ...            ...  \n",
       "9803  0x60a4dadea54fd242d11462667598a73473543542       ParaSwap  \n",
       "9804  0x60a4dadea54fd242d11462667598a73473543542       ParaSwap  \n",
       "9805  0x60a4dadea54fd242d11462667598a73473543542       ParaSwap  \n",
       "9806  0x60a4dadea54fd242d11462667598a73473543542       ParaSwap  \n",
       "9807  0xc8ec5e82855ca0781d82cf00477d4a0c67852f13  UniswapV3Pool  \n",
       "\n",
       "[9808 rows x 6 columns]"
      ]
     },
     "execution_count": 28,
     "metadata": {},
     "output_type": "execute_result"
    }
   ],
   "source": [
    "def relabel(label):\n",
    "    if label in A_TOKENS:\n",
    "        return 'aTokens'\n",
    "    elif label in MAJORS:\n",
    "        return label\n",
    "    elif label in VAR_DEBT_TOKENS:\n",
    "        return 'Variable Debt Tokens'\n",
    "    elif label in OTHER_STABLES:\n",
    "        return 'Other Stablecoins'\n",
    "    elif label in BTC:\n",
    "        return 'BTC'\n",
    "    elif label in ETH_AND_LSTS:\n",
    "        return 'ETH/LSTs/LRTs'\n",
    "    elif label in GHO:\n",
    "        return 'GHO-Yield Aggregation'\n",
    "    elif label in LP_SYMBOLS:\n",
    "        return 'Providing Liquidity'\n",
    "    return 'Other Cryptos'\n",
    "\n",
    "label_df = result_df.copy()\n",
    "label_df['symbol'] = label_df['symbol'].apply(relabel)\n",
    "\n",
    "label_df"
   ]
  },
  {
   "cell_type": "code",
   "execution_count": 29,
   "id": "ff72b9fc-b8e8-4432-91a9-04211522d078",
   "metadata": {},
   "outputs": [
    {
     "data": {
      "text/plain": [
       "GHO                      2943\n",
       "USDC                     2187\n",
       "USDT                     1025\n",
       "ETH/LSTs/LRTs             567\n",
       "Other Cryptos             490\n",
       "BTC                       443\n",
       "DAI                       437\n",
       "Providing Liquidity       385\n",
       "AAVE                      327\n",
       "Variable Debt Tokens      286\n",
       "Other Stablecoins         244\n",
       "aTokens                   228\n",
       "LINK                      157\n",
       "LUSD                       72\n",
       "GHO-Yield Aggregation      17\n",
       "Name: symbol, dtype: int64"
      ]
     },
     "execution_count": 29,
     "metadata": {},
     "output_type": "execute_result"
    }
   ],
   "source": [
    "label_df['symbol'].value_counts()"
   ]
  },
  {
   "cell_type": "code",
   "execution_count": 30,
   "id": "cc6614c1-b3a5-4d81-9315-bc360b629238",
   "metadata": {},
   "outputs": [
    {
     "name": "stderr",
     "output_type": "stream",
     "text": [
      "/tmp/ipykernel_180125/376489346.py:3: FutureWarning: Not prepending group keys to the result index of transform-like apply. In the future, the group keys will be included in the index, regardless of whether the applied function returns a like-indexed object.\n",
      "To preserve the previous behavior, use\n",
      "\n",
      "\t>>> .groupby(..., group_keys=False)\n",
      "\n",
      "To adopt the future behavior and silence this warning, use \n",
      "\n",
      "\t>>> .groupby(..., group_keys=True)\n",
      "  grouped['percentage'] = grouped.groupby(level=0).apply(lambda x: x / x.sum() * 100)\n"
     ]
    },
    {
     "data": {
      "text/html": [
       "<div>\n",
       "<style scoped>\n",
       "    .dataframe tbody tr th:only-of-type {\n",
       "        vertical-align: middle;\n",
       "    }\n",
       "\n",
       "    .dataframe tbody tr th {\n",
       "        vertical-align: top;\n",
       "    }\n",
       "\n",
       "    .dataframe thead th {\n",
       "        text-align: right;\n",
       "    }\n",
       "</style>\n",
       "<table border=\"1\" class=\"dataframe\">\n",
       "  <thead>\n",
       "    <tr style=\"text-align: right;\">\n",
       "      <th></th>\n",
       "      <th></th>\n",
       "      <th>count</th>\n",
       "      <th>percentage</th>\n",
       "    </tr>\n",
       "    <tr>\n",
       "      <th>destination</th>\n",
       "      <th>symbol</th>\n",
       "      <th></th>\n",
       "      <th></th>\n",
       "    </tr>\n",
       "  </thead>\n",
       "  <tbody>\n",
       "    <tr>\n",
       "      <th rowspan=\"5\" valign=\"top\">0x Exchange</th>\n",
       "      <th>AAVE</th>\n",
       "      <td>7</td>\n",
       "      <td>10.606061</td>\n",
       "    </tr>\n",
       "    <tr>\n",
       "      <th>BTC</th>\n",
       "      <td>6</td>\n",
       "      <td>9.090909</td>\n",
       "    </tr>\n",
       "    <tr>\n",
       "      <th>DAI</th>\n",
       "      <td>3</td>\n",
       "      <td>4.545455</td>\n",
       "    </tr>\n",
       "    <tr>\n",
       "      <th>ETH/LSTs/LRTs</th>\n",
       "      <td>8</td>\n",
       "      <td>12.121212</td>\n",
       "    </tr>\n",
       "    <tr>\n",
       "      <th>GHO</th>\n",
       "      <td>2</td>\n",
       "      <td>3.030303</td>\n",
       "    </tr>\n",
       "    <tr>\n",
       "      <th>...</th>\n",
       "      <th>...</th>\n",
       "      <td>...</td>\n",
       "      <td>...</td>\n",
       "    </tr>\n",
       "    <tr>\n",
       "      <th rowspan=\"5\" valign=\"top\">UniswapV3Pool</th>\n",
       "      <th>Providing Liquidity</th>\n",
       "      <td>102</td>\n",
       "      <td>5.228088</td>\n",
       "    </tr>\n",
       "    <tr>\n",
       "      <th>USDC</th>\n",
       "      <td>715</td>\n",
       "      <td>36.647873</td>\n",
       "    </tr>\n",
       "    <tr>\n",
       "      <th>USDT</th>\n",
       "      <td>313</td>\n",
       "      <td>16.043055</td>\n",
       "    </tr>\n",
       "    <tr>\n",
       "      <th>Variable Debt Tokens</th>\n",
       "      <td>5</td>\n",
       "      <td>0.256279</td>\n",
       "    </tr>\n",
       "    <tr>\n",
       "      <th>aTokens</th>\n",
       "      <td>5</td>\n",
       "      <td>0.256279</td>\n",
       "    </tr>\n",
       "  </tbody>\n",
       "</table>\n",
       "<p>156 rows × 2 columns</p>\n",
       "</div>"
      ],
      "text/plain": [
       "                                    count  percentage\n",
       "destination   symbol                                 \n",
       "0x Exchange   AAVE                      7   10.606061\n",
       "              BTC                       6    9.090909\n",
       "              DAI                       3    4.545455\n",
       "              ETH/LSTs/LRTs             8   12.121212\n",
       "              GHO                       2    3.030303\n",
       "...                                   ...         ...\n",
       "UniswapV3Pool Providing Liquidity     102    5.228088\n",
       "              USDC                    715   36.647873\n",
       "              USDT                    313   16.043055\n",
       "              Variable Debt Tokens      5    0.256279\n",
       "              aTokens                   5    0.256279\n",
       "\n",
       "[156 rows x 2 columns]"
      ]
     },
     "execution_count": 30,
     "metadata": {},
     "output_type": "execute_result"
    }
   ],
   "source": [
    "grouped = label_df[['symbol', 'destination', 'to']].groupby(['destination', 'symbol']).count()\n",
    "grouped = grouped.rename(columns={'to': 'count'})\n",
    "grouped['percentage'] = grouped.groupby(level=0).apply(lambda x: x / x.sum() * 100)\n",
    "grouped = grouped.reset_index()\n",
    "grouped = grouped.set_index(['destination', 'symbol'])\n",
    "grouped"
   ]
  },
  {
   "cell_type": "markdown",
   "id": "04d1018f-66cc-47e2-8aba-aee754573045",
   "metadata": {},
   "source": [
    "## Sankey Chart\n",
    "\n",
    "First let's reformat with a consistant format for 1st and 2nd order"
   ]
  },
  {
   "cell_type": "code",
   "execution_count": 31,
   "id": "378316a5-b7ea-4288-ab71-a364732829d1",
   "metadata": {},
   "outputs": [],
   "source": [
    "first_order = [{'from': 'Minting', 'to': k, 'amount': v} for k, v in first_order_flows.items()]"
   ]
  },
  {
   "cell_type": "code",
   "execution_count": 32,
   "id": "4c3da1cf-2e50-4a41-90a1-fd575711ac0c",
   "metadata": {},
   "outputs": [
    {
     "data": {
      "text/plain": [
       "[{'from': 'Minting', 'to': 'GhoAToken', 'amount': 3054},\n",
       " {'from': 'Minting', 'to': 'UniswapV3Pool', 'amount': 2574},\n",
       " {'from': 'Minting', 'to': 'ParaSwap', 'amount': 1514},\n",
       " {'from': 'Minting', 'to': 'GHO Staking', 'amount': 1317},\n",
       " {'from': 'Minting', 'to': 'CowSwap', 'amount': 1229},\n",
       " {'from': 'Minting', 'to': 'Others', 'amount': 112},\n",
       " {'from': 'Minting', 'to': '1inch', 'amount': 922},\n",
       " {'from': 'Minting', 'to': 'DeFi Saver', 'amount': 852},\n",
       " {'from': 'Minting', 'to': 'Curve', 'amount': 289},\n",
       " {'from': 'Minting', 'to': 'Balancer', 'amount': 260},\n",
       " {'from': 'Minting', 'to': 'AirSwap', 'amount': 212},\n",
       " {'from': 'Minting', 'to': 'Maverick', 'amount': 189},\n",
       " {'from': 'Minting', 'to': 'MEV Bots', 'amount': 81},\n",
       " {'from': 'Minting', 'to': '0x Exchange', 'amount': 79},\n",
       " {'from': 'Minting', 'to': 'GHO CCIP', 'amount': 70},\n",
       " {'from': 'Minting', 'to': 'Odos', 'amount': 64},\n",
       " {'from': 'Minting', 'to': 'Li.Fi', 'amount': 62},\n",
       " {'from': 'Minting', 'to': 'Kyber Network', 'amount': 58},\n",
       " {'from': 'Minting', 'to': 'Gearbox', 'amount': 56},\n",
       " {'from': 'Minting', 'to': 'Burn', 'amount': 42},\n",
       " {'from': 'Minting', 'to': 'Pendle', 'amount': 26},\n",
       " {'from': 'Minting', 'to': 'Notional', 'amount': 21},\n",
       " {'from': 'Minting', 'to': 'MultiSigs', 'amount': 18},\n",
       " {'from': 'Minting', 'to': 'GHO Stability Module', 'amount': 15},\n",
       " {'from': 'Minting', 'to': 'Sent to other EOA', 'amount': 299},\n",
       " {'from': 'Minting', 'to': 'Held in wallet', 'amount': 141}]"
      ]
     },
     "execution_count": 32,
     "metadata": {},
     "output_type": "execute_result"
    }
   ],
   "source": [
    "first_order"
   ]
  },
  {
   "cell_type": "code",
   "execution_count": 33,
   "id": "1dbefc1f-6d62-4c38-9134-ebfe044cbd62",
   "metadata": {},
   "outputs": [
    {
     "data": {
      "text/plain": [
       "[{'from': 'UniswapV3Pool', 'to': 'USDC', 'amount': 943},\n",
       " {'from': 'UniswapV3Pool', 'to': 'USDT', 'amount': 412},\n",
       " {'from': 'UniswapV3Pool', 'to': 'BTC', 'amount': 212},\n",
       " {'from': 'UniswapV3Pool', 'to': 'Other Cryptos', 'amount': 196},\n",
       " {'from': 'UniswapV3Pool', 'to': 'ETH/LSTs/LRTs', 'amount': 188},\n",
       " {'from': 'UniswapV3Pool', 'to': 'AAVE', 'amount': 162},\n",
       " {'from': 'UniswapV3Pool', 'to': 'DAI', 'amount': 147},\n",
       " {'from': 'UniswapV3Pool', 'to': 'Providing Liquidity', 'amount': 134},\n",
       " {'from': 'UniswapV3Pool', 'to': 'LINK', 'amount': 97},\n",
       " {'from': 'UniswapV3Pool', 'to': 'Other Stablecoins', 'amount': 30},\n",
       " {'from': 'UniswapV3Pool', 'to': 'GHO', 'amount': 18},\n",
       " {'from': 'UniswapV3Pool', 'to': 'LUSD', 'amount': 15},\n",
       " {'from': 'UniswapV3Pool', 'to': 'Variable Debt Tokens', 'amount': 6},\n",
       " {'from': 'UniswapV3Pool', 'to': 'aTokens', 'amount': 6},\n",
       " {'from': 'ParaSwap', 'to': 'GHO', 'amount': 970},\n",
       " {'from': 'ParaSwap', 'to': 'USDC', 'amount': 218},\n",
       " {'from': 'ParaSwap', 'to': 'USDT', 'amount': 98},\n",
       " {'from': 'ParaSwap', 'to': 'ETH/LSTs/LRTs', 'amount': 56},\n",
       " {'from': 'ParaSwap', 'to': 'DAI', 'amount': 54},\n",
       " {'from': 'ParaSwap', 'to': 'BTC', 'amount': 20},\n",
       " {'from': 'ParaSwap', 'to': 'Other Stablecoins', 'amount': 19},\n",
       " {'from': 'ParaSwap', 'to': 'AAVE', 'amount': 17},\n",
       " {'from': 'ParaSwap', 'to': 'Other Cryptos', 'amount': 17},\n",
       " {'from': 'ParaSwap', 'to': 'LINK', 'amount': 11},\n",
       " {'from': 'ParaSwap', 'to': 'Variable Debt Tokens', 'amount': 11},\n",
       " {'from': 'ParaSwap', 'to': 'LUSD', 'amount': 9},\n",
       " {'from': 'ParaSwap', 'to': 'aTokens', 'amount': 8},\n",
       " {'from': 'CowSwap', 'to': 'USDC', 'amount': 392},\n",
       " {'from': 'CowSwap', 'to': 'USDT', 'amount': 220},\n",
       " {'from': 'CowSwap', 'to': 'GHO', 'amount': 139},\n",
       " {'from': 'CowSwap', 'to': 'BTC', 'amount': 135},\n",
       " {'from': 'CowSwap', 'to': 'Other Cryptos', 'amount': 107},\n",
       " {'from': 'CowSwap', 'to': 'DAI', 'amount': 63},\n",
       " {'from': 'CowSwap', 'to': 'ETH/LSTs/LRTs', 'amount': 60},\n",
       " {'from': 'CowSwap', 'to': 'Other Stablecoins', 'amount': 38},\n",
       " {'from': 'CowSwap', 'to': 'AAVE', 'amount': 35},\n",
       " {'from': 'CowSwap', 'to': 'LINK', 'amount': 22},\n",
       " {'from': 'CowSwap', 'to': 'LUSD', 'amount': 9},\n",
       " {'from': 'CowSwap', 'to': 'aTokens', 'amount': 4},\n",
       " {'from': 'Others', 'to': 'GHO', 'amount': 37},\n",
       " {'from': 'Others', 'to': 'Variable Debt Tokens', 'amount': 18},\n",
       " {'from': 'Others', 'to': 'Other Cryptos', 'amount': 10},\n",
       " {'from': 'Others', 'to': 'USDC', 'amount': 10},\n",
       " {'from': 'Others', 'to': 'aTokens', 'amount': 9},\n",
       " {'from': 'Others', 'to': 'ETH/LSTs/LRTs', 'amount': 8},\n",
       " {'from': 'Others', 'to': 'AAVE', 'amount': 4},\n",
       " {'from': 'Others', 'to': 'USDT', 'amount': 2},\n",
       " {'from': 'Others', 'to': 'DAI', 'amount': 2},\n",
       " {'from': 'Others', 'to': 'BTC', 'amount': 2},\n",
       " {'from': 'Others', 'to': 'GHO-Yield Aggregation', 'amount': 1},\n",
       " {'from': 'Others', 'to': 'Providing Liquidity', 'amount': 1},\n",
       " {'from': 'Others', 'to': 'Other Stablecoins', 'amount': 1},\n",
       " {'from': 'Others', 'to': 'LUSD', 'amount': 0},\n",
       " {'from': 'Others', 'to': 'LINK', 'amount': 0},\n",
       " {'from': '1inch', 'to': 'USDC', 'amount': 240},\n",
       " {'from': '1inch', 'to': 'USDT', 'amount': 135},\n",
       " {'from': '1inch', 'to': 'ETH/LSTs/LRTs', 'amount': 87},\n",
       " {'from': '1inch', 'to': 'BTC', 'amount': 64},\n",
       " {'from': '1inch', 'to': 'DAI', 'amount': 60},\n",
       " {'from': '1inch', 'to': 'GHO', 'amount': 59},\n",
       " {'from': '1inch', 'to': 'Other Cryptos', 'amount': 59},\n",
       " {'from': '1inch', 'to': 'AAVE', 'amount': 44},\n",
       " {'from': '1inch', 'to': 'aTokens', 'amount': 42},\n",
       " {'from': '1inch', 'to': 'Variable Debt Tokens', 'amount': 35},\n",
       " {'from': '1inch', 'to': 'Other Stablecoins', 'amount': 33},\n",
       " {'from': '1inch', 'to': 'LINK', 'amount': 31},\n",
       " {'from': '1inch', 'to': 'LUSD', 'amount': 20},\n",
       " {'from': '1inch', 'to': 'Providing Liquidity', 'amount': 7},\n",
       " {'from': 'Curve', 'to': 'USDC', 'amount': 80},\n",
       " {'from': 'Curve', 'to': 'Other Stablecoins', 'amount': 61},\n",
       " {'from': 'Curve', 'to': 'USDT', 'amount': 61},\n",
       " {'from': 'Curve', 'to': 'Providing Liquidity', 'amount': 56},\n",
       " {'from': 'Curve', 'to': 'Other Cryptos', 'amount': 7},\n",
       " {'from': 'Curve', 'to': 'DAI', 'amount': 6},\n",
       " {'from': 'Curve', 'to': 'ETH/LSTs/LRTs', 'amount': 6},\n",
       " {'from': 'Curve', 'to': 'BTC', 'amount': 5},\n",
       " {'from': 'Curve', 'to': 'GHO', 'amount': 2},\n",
       " {'from': 'Curve', 'to': 'AAVE', 'amount': 1},\n",
       " {'from': 'Balancer', 'to': 'Providing Liquidity', 'amount': 110},\n",
       " {'from': 'Balancer', 'to': 'USDC', 'amount': 33},\n",
       " {'from': 'Balancer', 'to': 'aTokens', 'amount': 28},\n",
       " {'from': 'Balancer', 'to': 'ETH/LSTs/LRTs', 'amount': 18},\n",
       " {'from': 'Balancer', 'to': 'Other Stablecoins', 'amount': 16},\n",
       " {'from': 'Balancer', 'to': 'USDT', 'amount': 15},\n",
       " {'from': 'Balancer', 'to': 'DAI', 'amount': 14},\n",
       " {'from': 'Balancer', 'to': 'GHO', 'amount': 11},\n",
       " {'from': 'Balancer', 'to': 'BTC', 'amount': 5},\n",
       " {'from': 'Balancer', 'to': 'Variable Debt Tokens', 'amount': 5},\n",
       " {'from': 'Balancer', 'to': 'Other Cryptos', 'amount': 1},\n",
       " {'from': 'Maverick', 'to': 'USDC', 'amount': 108},\n",
       " {'from': 'Maverick', 'to': 'Providing Liquidity', 'amount': 34},\n",
       " {'from': 'Maverick', 'to': 'USDT', 'amount': 19},\n",
       " {'from': 'Maverick', 'to': 'ETH/LSTs/LRTs', 'amount': 9},\n",
       " {'from': 'Maverick', 'to': 'Other Cryptos', 'amount': 7},\n",
       " {'from': 'Maverick', 'to': 'AAVE', 'amount': 1},\n",
       " {'from': 'Maverick', 'to': 'BTC', 'amount': 1},\n",
       " {'from': 'Maverick', 'to': 'DAI', 'amount': 1},\n",
       " {'from': 'Maverick', 'to': 'GHO', 'amount': 1},\n",
       " {'from': 'Maverick', 'to': 'Other Stablecoins', 'amount': 1},\n",
       " {'from': 'MEV Bots', 'to': 'USDC', 'amount': 24},\n",
       " {'from': 'MEV Bots', 'to': 'AAVE', 'amount': 14},\n",
       " {'from': 'MEV Bots', 'to': 'GHO', 'amount': 12},\n",
       " {'from': 'MEV Bots', 'to': 'DAI', 'amount': 8},\n",
       " {'from': 'MEV Bots', 'to': 'USDT', 'amount': 8},\n",
       " {'from': 'MEV Bots', 'to': 'Other Stablecoins', 'amount': 4},\n",
       " {'from': 'MEV Bots', 'to': 'ETH/LSTs/LRTs', 'amount': 3},\n",
       " {'from': 'MEV Bots', 'to': 'BTC', 'amount': 1},\n",
       " {'from': 'MEV Bots', 'to': 'Other Cryptos', 'amount': 1},\n",
       " {'from': 'MEV Bots', 'to': 'aTokens', 'amount': 1},\n",
       " {'from': '0x Exchange', 'to': 'USDC', 'amount': 28},\n",
       " {'from': '0x Exchange', 'to': 'ETH/LSTs/LRTs', 'amount': 9},\n",
       " {'from': '0x Exchange', 'to': 'AAVE', 'amount': 8},\n",
       " {'from': '0x Exchange', 'to': 'BTC', 'amount': 7},\n",
       " {'from': '0x Exchange', 'to': 'Other Cryptos', 'amount': 7},\n",
       " {'from': '0x Exchange', 'to': 'USDT', 'amount': 7},\n",
       " {'from': '0x Exchange', 'to': 'DAI', 'amount': 3},\n",
       " {'from': '0x Exchange', 'to': 'GHO', 'amount': 2},\n",
       " {'from': '0x Exchange', 'to': 'LUSD', 'amount': 2},\n",
       " {'from': '0x Exchange', 'to': 'LINK', 'amount': 1},\n",
       " {'from': '0x Exchange', 'to': 'Variable Debt Tokens', 'amount': 1},\n",
       " {'from': 'Odos', 'to': 'USDC', 'amount': 18},\n",
       " {'from': 'Odos', 'to': 'USDT', 'amount': 13},\n",
       " {'from': 'Odos', 'to': 'Other Stablecoins', 'amount': 11},\n",
       " {'from': 'Odos', 'to': 'AAVE', 'amount': 5},\n",
       " {'from': 'Odos', 'to': 'DAI', 'amount': 3},\n",
       " {'from': 'Odos', 'to': 'ETH/LSTs/LRTs', 'amount': 3},\n",
       " {'from': 'Odos', 'to': 'Other Cryptos', 'amount': 2},\n",
       " {'from': 'Odos', 'to': 'BTC', 'amount': 1},\n",
       " {'from': 'Odos', 'to': 'GHO', 'amount': 1},\n",
       " {'from': 'Odos', 'to': 'Variable Debt Tokens', 'amount': 1},\n",
       " {'from': 'Odos', 'to': 'aTokens', 'amount': 1},\n",
       " {'from': 'Li.Fi', 'to': 'Other Cryptos', 'amount': 16},\n",
       " {'from': 'Li.Fi', 'to': 'USDC', 'amount': 16},\n",
       " {'from': 'Li.Fi', 'to': 'AAVE', 'amount': 13},\n",
       " {'from': 'Li.Fi', 'to': 'aTokens', 'amount': 6},\n",
       " {'from': 'Li.Fi', 'to': 'BTC', 'amount': 3},\n",
       " {'from': 'Li.Fi', 'to': 'DAI', 'amount': 3},\n",
       " {'from': 'Li.Fi', 'to': 'USDT', 'amount': 3},\n",
       " {'from': 'Kyber Network', 'to': 'USDC', 'amount': 11},\n",
       " {'from': 'Kyber Network', 'to': 'GHO', 'amount': 8},\n",
       " {'from': 'Kyber Network', 'to': 'USDT', 'amount': 7},\n",
       " {'from': 'Kyber Network', 'to': 'ETH/LSTs/LRTs', 'amount': 6},\n",
       " {'from': 'Kyber Network', 'to': 'Variable Debt Tokens', 'amount': 6},\n",
       " {'from': 'Kyber Network', 'to': 'Other Cryptos', 'amount': 4},\n",
       " {'from': 'Kyber Network', 'to': 'DAI', 'amount': 3},\n",
       " {'from': 'Kyber Network', 'to': 'AAVE', 'amount': 2},\n",
       " {'from': 'Kyber Network', 'to': 'Other Stablecoins', 'amount': 2},\n",
       " {'from': 'Kyber Network', 'to': 'aTokens', 'amount': 1},\n",
       " {'from': 'Kyber Network', 'to': 'BTC', 'amount': 0},\n",
       " {'from': 'Kyber Network', 'to': 'LINK', 'amount': 0},\n",
       " {'from': 'MultiSigs', 'to': 'GHO', 'amount': 7},\n",
       " {'from': 'MultiSigs', 'to': 'Variable Debt Tokens', 'amount': 3},\n",
       " {'from': 'MultiSigs', 'to': 'ETH/LSTs/LRTs', 'amount': 2},\n",
       " {'from': 'MultiSigs', 'to': 'aTokens', 'amount': 1},\n",
       " {'from': 'MultiSigs', 'to': 'USDC', 'amount': 1},\n",
       " {'from': 'MultiSigs', 'to': 'USDT', 'amount': 0}]"
      ]
     },
     "execution_count": 33,
     "metadata": {},
     "output_type": "execute_result"
    }
   ],
   "source": [
    "second_order = []\n",
    "for protocol, amount in first_order_flows.items():\n",
    "    if protocol not in dexes:\n",
    "        continue\n",
    "    for token in grouped.loc[protocol].sort_values('percentage', ascending=False).index:\n",
    "        second_order.append(\n",
    "            {'from': protocol,\n",
    "            'to': token,\n",
    "            'amount': int(grouped.loc[protocol,token].percentage / 100 * amount)}\n",
    "        )\n",
    "second_order"
   ]
  },
  {
   "cell_type": "code",
   "execution_count": 34,
   "id": "7bf313c9-096d-4cdc-b20d-ce387121614e",
   "metadata": {},
   "outputs": [
    {
     "data": {
      "text/html": [
       "<div>\n",
       "<style scoped>\n",
       "    .dataframe tbody tr th:only-of-type {\n",
       "        vertical-align: middle;\n",
       "    }\n",
       "\n",
       "    .dataframe tbody tr th {\n",
       "        vertical-align: top;\n",
       "    }\n",
       "\n",
       "    .dataframe thead th {\n",
       "        text-align: right;\n",
       "    }\n",
       "</style>\n",
       "<table border=\"1\" class=\"dataframe\">\n",
       "  <thead>\n",
       "    <tr style=\"text-align: right;\">\n",
       "      <th></th>\n",
       "      <th>count</th>\n",
       "      <th>percentage</th>\n",
       "    </tr>\n",
       "    <tr>\n",
       "      <th>symbol</th>\n",
       "      <th></th>\n",
       "      <th></th>\n",
       "    </tr>\n",
       "  </thead>\n",
       "  <tbody>\n",
       "    <tr>\n",
       "      <th>USDC</th>\n",
       "      <td>715</td>\n",
       "      <td>36.647873</td>\n",
       "    </tr>\n",
       "    <tr>\n",
       "      <th>USDT</th>\n",
       "      <td>313</td>\n",
       "      <td>16.043055</td>\n",
       "    </tr>\n",
       "    <tr>\n",
       "      <th>BTC</th>\n",
       "      <td>161</td>\n",
       "      <td>8.252178</td>\n",
       "    </tr>\n",
       "    <tr>\n",
       "      <th>Other Cryptos</th>\n",
       "      <td>149</td>\n",
       "      <td>7.637109</td>\n",
       "    </tr>\n",
       "    <tr>\n",
       "      <th>ETH/LSTs/LRTs</th>\n",
       "      <td>143</td>\n",
       "      <td>7.329575</td>\n",
       "    </tr>\n",
       "    <tr>\n",
       "      <th>AAVE</th>\n",
       "      <td>123</td>\n",
       "      <td>6.304459</td>\n",
       "    </tr>\n",
       "    <tr>\n",
       "      <th>DAI</th>\n",
       "      <td>112</td>\n",
       "      <td>5.740646</td>\n",
       "    </tr>\n",
       "    <tr>\n",
       "      <th>Providing Liquidity</th>\n",
       "      <td>102</td>\n",
       "      <td>5.228088</td>\n",
       "    </tr>\n",
       "    <tr>\n",
       "      <th>LINK</th>\n",
       "      <td>74</td>\n",
       "      <td>3.792927</td>\n",
       "    </tr>\n",
       "    <tr>\n",
       "      <th>Other Stablecoins</th>\n",
       "      <td>23</td>\n",
       "      <td>1.178883</td>\n",
       "    </tr>\n",
       "    <tr>\n",
       "      <th>GHO</th>\n",
       "      <td>14</td>\n",
       "      <td>0.717581</td>\n",
       "    </tr>\n",
       "    <tr>\n",
       "      <th>LUSD</th>\n",
       "      <td>12</td>\n",
       "      <td>0.615069</td>\n",
       "    </tr>\n",
       "    <tr>\n",
       "      <th>Variable Debt Tokens</th>\n",
       "      <td>5</td>\n",
       "      <td>0.256279</td>\n",
       "    </tr>\n",
       "    <tr>\n",
       "      <th>aTokens</th>\n",
       "      <td>5</td>\n",
       "      <td>0.256279</td>\n",
       "    </tr>\n",
       "  </tbody>\n",
       "</table>\n",
       "</div>"
      ],
      "text/plain": [
       "                      count  percentage\n",
       "symbol                                 \n",
       "USDC                    715   36.647873\n",
       "USDT                    313   16.043055\n",
       "BTC                     161    8.252178\n",
       "Other Cryptos           149    7.637109\n",
       "ETH/LSTs/LRTs           143    7.329575\n",
       "AAVE                    123    6.304459\n",
       "DAI                     112    5.740646\n",
       "Providing Liquidity     102    5.228088\n",
       "LINK                     74    3.792927\n",
       "Other Stablecoins        23    1.178883\n",
       "GHO                      14    0.717581\n",
       "LUSD                     12    0.615069\n",
       "Variable Debt Tokens      5    0.256279\n",
       "aTokens                   5    0.256279"
      ]
     },
     "execution_count": 34,
     "metadata": {},
     "output_type": "execute_result"
    }
   ],
   "source": [
    "label_df.drop_duplicates(['from', 'to'])['symbol'].value_counts().to_list()\n",
    "grouped.loc['UniswapV3Pool'].sort_values('percentage', ascending=False)"
   ]
  },
  {
   "cell_type": "code",
   "execution_count": 36,
   "id": "83e2e5b6-6a01-456e-9aed-71d98c256d33",
   "metadata": {},
   "outputs": [],
   "source": [
    "import json\n",
    "\n",
    "with open('first_order_dup.json', 'w') as f:\n",
    "    json.dump(sorted(first_order, key=lambda x: x['amount'], reverse=True), f, indent=2)\n",
    "\n",
    "with open('second_order_dup.json', 'w') as f:\n",
    "    json.dump(second_order, f, indent=2)"
   ]
  },
  {
   "cell_type": "code",
   "execution_count": 39,
   "id": "09541ca5-5c6d-42fd-9e38-b90d7734e38d",
   "metadata": {},
   "outputs": [],
   "source": [
    "with open('first_order.json', 'r') as f:\n",
    "    first_order = json.load(f)\n",
    "\n",
    "with open('second_order.json', 'r') as f:\n",
    "    second_order = json.load(f)"
   ]
  },
  {
   "cell_type": "code",
   "execution_count": 47,
   "id": "8c8a9356-4cc1-4470-b5c5-753e7aefb11a",
   "metadata": {},
   "outputs": [
    {
     "data": {
      "text/html": [
       "\n",
       "        <iframe\n",
       "            width=\"900\"\n",
       "            height=\"600\"\n",
       "            src=\"sankey_plot.html\"\n",
       "            frameborder=\"0\"\n",
       "            allowfullscreen\n",
       "            \n",
       "        ></iframe>\n",
       "        "
      ],
      "text/plain": [
       "<IPython.lib.display.IFrame at 0x739904380550>"
      ]
     },
     "execution_count": 47,
     "metadata": {},
     "output_type": "execute_result"
    }
   ],
   "source": [
    "import plotly.graph_objects as go\n",
    "import pandas as pd\n",
    "\n",
    "def create_sankey(first_order, second_order):\n",
    "    nodes = {}\n",
    "    links = []\n",
    "    \n",
    "    def add_node(name):\n",
    "        if name not in nodes:\n",
    "            nodes[name] = len(nodes)\n",
    "        return nodes[name]\n",
    "    \n",
    "    for item in first_order:\n",
    "        source = add_node(item['from'])\n",
    "        target = add_node(item['to'])\n",
    "        links.append((source, target, item['amount']))\n",
    "    \n",
    "    for item in second_order:\n",
    "        source = add_node(item['from'])\n",
    "        target = add_node(item['to'])\n",
    "        links.append((source, target, item['amount']))\n",
    "    \n",
    "    node_list = sorted(nodes.items(), key=lambda x: x[1])\n",
    "    node_names = [name for name, _ in node_list]\n",
    "    \n",
    "    link_sources, link_targets, link_values = zip(*links)\n",
    "    \n",
    "    sankey = go.Sankey(\n",
    "        node=dict(\n",
    "            pad=15,\n",
    "            thickness=20,\n",
    "            line=dict(color=\"black\", width=0.5),\n",
    "            label=node_names,\n",
    "            color=\"blue\"\n",
    "        ),\n",
    "        link=dict(\n",
    "            source=link_sources,\n",
    "            target=link_targets,\n",
    "            value=link_values\n",
    "        )\n",
    "    )\n",
    "    \n",
    "    layout = go.Layout(\n",
    "        title_text=\"Stablecoin Flow Sankey Diagram\",\n",
    "        font_size=10\n",
    "    )\n",
    "    \n",
    "    fig = go.Figure(data=[sankey], layout=layout)\n",
    "    return fig\n",
    "\n",
    "sankey_fig = create_sankey(first_order, second_order)\n",
    "\n",
    "sankey_fig.write_html(\"sankey_plot.html\")\n",
    "from IPython.display import IFrame\n",
    "IFrame(src=\"sankey_plot.html\", width=900, height=600)"
   ]
  },
  {
   "cell_type": "code",
   "execution_count": 35,
   "id": "5e30e6fd-603c-41c9-98df-b5da5471aa99",
   "metadata": {},
   "outputs": [
    {
     "data": {
      "text/html": [
       "\n",
       "        <iframe\n",
       "            width=\"900\"\n",
       "            height=\"600\"\n",
       "            src=\"sankey_plot.html\"\n",
       "            frameborder=\"0\"\n",
       "            allowfullscreen\n",
       "            \n",
       "        ></iframe>\n",
       "        "
      ],
      "text/plain": [
       "<IPython.lib.display.IFrame at 0x74860885bb50>"
      ]
     },
     "execution_count": 35,
     "metadata": {},
     "output_type": "execute_result"
    }
   ],
   "source": [
    "import plotly.graph_objects as go\n",
    "\n",
    "def create_sankey(first_order, second_order):\n",
    "    nodes = {}\n",
    "    links = []\n",
    "    \n",
    "    def add_node(name):\n",
    "        if name not in nodes:\n",
    "            nodes[name] = len(nodes)\n",
    "        return nodes[name]\n",
    "    \n",
    "    for item in first_order:\n",
    "        source = add_node(item['from'])\n",
    "        target = add_node(item['to'])\n",
    "        links.append((source, target, item['amount']))\n",
    "    \n",
    "    for item in second_order:\n",
    "        source = add_node(item['from'])\n",
    "        target = add_node(item['to'])\n",
    "        links.append((source, target, item['amount']))\n",
    "    \n",
    "    node_list = sorted(nodes.items(), key=lambda x: x[1])\n",
    "    node_names = [name for name, _ in node_list]\n",
    "    \n",
    "    link_sources, link_targets, link_values = zip(*links)\n",
    "    \n",
    "    sankey = go.Sankey(\n",
    "        arrangement='snap',\n",
    "        node=dict(\n",
    "            pad=15,\n",
    "            thickness=20,\n",
    "            line=dict(color=\"black\", width=0.5),\n",
    "            label=node_names,\n",
    "            color=\"blue\",\n",
    "            align='left'\n",
    "        ),\n",
    "        link=dict(\n",
    "            source=link_sources,\n",
    "            target=link_targets,\n",
    "            value=link_values,\n",
    "            arrowlen=15\n",
    "        )\n",
    "    )\n",
    "    \n",
    "    layout = go.Layout(\n",
    "        title_text=\"Stablecoin Flow Sankey Diagram\",\n",
    "        font_size=10\n",
    "    )\n",
    "    \n",
    "    fig = go.Figure(data=[sankey], layout=layout)\n",
    "    return fig\n",
    "\n",
    "sankey_fig = create_sankey(first_order, second_order)\n",
    "\n",
    "sankey_fig.write_html(\"sankey_plot.html\")\n",
    "from IPython.display import IFrame\n",
    "IFrame(src=\"sankey_plot.html\", width=900, height=600)"
   ]
  }
 ],
 "metadata": {
  "kernelspec": {
   "display_name": "Python (boaenv)",
   "language": "python",
   "name": "boaenv"
  },
  "language_info": {
   "codemirror_mode": {
    "name": "ipython",
    "version": 3
   },
   "file_extension": ".py",
   "mimetype": "text/x-python",
   "name": "python",
   "nbconvert_exporter": "python",
   "pygments_lexer": "ipython3",
   "version": "3.10.13"
  }
 },
 "nbformat": 4,
 "nbformat_minor": 5
}
