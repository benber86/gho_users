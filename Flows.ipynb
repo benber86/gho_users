{
 "cells": [
  {
   "cell_type": "code",
   "execution_count": 3,
   "id": "51ede97b-906d-4e4a-9474-1ee8a3281eca",
   "metadata": {},
   "outputs": [],
   "source": [
    "import json\n",
    "with open('transfer_results.json', 'r') as fp:\n",
    "    tx_data = json.load(fp)"
   ]
  },
  {
   "cell_type": "code",
   "execution_count": 4,
   "id": "7b866ecb-7154-495f-a06b-c99e417af346",
   "metadata": {},
   "outputs": [
    {
     "data": {
      "text/plain": [
       "Index(['from', 'to', 'value', 'transferIndex', 'borrowCap', 'supplyCap',\n",
       "       'totalVariableDebt', 'variableBorrowRate', 'blockNumber',\n",
       "       'blockTimestamp', 'transactionHash', 'mint'],\n",
       "      dtype='object')"
      ]
     },
     "execution_count": 4,
     "metadata": {},
     "output_type": "execute_result"
    }
   ],
   "source": [
    "import pandas as pd\n",
    "df = pd.DataFrame(tx_data)\n",
    "df['mint'] = df['from'] == '0x0000000000000000000000000000000000000000'\n",
    "df.columns"
   ]
  },
  {
   "cell_type": "code",
   "execution_count": 5,
   "id": "e77e18ba-d87d-4e83-9e19-d8e74cc6cf05",
   "metadata": {},
   "outputs": [
    {
     "data": {
      "text/plain": [
       "7646"
      ]
     },
     "execution_count": 5,
     "metadata": {},
     "output_type": "execute_result"
    }
   ],
   "source": [
    "minters = df[df['mint']]['to']\n",
    "len(minters)"
   ]
  },
  {
   "cell_type": "markdown",
   "id": "3d52dc0c-605f-4905-8702-7dd40350daa3",
   "metadata": {},
   "source": [
    "## First order flows\n",
    "\n",
    "We avoid double counting (otherwise arb bots contracts skew the results)"
   ]
  },
  {
   "cell_type": "markdown",
   "id": "0aca49a0-172e-4256-91f0-1469cb5c948b",
   "metadata": {},
   "source": [
    "### Hoarders"
   ]
  },
  {
   "cell_type": "code",
   "execution_count": 68,
   "id": "2b574faf-1d2c-47b5-b76a-00ecc3e39f84",
   "metadata": {},
   "outputs": [
    {
     "data": {
      "text/plain": [
       "141"
      ]
     },
     "execution_count": 68,
     "metadata": {},
     "output_type": "execute_result"
    }
   ],
   "source": [
    "senders = set(df['from'])\n",
    "hoarders = [user for user in minters if user not in senders]\n",
    "len(set(hoarders))"
   ]
  },
  {
   "cell_type": "markdown",
   "id": "b960f9f5-8a64-42fc-b085-8f31eacf9d4a",
   "metadata": {},
   "source": [
    "### Contracts"
   ]
  },
  {
   "cell_type": "code",
   "execution_count": 7,
   "id": "0dc8f246-4baa-423e-a2ab-66d09a417392",
   "metadata": {},
   "outputs": [],
   "source": [
    "minter_txs = df[df['from'].isin(minters)]\n",
    "minter_txs = minter_txs.drop_duplicates(['from', 'to'])"
   ]
  },
  {
   "cell_type": "code",
   "execution_count": 8,
   "id": "fce65ca3-6c06-4952-9be8-85bf0913411d",
   "metadata": {},
   "outputs": [
    {
     "data": {
      "text/plain": [
       "0x00907f9921424583e7ffbfedf84f92b7b2be4977    1142\n",
       "0x5c95d4b1c3321cf898d25949f41d50be2db5bc1d     627\n",
       "0x1a88df1cfe15af22b3c4c783d4e6f7f9e0c1885d     449\n",
       "0x9008d19f58aabd9ed0d60971565aa8510560ab41     298\n",
       "0xdef171fe48cf0115b1d80b88dc8eab59176fee57     227\n",
       "0x383e7acd889bf57b0d79a584009cb570534ab518     223\n",
       "0xe37e799d5077682fa0a244d46e5649f71457bd09     166\n",
       "0x54eebc36527fe2e5624051e3c895810d7b68bcfc     144\n",
       "0xba12222222228d8ba445958a75a0704d566bf2c8     122\n",
       "0x74de5d4fcbf63e00296fd95d33236b9794016631     100\n",
       "0xad3b67bca8935cb510c8d18bd45f0b94f54a968f      82\n",
       "0x8d8404f8cca4c8834ca3cab1e54887ae47724bee      76\n",
       "0x5756880b6a1eaba0175227bf02a7e87c1e02b28c      58\n",
       "0x22f9dcf4647084d6c31b2765f6910cd85c178c18      53\n",
       "0x464c71f6c2f760dda6093dcb91c24c39e5d6e18c      52\n",
       "0xbbec426df87537ad0bec0e899007be441427d0f8      49\n",
       "0xf0d4c12a5768d806021f80a262b4d39d26c58b8d      45\n",
       "0x3208684f96458c540eb08f6f01b9e9afb2b7d4f0      43\n",
       "0x92f3f71cef740ed5784874b8c70ff87ecdf33588      42\n",
       "0xf081470f5c6fbccf48cc4e5b82dd926409dcdd67      37\n",
       "Name: to, dtype: int64"
      ]
     },
     "execution_count": 8,
     "metadata": {},
     "output_type": "execute_result"
    }
   ],
   "source": [
    "minter_txs['to'].value_counts()[:20]"
   ]
  },
  {
   "cell_type": "code",
   "execution_count": 9,
   "id": "44e27489-d0f8-478c-a377-24f62ad156d4",
   "metadata": {},
   "outputs": [],
   "source": [
    "import os\n",
    "import requests\n",
    "\n",
    "API_KEY = os.environ.get('ETHERSCAN_TOKEN')\n",
    "contract_names = {}"
   ]
  },
  {
   "cell_type": "code",
   "execution_count": 10,
   "id": "327e1275-48b7-4dae-916a-e26aa6c042b6",
   "metadata": {},
   "outputs": [
    {
     "name": "stdout",
     "output_type": "stream",
     "text": [
      "0x00907f9921424583e7ffbfedf84f92b7b2be4977 GhoAToken\n",
      "0x5c95d4b1c3321cf898d25949f41d50be2db5bc1d UniswapV3Pool\n",
      "0x1a88df1cfe15af22b3c4c783d4e6f7f9e0c1885d StakeToken\n",
      "0x9008d19f58aabd9ed0d60971565aa8510560ab41 GPv2Settlement\n",
      "0xdef171fe48cf0115b1d80b88dc8eab59176fee57 DirectSwap\n",
      "0x383e7acd889bf57b0d79a584009cb570534ab518 UniswapV3Pool\n",
      "0xe37e799d5077682fa0a244d46e5649f71457bd09 \n",
      "0x54eebc36527fe2e5624051e3c895810d7b68bcfc UniswapV3Pool\n",
      "0xba12222222228d8ba445958a75a0704d566bf2c8 Vault\n",
      "0x74de5d4fcbf63e00296fd95d33236b9794016631 Spender\n",
      "0xad3b67bca8935cb510c8d18bd45f0b94f54a968f \n",
      "0x8d8404f8cca4c8834ca3cab1e54887ae47724bee \n",
      "0x5756880b6a1eaba0175227bf02a7e87c1e02b28c UpgradeableLockReleaseTokenPool\n",
      "0x22f9dcf4647084d6c31b2765f6910cd85c178c18 FillQuoteTransformer\n",
      "0x464c71f6c2f760dda6093dcb91c24c39e5d6e18c Collector\n",
      "0xbbec426df87537ad0bec0e899007be441427d0f8 UniswapV3Pool\n",
      "0xf0d4c12a5768d806021f80a262b4d39d26c58b8d CurveRouter v1.0\n",
      "0x3208684f96458c540eb08f6f01b9e9afb2b7d4f0 \n",
      "0x92f3f71cef740ed5784874b8c70ff87ecdf33588 \n",
      "0xf081470f5c6fbccf48cc4e5b82dd926409dcdd67 \n",
      "0x6f42b83ecda76a8313fd8a45ca18a3fdfd37bbc7 UnderlyingFarmingZapper\n",
      "0x1231deb6f5749ef6ce6943a275a1d3e7486f4eae GenericSwapFacetV3\n",
      "0x14cf6d2fe3e1b326114b07d22a6f6bb59e346c67 \n",
      "0x16c6521dff6bab339122a0fe25a9116693265353 CurveRouter v1.1\n",
      "0xf4d34d7fdd2ed5d57c6f583237bb038fc3839d17 \n",
      "0x9a83b11e50ff5cc544f1401f35807b7c07de791d UniswapV3Pool\n",
      "0x28104d4f703ee5b5011cefe106f54efd56f33f95 \n",
      "0x5f0000d4780a00d2dce0a00004000800cb0e5041 \n",
      "0x670a72e6d22b0956c0d2573288f82dcc5d6e3a61 CurveStableSwapNG\n",
      "0xbb33ed8c1148e62411a97d25390fd48698fd937e \n"
     ]
    }
   ],
   "source": [
    "for contract in minter_txs['to'].value_counts()[:30].index:\n",
    "    URL = f\"https://api.etherscan.io/api?module=contract&action=getsourcecode&address={contract}&apikey={API_KEY}\"\n",
    "    r = requests.get(URL)\n",
    "    if r.json()['result'][0]['Implementation']:\n",
    "        impl_contract = r.json()['result'][0]['Implementation']\n",
    "        URL = f\"https://api.etherscan.io/api?module=contract&action=getsourcecode&address={impl_contract}&apikey={API_KEY}\"\n",
    "        r = requests.get(URL)        \n",
    "    contract_names[contract] = (r.json()['result'][0]['ContractName'])\n",
    "    print(contract, (r.json()['result'][0]['ContractName']))"
   ]
  },
  {
   "cell_type": "code",
   "execution_count": 11,
   "id": "560b2c9e-62b0-4ae6-9430-90d889a72b42",
   "metadata": {},
   "outputs": [
    {
     "data": {
      "text/plain": [
       "{'0x00907f9921424583e7ffbfedf84f92b7b2be4977': 'GhoAToken',\n",
       " '0x5c95d4b1c3321cf898d25949f41d50be2db5bc1d': 'UniswapV3Pool',\n",
       " '0x1a88df1cfe15af22b3c4c783d4e6f7f9e0c1885d': 'GHO Staking',\n",
       " '0x9008d19f58aabd9ed0d60971565aa8510560ab41': 'CowSwap',\n",
       " '0xdef171fe48cf0115b1d80b88dc8eab59176fee57': 'ParaSwap',\n",
       " '0x383e7acd889bf57b0d79a584009cb570534ab518': 'UniswapV3Pool',\n",
       " '0xe37e799d5077682fa0a244d46e5649f71457bd09': '1inch',\n",
       " '0x54eebc36527fe2e5624051e3c895810d7b68bcfc': 'UniswapV3Pool',\n",
       " '0xba12222222228d8ba445958a75a0704d566bf2c8': 'Balancer',\n",
       " '0x74de5d4fcbf63e00296fd95d33236b9794016631': 'AirSwap',\n",
       " '0xad3b67bca8935cb510c8d18bd45f0b94f54a968f': '1inch',\n",
       " '0x8d8404f8cca4c8834ca3cab1e54887ae47724bee': '1inch',\n",
       " '0x5756880b6a1eaba0175227bf02a7e87c1e02b28c': 'GHO CCIP',\n",
       " '0x22f9dcf4647084d6c31b2765f6910cd85c178c18': '0x Exchange',\n",
       " '0x464c71f6c2f760dda6093dcb91c24c39e5d6e18c': 'Aave Collector V2',\n",
       " '0xbbec426df87537ad0bec0e899007be441427d0f8': 'UniswapV3Pool',\n",
       " '0xf0d4c12a5768d806021f80a262b4d39d26c58b8d': 'Curve',\n",
       " '0x3208684f96458c540eb08f6f01b9e9afb2b7d4f0': '1inch',\n",
       " '0x92f3f71cef740ed5784874b8c70ff87ecdf33588': '1inch',\n",
       " '0xf081470f5c6fbccf48cc4e5b82dd926409dcdd67': 'Kyber Network',\n",
       " '0x6f42b83ecda76a8313fd8a45ca18a3fdfd37bbc7': 'UnderlyingFarmingZapper',\n",
       " '0x1231deb6f5749ef6ce6943a275a1d3e7486f4eae': 'Li.Fi',\n",
       " '0x14cf6d2fe3e1b326114b07d22a6f6bb59e346c67': 'Maverick',\n",
       " '0x16c6521dff6bab339122a0fe25a9116693265353': 'Curve',\n",
       " '0xf4d34d7fdd2ed5d57c6f583237bb038fc3839d17': '1inch',\n",
       " '0x9a83b11e50ff5cc544f1401f35807b7c07de791d': 'UniswapV3Pool',\n",
       " '0x28104d4f703ee5b5011cefe106f54efd56f33f95': 'Odos',\n",
       " '0x5f0000d4780a00d2dce0a00004000800cb0e5041': 'ParaSwap',\n",
       " '0x670a72e6d22b0956c0d2573288f82dcc5d6e3a61': 'Curve',\n",
       " '0xbb33ed8c1148e62411a97d25390fd48698fd937e': '1inch'}"
      ]
     },
     "execution_count": 11,
     "metadata": {},
     "output_type": "execute_result"
    }
   ],
   "source": [
    "contract_names['0xe37e799d5077682fa0a244d46e5649f71457bd09'] = '1inch'\n",
    "contract_names['0xad3b67bca8935cb510c8d18bd45f0b94f54a968f'] = '1inch'\n",
    "contract_names['0x8d8404f8cca4c8834ca3cab1e54887ae47724bee'] = '1inch'\n",
    "contract_names['0x3208684f96458c540eb08f6f01b9e9afb2b7d4f0'] = '1inch'\n",
    "contract_names['0x92f3f71cef740ed5784874b8c70ff87ecdf33588'] = '1inch'\n",
    "contract_names['0xf081470f5c6fbccf48cc4e5b82dd926409dcdd67'] = 'Kyber Network'\n",
    "contract_names['0x1a88df1cfe15af22b3c4c783d4e6f7f9e0c1885d'] = 'GHO Staking'\n",
    "contract_names['0x9008d19f58aabd9ed0d60971565aa8510560ab41'] = 'CowSwap'\n",
    "contract_names['0xdef171fe48cf0115b1d80b88dc8eab59176fee57'] = 'ParaSwap'\n",
    "contract_names['0xba12222222228d8ba445958a75a0704d566bf2c8'] = 'Balancer'\n",
    "contract_names['0x74de5d4fcbf63e00296fd95d33236b9794016631'] = 'AirSwap'\n",
    "contract_names['0x5756880b6a1eaba0175227bf02a7e87c1e02b28c'] = 'GHO CCIP'\n",
    "contract_names['0x22f9dcf4647084d6c31b2765f6910cd85c178c18'] = '0x Exchange'\n",
    "contract_names['0x464c71f6c2f760dda6093dcb91c24c39e5d6e18c'] = 'Aave Collector V2'\n",
    "contract_names['0xf0d4c12a5768d806021f80a262b4d39d26c58b8d'] = 'Curve'\n",
    "contract_names['0x1231deb6f5749ef6ce6943a275a1d3e7486f4eae'] = \"Li.Fi\"\n",
    "contract_names['0x14cf6d2fe3e1b326114b07d22a6f6bb59e346c67'] = \"Maverick\"\n",
    "contract_names['0x16c6521dff6bab339122a0fe25a9116693265353'] = \"Curve\"\n",
    "contract_names['0x670a72e6d22b0956c0d2573288f82dcc5d6e3a61'] = \"Curve\"\n",
    "contract_names['0x670a72e6d22b0956c0d2573288f82dcc5d6e3a61'] = \"Curve\"\n",
    "contract_names['0xf4d34d7fdd2ed5d57c6f583237bb038fc3839d17'] = '1inch'\n",
    "contract_names['0x28104d4f703ee5b5011cefe106f54efd56f33f95'] = 'Odos'\n",
    "contract_names['0x5f0000d4780a00d2dce0a00004000800cb0e5041'] = 'ParaSwap'\n",
    "contract_names['0xbb33ed8c1148e62411a97d25390fd48698fd937e'] = '1inch'\n",
    "contract_names"
   ]
  },
  {
   "cell_type": "code",
   "execution_count": 12,
   "id": "fd272b5a-36f5-43b4-adf5-def306772ded",
   "metadata": {},
   "outputs": [
    {
     "name": "stdout",
     "output_type": "stream",
     "text": [
      "0x6467e807db1e71b9ef04e0e3afb962e4b0900b2b FeeReceiver\n",
      "0xd8533305aa8d9eb5681f15f1461e02c1601eed72 UniswapV3Pool\n",
      "0x5f515f6c524b18ca30f7783fb58dd4be2e9904ec \n",
      "0x050ebe3dbb4b3a3526735b04cc3d96c80609ee7e \n",
      "0xd5e74de4385ef0eb1bb4db05a6a504f04d92e79d \n",
      "0x86152df0a0e321afb3b0b9c4deb813184f365ada Vyper_contract\n"
     ]
    },
    {
     "ename": "KeyboardInterrupt",
     "evalue": "",
     "output_type": "error",
     "traceback": [
      "\u001b[0;31m---------------------------------------------------------------------------\u001b[0m",
      "\u001b[0;31mKeyboardInterrupt\u001b[0m                         Traceback (most recent call last)",
      "Cell \u001b[0;32mIn[12], line 3\u001b[0m\n\u001b[1;32m      1\u001b[0m \u001b[38;5;28;01mfor\u001b[39;00m contract \u001b[38;5;129;01min\u001b[39;00m minter_txs[\u001b[38;5;124m'\u001b[39m\u001b[38;5;124mto\u001b[39m\u001b[38;5;124m'\u001b[39m]\u001b[38;5;241m.\u001b[39mvalue_counts()[\u001b[38;5;241m30\u001b[39m:\u001b[38;5;241m60\u001b[39m]\u001b[38;5;241m.\u001b[39mindex:\n\u001b[1;32m      2\u001b[0m     URL \u001b[38;5;241m=\u001b[39m \u001b[38;5;124mf\u001b[39m\u001b[38;5;124m\"\u001b[39m\u001b[38;5;124mhttps://api.etherscan.io/api?module=contract&action=getsourcecode&address=\u001b[39m\u001b[38;5;132;01m{\u001b[39;00mcontract\u001b[38;5;132;01m}\u001b[39;00m\u001b[38;5;124m&apikey=\u001b[39m\u001b[38;5;132;01m{\u001b[39;00mAPI_KEY\u001b[38;5;132;01m}\u001b[39;00m\u001b[38;5;124m\"\u001b[39m\n\u001b[0;32m----> 3\u001b[0m     r \u001b[38;5;241m=\u001b[39m \u001b[43mrequests\u001b[49m\u001b[38;5;241;43m.\u001b[39;49m\u001b[43mget\u001b[49m\u001b[43m(\u001b[49m\u001b[43mURL\u001b[49m\u001b[43m)\u001b[49m\n\u001b[1;32m      4\u001b[0m     \u001b[38;5;28;01mif\u001b[39;00m r\u001b[38;5;241m.\u001b[39mjson()[\u001b[38;5;124m'\u001b[39m\u001b[38;5;124mresult\u001b[39m\u001b[38;5;124m'\u001b[39m][\u001b[38;5;241m0\u001b[39m][\u001b[38;5;124m'\u001b[39m\u001b[38;5;124mImplementation\u001b[39m\u001b[38;5;124m'\u001b[39m]:\n\u001b[1;32m      5\u001b[0m         impl_contract \u001b[38;5;241m=\u001b[39m r\u001b[38;5;241m.\u001b[39mjson()[\u001b[38;5;124m'\u001b[39m\u001b[38;5;124mresult\u001b[39m\u001b[38;5;124m'\u001b[39m][\u001b[38;5;241m0\u001b[39m][\u001b[38;5;124m'\u001b[39m\u001b[38;5;124mImplementation\u001b[39m\u001b[38;5;124m'\u001b[39m]\n",
      "File \u001b[0;32m~/.pyenv/versions/3.10.13/envs/boaenv/lib/python3.10/site-packages/requests/api.py:73\u001b[0m, in \u001b[0;36mget\u001b[0;34m(url, params, **kwargs)\u001b[0m\n\u001b[1;32m     62\u001b[0m \u001b[38;5;28;01mdef\u001b[39;00m \u001b[38;5;21mget\u001b[39m(url, params\u001b[38;5;241m=\u001b[39m\u001b[38;5;28;01mNone\u001b[39;00m, \u001b[38;5;241m*\u001b[39m\u001b[38;5;241m*\u001b[39mkwargs):\n\u001b[1;32m     63\u001b[0m \u001b[38;5;250m    \u001b[39m\u001b[38;5;124mr\u001b[39m\u001b[38;5;124;03m\"\"\"Sends a GET request.\u001b[39;00m\n\u001b[1;32m     64\u001b[0m \n\u001b[1;32m     65\u001b[0m \u001b[38;5;124;03m    :param url: URL for the new :class:`Request` object.\u001b[39;00m\n\u001b[0;32m   (...)\u001b[0m\n\u001b[1;32m     70\u001b[0m \u001b[38;5;124;03m    :rtype: requests.Response\u001b[39;00m\n\u001b[1;32m     71\u001b[0m \u001b[38;5;124;03m    \"\"\"\u001b[39;00m\n\u001b[0;32m---> 73\u001b[0m     \u001b[38;5;28;01mreturn\u001b[39;00m \u001b[43mrequest\u001b[49m\u001b[43m(\u001b[49m\u001b[38;5;124;43m\"\u001b[39;49m\u001b[38;5;124;43mget\u001b[39;49m\u001b[38;5;124;43m\"\u001b[39;49m\u001b[43m,\u001b[49m\u001b[43m \u001b[49m\u001b[43murl\u001b[49m\u001b[43m,\u001b[49m\u001b[43m \u001b[49m\u001b[43mparams\u001b[49m\u001b[38;5;241;43m=\u001b[39;49m\u001b[43mparams\u001b[49m\u001b[43m,\u001b[49m\u001b[43m \u001b[49m\u001b[38;5;241;43m*\u001b[39;49m\u001b[38;5;241;43m*\u001b[39;49m\u001b[43mkwargs\u001b[49m\u001b[43m)\u001b[49m\n",
      "File \u001b[0;32m~/.pyenv/versions/3.10.13/envs/boaenv/lib/python3.10/site-packages/requests/api.py:59\u001b[0m, in \u001b[0;36mrequest\u001b[0;34m(method, url, **kwargs)\u001b[0m\n\u001b[1;32m     55\u001b[0m \u001b[38;5;66;03m# By using the 'with' statement we are sure the session is closed, thus we\u001b[39;00m\n\u001b[1;32m     56\u001b[0m \u001b[38;5;66;03m# avoid leaving sockets open which can trigger a ResourceWarning in some\u001b[39;00m\n\u001b[1;32m     57\u001b[0m \u001b[38;5;66;03m# cases, and look like a memory leak in others.\u001b[39;00m\n\u001b[1;32m     58\u001b[0m \u001b[38;5;28;01mwith\u001b[39;00m sessions\u001b[38;5;241m.\u001b[39mSession() \u001b[38;5;28;01mas\u001b[39;00m session:\n\u001b[0;32m---> 59\u001b[0m     \u001b[38;5;28;01mreturn\u001b[39;00m \u001b[43msession\u001b[49m\u001b[38;5;241;43m.\u001b[39;49m\u001b[43mrequest\u001b[49m\u001b[43m(\u001b[49m\u001b[43mmethod\u001b[49m\u001b[38;5;241;43m=\u001b[39;49m\u001b[43mmethod\u001b[49m\u001b[43m,\u001b[49m\u001b[43m \u001b[49m\u001b[43murl\u001b[49m\u001b[38;5;241;43m=\u001b[39;49m\u001b[43murl\u001b[49m\u001b[43m,\u001b[49m\u001b[43m \u001b[49m\u001b[38;5;241;43m*\u001b[39;49m\u001b[38;5;241;43m*\u001b[39;49m\u001b[43mkwargs\u001b[49m\u001b[43m)\u001b[49m\n",
      "File \u001b[0;32m~/.pyenv/versions/3.10.13/envs/boaenv/lib/python3.10/site-packages/requests/sessions.py:587\u001b[0m, in \u001b[0;36mSession.request\u001b[0;34m(self, method, url, params, data, headers, cookies, files, auth, timeout, allow_redirects, proxies, hooks, stream, verify, cert, json)\u001b[0m\n\u001b[1;32m    582\u001b[0m send_kwargs \u001b[38;5;241m=\u001b[39m {\n\u001b[1;32m    583\u001b[0m     \u001b[38;5;124m\"\u001b[39m\u001b[38;5;124mtimeout\u001b[39m\u001b[38;5;124m\"\u001b[39m: timeout,\n\u001b[1;32m    584\u001b[0m     \u001b[38;5;124m\"\u001b[39m\u001b[38;5;124mallow_redirects\u001b[39m\u001b[38;5;124m\"\u001b[39m: allow_redirects,\n\u001b[1;32m    585\u001b[0m }\n\u001b[1;32m    586\u001b[0m send_kwargs\u001b[38;5;241m.\u001b[39mupdate(settings)\n\u001b[0;32m--> 587\u001b[0m resp \u001b[38;5;241m=\u001b[39m \u001b[38;5;28;43mself\u001b[39;49m\u001b[38;5;241;43m.\u001b[39;49m\u001b[43msend\u001b[49m\u001b[43m(\u001b[49m\u001b[43mprep\u001b[49m\u001b[43m,\u001b[49m\u001b[43m \u001b[49m\u001b[38;5;241;43m*\u001b[39;49m\u001b[38;5;241;43m*\u001b[39;49m\u001b[43msend_kwargs\u001b[49m\u001b[43m)\u001b[49m\n\u001b[1;32m    589\u001b[0m \u001b[38;5;28;01mreturn\u001b[39;00m resp\n",
      "File \u001b[0;32m~/.pyenv/versions/3.10.13/envs/boaenv/lib/python3.10/site-packages/requests/sessions.py:701\u001b[0m, in \u001b[0;36mSession.send\u001b[0;34m(self, request, **kwargs)\u001b[0m\n\u001b[1;32m    698\u001b[0m start \u001b[38;5;241m=\u001b[39m preferred_clock()\n\u001b[1;32m    700\u001b[0m \u001b[38;5;66;03m# Send the request\u001b[39;00m\n\u001b[0;32m--> 701\u001b[0m r \u001b[38;5;241m=\u001b[39m \u001b[43madapter\u001b[49m\u001b[38;5;241;43m.\u001b[39;49m\u001b[43msend\u001b[49m\u001b[43m(\u001b[49m\u001b[43mrequest\u001b[49m\u001b[43m,\u001b[49m\u001b[43m \u001b[49m\u001b[38;5;241;43m*\u001b[39;49m\u001b[38;5;241;43m*\u001b[39;49m\u001b[43mkwargs\u001b[49m\u001b[43m)\u001b[49m\n\u001b[1;32m    703\u001b[0m \u001b[38;5;66;03m# Total elapsed time of the request (approximately)\u001b[39;00m\n\u001b[1;32m    704\u001b[0m elapsed \u001b[38;5;241m=\u001b[39m preferred_clock() \u001b[38;5;241m-\u001b[39m start\n",
      "File \u001b[0;32m~/.pyenv/versions/3.10.13/envs/boaenv/lib/python3.10/site-packages/requests/adapters.py:489\u001b[0m, in \u001b[0;36mHTTPAdapter.send\u001b[0;34m(self, request, stream, timeout, verify, cert, proxies)\u001b[0m\n\u001b[1;32m    487\u001b[0m \u001b[38;5;28;01mtry\u001b[39;00m:\n\u001b[1;32m    488\u001b[0m     \u001b[38;5;28;01mif\u001b[39;00m \u001b[38;5;129;01mnot\u001b[39;00m chunked:\n\u001b[0;32m--> 489\u001b[0m         resp \u001b[38;5;241m=\u001b[39m \u001b[43mconn\u001b[49m\u001b[38;5;241;43m.\u001b[39;49m\u001b[43murlopen\u001b[49m\u001b[43m(\u001b[49m\n\u001b[1;32m    490\u001b[0m \u001b[43m            \u001b[49m\u001b[43mmethod\u001b[49m\u001b[38;5;241;43m=\u001b[39;49m\u001b[43mrequest\u001b[49m\u001b[38;5;241;43m.\u001b[39;49m\u001b[43mmethod\u001b[49m\u001b[43m,\u001b[49m\n\u001b[1;32m    491\u001b[0m \u001b[43m            \u001b[49m\u001b[43murl\u001b[49m\u001b[38;5;241;43m=\u001b[39;49m\u001b[43murl\u001b[49m\u001b[43m,\u001b[49m\n\u001b[1;32m    492\u001b[0m \u001b[43m            \u001b[49m\u001b[43mbody\u001b[49m\u001b[38;5;241;43m=\u001b[39;49m\u001b[43mrequest\u001b[49m\u001b[38;5;241;43m.\u001b[39;49m\u001b[43mbody\u001b[49m\u001b[43m,\u001b[49m\n\u001b[1;32m    493\u001b[0m \u001b[43m            \u001b[49m\u001b[43mheaders\u001b[49m\u001b[38;5;241;43m=\u001b[39;49m\u001b[43mrequest\u001b[49m\u001b[38;5;241;43m.\u001b[39;49m\u001b[43mheaders\u001b[49m\u001b[43m,\u001b[49m\n\u001b[1;32m    494\u001b[0m \u001b[43m            \u001b[49m\u001b[43mredirect\u001b[49m\u001b[38;5;241;43m=\u001b[39;49m\u001b[38;5;28;43;01mFalse\u001b[39;49;00m\u001b[43m,\u001b[49m\n\u001b[1;32m    495\u001b[0m \u001b[43m            \u001b[49m\u001b[43massert_same_host\u001b[49m\u001b[38;5;241;43m=\u001b[39;49m\u001b[38;5;28;43;01mFalse\u001b[39;49;00m\u001b[43m,\u001b[49m\n\u001b[1;32m    496\u001b[0m \u001b[43m            \u001b[49m\u001b[43mpreload_content\u001b[49m\u001b[38;5;241;43m=\u001b[39;49m\u001b[38;5;28;43;01mFalse\u001b[39;49;00m\u001b[43m,\u001b[49m\n\u001b[1;32m    497\u001b[0m \u001b[43m            \u001b[49m\u001b[43mdecode_content\u001b[49m\u001b[38;5;241;43m=\u001b[39;49m\u001b[38;5;28;43;01mFalse\u001b[39;49;00m\u001b[43m,\u001b[49m\n\u001b[1;32m    498\u001b[0m \u001b[43m            \u001b[49m\u001b[43mretries\u001b[49m\u001b[38;5;241;43m=\u001b[39;49m\u001b[38;5;28;43mself\u001b[39;49m\u001b[38;5;241;43m.\u001b[39;49m\u001b[43mmax_retries\u001b[49m\u001b[43m,\u001b[49m\n\u001b[1;32m    499\u001b[0m \u001b[43m            \u001b[49m\u001b[43mtimeout\u001b[49m\u001b[38;5;241;43m=\u001b[39;49m\u001b[43mtimeout\u001b[49m\u001b[43m,\u001b[49m\n\u001b[1;32m    500\u001b[0m \u001b[43m        \u001b[49m\u001b[43m)\u001b[49m\n\u001b[1;32m    502\u001b[0m     \u001b[38;5;66;03m# Send the request.\u001b[39;00m\n\u001b[1;32m    503\u001b[0m     \u001b[38;5;28;01melse\u001b[39;00m:\n\u001b[1;32m    504\u001b[0m         \u001b[38;5;28;01mif\u001b[39;00m \u001b[38;5;28mhasattr\u001b[39m(conn, \u001b[38;5;124m\"\u001b[39m\u001b[38;5;124mproxy_pool\u001b[39m\u001b[38;5;124m\"\u001b[39m):\n",
      "File \u001b[0;32m~/.pyenv/versions/3.10.13/envs/boaenv/lib/python3.10/site-packages/urllib3/connectionpool.py:703\u001b[0m, in \u001b[0;36mHTTPConnectionPool.urlopen\u001b[0;34m(self, method, url, body, headers, retries, redirect, assert_same_host, timeout, pool_timeout, release_conn, chunked, body_pos, **response_kw)\u001b[0m\n\u001b[1;32m    700\u001b[0m     \u001b[38;5;28mself\u001b[39m\u001b[38;5;241m.\u001b[39m_prepare_proxy(conn)\n\u001b[1;32m    702\u001b[0m \u001b[38;5;66;03m# Make the request on the httplib connection object.\u001b[39;00m\n\u001b[0;32m--> 703\u001b[0m httplib_response \u001b[38;5;241m=\u001b[39m \u001b[38;5;28;43mself\u001b[39;49m\u001b[38;5;241;43m.\u001b[39;49m\u001b[43m_make_request\u001b[49m\u001b[43m(\u001b[49m\n\u001b[1;32m    704\u001b[0m \u001b[43m    \u001b[49m\u001b[43mconn\u001b[49m\u001b[43m,\u001b[49m\n\u001b[1;32m    705\u001b[0m \u001b[43m    \u001b[49m\u001b[43mmethod\u001b[49m\u001b[43m,\u001b[49m\n\u001b[1;32m    706\u001b[0m \u001b[43m    \u001b[49m\u001b[43murl\u001b[49m\u001b[43m,\u001b[49m\n\u001b[1;32m    707\u001b[0m \u001b[43m    \u001b[49m\u001b[43mtimeout\u001b[49m\u001b[38;5;241;43m=\u001b[39;49m\u001b[43mtimeout_obj\u001b[49m\u001b[43m,\u001b[49m\n\u001b[1;32m    708\u001b[0m \u001b[43m    \u001b[49m\u001b[43mbody\u001b[49m\u001b[38;5;241;43m=\u001b[39;49m\u001b[43mbody\u001b[49m\u001b[43m,\u001b[49m\n\u001b[1;32m    709\u001b[0m \u001b[43m    \u001b[49m\u001b[43mheaders\u001b[49m\u001b[38;5;241;43m=\u001b[39;49m\u001b[43mheaders\u001b[49m\u001b[43m,\u001b[49m\n\u001b[1;32m    710\u001b[0m \u001b[43m    \u001b[49m\u001b[43mchunked\u001b[49m\u001b[38;5;241;43m=\u001b[39;49m\u001b[43mchunked\u001b[49m\u001b[43m,\u001b[49m\n\u001b[1;32m    711\u001b[0m \u001b[43m\u001b[49m\u001b[43m)\u001b[49m\n\u001b[1;32m    713\u001b[0m \u001b[38;5;66;03m# If we're going to release the connection in ``finally:``, then\u001b[39;00m\n\u001b[1;32m    714\u001b[0m \u001b[38;5;66;03m# the response doesn't need to know about the connection. Otherwise\u001b[39;00m\n\u001b[1;32m    715\u001b[0m \u001b[38;5;66;03m# it will also try to release it and we'll have a double-release\u001b[39;00m\n\u001b[1;32m    716\u001b[0m \u001b[38;5;66;03m# mess.\u001b[39;00m\n\u001b[1;32m    717\u001b[0m response_conn \u001b[38;5;241m=\u001b[39m conn \u001b[38;5;28;01mif\u001b[39;00m \u001b[38;5;129;01mnot\u001b[39;00m release_conn \u001b[38;5;28;01melse\u001b[39;00m \u001b[38;5;28;01mNone\u001b[39;00m\n",
      "File \u001b[0;32m~/.pyenv/versions/3.10.13/envs/boaenv/lib/python3.10/site-packages/urllib3/connectionpool.py:386\u001b[0m, in \u001b[0;36mHTTPConnectionPool._make_request\u001b[0;34m(self, conn, method, url, timeout, chunked, **httplib_request_kw)\u001b[0m\n\u001b[1;32m    384\u001b[0m \u001b[38;5;66;03m# Trigger any extra validation we need to do.\u001b[39;00m\n\u001b[1;32m    385\u001b[0m \u001b[38;5;28;01mtry\u001b[39;00m:\n\u001b[0;32m--> 386\u001b[0m     \u001b[38;5;28;43mself\u001b[39;49m\u001b[38;5;241;43m.\u001b[39;49m\u001b[43m_validate_conn\u001b[49m\u001b[43m(\u001b[49m\u001b[43mconn\u001b[49m\u001b[43m)\u001b[49m\n\u001b[1;32m    387\u001b[0m \u001b[38;5;28;01mexcept\u001b[39;00m (SocketTimeout, BaseSSLError) \u001b[38;5;28;01mas\u001b[39;00m e:\n\u001b[1;32m    388\u001b[0m     \u001b[38;5;66;03m# Py2 raises this as a BaseSSLError, Py3 raises it as socket timeout.\u001b[39;00m\n\u001b[1;32m    389\u001b[0m     \u001b[38;5;28mself\u001b[39m\u001b[38;5;241m.\u001b[39m_raise_timeout(err\u001b[38;5;241m=\u001b[39me, url\u001b[38;5;241m=\u001b[39murl, timeout_value\u001b[38;5;241m=\u001b[39mconn\u001b[38;5;241m.\u001b[39mtimeout)\n",
      "File \u001b[0;32m~/.pyenv/versions/3.10.13/envs/boaenv/lib/python3.10/site-packages/urllib3/connectionpool.py:1042\u001b[0m, in \u001b[0;36mHTTPSConnectionPool._validate_conn\u001b[0;34m(self, conn)\u001b[0m\n\u001b[1;32m   1040\u001b[0m \u001b[38;5;66;03m# Force connect early to allow us to validate the connection.\u001b[39;00m\n\u001b[1;32m   1041\u001b[0m \u001b[38;5;28;01mif\u001b[39;00m \u001b[38;5;129;01mnot\u001b[39;00m \u001b[38;5;28mgetattr\u001b[39m(conn, \u001b[38;5;124m\"\u001b[39m\u001b[38;5;124msock\u001b[39m\u001b[38;5;124m\"\u001b[39m, \u001b[38;5;28;01mNone\u001b[39;00m):  \u001b[38;5;66;03m# AppEngine might not have  `.sock`\u001b[39;00m\n\u001b[0;32m-> 1042\u001b[0m     \u001b[43mconn\u001b[49m\u001b[38;5;241;43m.\u001b[39;49m\u001b[43mconnect\u001b[49m\u001b[43m(\u001b[49m\u001b[43m)\u001b[49m\n\u001b[1;32m   1044\u001b[0m \u001b[38;5;28;01mif\u001b[39;00m \u001b[38;5;129;01mnot\u001b[39;00m conn\u001b[38;5;241m.\u001b[39mis_verified:\n\u001b[1;32m   1045\u001b[0m     warnings\u001b[38;5;241m.\u001b[39mwarn(\n\u001b[1;32m   1046\u001b[0m         (\n\u001b[1;32m   1047\u001b[0m             \u001b[38;5;124m\"\u001b[39m\u001b[38;5;124mUnverified HTTPS request is being made to host \u001b[39m\u001b[38;5;124m'\u001b[39m\u001b[38;5;132;01m%s\u001b[39;00m\u001b[38;5;124m'\u001b[39m\u001b[38;5;124m. \u001b[39m\u001b[38;5;124m\"\u001b[39m\n\u001b[0;32m   (...)\u001b[0m\n\u001b[1;32m   1052\u001b[0m         InsecureRequestWarning,\n\u001b[1;32m   1053\u001b[0m     )\n",
      "File \u001b[0;32m~/.pyenv/versions/3.10.13/envs/boaenv/lib/python3.10/site-packages/urllib3/connection.py:358\u001b[0m, in \u001b[0;36mHTTPSConnection.connect\u001b[0;34m(self)\u001b[0m\n\u001b[1;32m    356\u001b[0m \u001b[38;5;28;01mdef\u001b[39;00m \u001b[38;5;21mconnect\u001b[39m(\u001b[38;5;28mself\u001b[39m):\n\u001b[1;32m    357\u001b[0m     \u001b[38;5;66;03m# Add certificate verification\u001b[39;00m\n\u001b[0;32m--> 358\u001b[0m     \u001b[38;5;28mself\u001b[39m\u001b[38;5;241m.\u001b[39msock \u001b[38;5;241m=\u001b[39m conn \u001b[38;5;241m=\u001b[39m \u001b[38;5;28;43mself\u001b[39;49m\u001b[38;5;241;43m.\u001b[39;49m\u001b[43m_new_conn\u001b[49m\u001b[43m(\u001b[49m\u001b[43m)\u001b[49m\n\u001b[1;32m    359\u001b[0m     hostname \u001b[38;5;241m=\u001b[39m \u001b[38;5;28mself\u001b[39m\u001b[38;5;241m.\u001b[39mhost\n\u001b[1;32m    360\u001b[0m     tls_in_tls \u001b[38;5;241m=\u001b[39m \u001b[38;5;28;01mFalse\u001b[39;00m\n",
      "File \u001b[0;32m~/.pyenv/versions/3.10.13/envs/boaenv/lib/python3.10/site-packages/urllib3/connection.py:174\u001b[0m, in \u001b[0;36mHTTPConnection._new_conn\u001b[0;34m(self)\u001b[0m\n\u001b[1;32m    171\u001b[0m     extra_kw[\u001b[38;5;124m\"\u001b[39m\u001b[38;5;124msocket_options\u001b[39m\u001b[38;5;124m\"\u001b[39m] \u001b[38;5;241m=\u001b[39m \u001b[38;5;28mself\u001b[39m\u001b[38;5;241m.\u001b[39msocket_options\n\u001b[1;32m    173\u001b[0m \u001b[38;5;28;01mtry\u001b[39;00m:\n\u001b[0;32m--> 174\u001b[0m     conn \u001b[38;5;241m=\u001b[39m \u001b[43mconnection\u001b[49m\u001b[38;5;241;43m.\u001b[39;49m\u001b[43mcreate_connection\u001b[49m\u001b[43m(\u001b[49m\n\u001b[1;32m    175\u001b[0m \u001b[43m        \u001b[49m\u001b[43m(\u001b[49m\u001b[38;5;28;43mself\u001b[39;49m\u001b[38;5;241;43m.\u001b[39;49m\u001b[43m_dns_host\u001b[49m\u001b[43m,\u001b[49m\u001b[43m \u001b[49m\u001b[38;5;28;43mself\u001b[39;49m\u001b[38;5;241;43m.\u001b[39;49m\u001b[43mport\u001b[49m\u001b[43m)\u001b[49m\u001b[43m,\u001b[49m\u001b[43m \u001b[49m\u001b[38;5;28;43mself\u001b[39;49m\u001b[38;5;241;43m.\u001b[39;49m\u001b[43mtimeout\u001b[49m\u001b[43m,\u001b[49m\u001b[43m \u001b[49m\u001b[38;5;241;43m*\u001b[39;49m\u001b[38;5;241;43m*\u001b[39;49m\u001b[43mextra_kw\u001b[49m\n\u001b[1;32m    176\u001b[0m \u001b[43m    \u001b[49m\u001b[43m)\u001b[49m\n\u001b[1;32m    178\u001b[0m \u001b[38;5;28;01mexcept\u001b[39;00m SocketTimeout:\n\u001b[1;32m    179\u001b[0m     \u001b[38;5;28;01mraise\u001b[39;00m ConnectTimeoutError(\n\u001b[1;32m    180\u001b[0m         \u001b[38;5;28mself\u001b[39m,\n\u001b[1;32m    181\u001b[0m         \u001b[38;5;124m\"\u001b[39m\u001b[38;5;124mConnection to \u001b[39m\u001b[38;5;132;01m%s\u001b[39;00m\u001b[38;5;124m timed out. (connect timeout=\u001b[39m\u001b[38;5;132;01m%s\u001b[39;00m\u001b[38;5;124m)\u001b[39m\u001b[38;5;124m\"\u001b[39m\n\u001b[1;32m    182\u001b[0m         \u001b[38;5;241m%\u001b[39m (\u001b[38;5;28mself\u001b[39m\u001b[38;5;241m.\u001b[39mhost, \u001b[38;5;28mself\u001b[39m\u001b[38;5;241m.\u001b[39mtimeout),\n\u001b[1;32m    183\u001b[0m     )\n",
      "File \u001b[0;32m~/.pyenv/versions/3.10.13/envs/boaenv/lib/python3.10/site-packages/urllib3/util/connection.py:85\u001b[0m, in \u001b[0;36mcreate_connection\u001b[0;34m(address, timeout, source_address, socket_options)\u001b[0m\n\u001b[1;32m     83\u001b[0m     \u001b[38;5;28;01mif\u001b[39;00m source_address:\n\u001b[1;32m     84\u001b[0m         sock\u001b[38;5;241m.\u001b[39mbind(source_address)\n\u001b[0;32m---> 85\u001b[0m     \u001b[43msock\u001b[49m\u001b[38;5;241;43m.\u001b[39;49m\u001b[43mconnect\u001b[49m\u001b[43m(\u001b[49m\u001b[43msa\u001b[49m\u001b[43m)\u001b[49m\n\u001b[1;32m     86\u001b[0m     \u001b[38;5;28;01mreturn\u001b[39;00m sock\n\u001b[1;32m     88\u001b[0m \u001b[38;5;28;01mexcept\u001b[39;00m socket\u001b[38;5;241m.\u001b[39merror \u001b[38;5;28;01mas\u001b[39;00m e:\n",
      "\u001b[0;31mKeyboardInterrupt\u001b[0m: "
     ]
    }
   ],
   "source": [
    "for contract in minter_txs['to'].value_counts()[30:60].index:\n",
    "    URL = f\"https://api.etherscan.io/api?module=contract&action=getsourcecode&address={contract}&apikey={API_KEY}\"\n",
    "    r = requests.get(URL)\n",
    "    if r.json()['result'][0]['Implementation']:\n",
    "        impl_contract = r.json()['result'][0]['Implementation']\n",
    "        URL = f\"https://api.etherscan.io/api?module=contract&action=getsourcecode&address={impl_contract}&apikey={API_KEY}\"\n",
    "        r = requests.get(URL)        \n",
    "    #contract_names[contract] = (r.json()['result'][0]['ContractName'])\n",
    "    print(contract, (r.json()['result'][0]['ContractName']))"
   ]
  },
  {
   "cell_type": "code",
   "execution_count": 71,
   "id": "94b4a393-96ad-40a7-a568-21028b21f193",
   "metadata": {},
   "outputs": [
    {
     "data": {
      "text/plain": [
       "{'0x00907f9921424583e7ffbfedf84f92b7b2be4977': 'GhoAToken',\n",
       " '0x5c95d4b1c3321cf898d25949f41d50be2db5bc1d': 'UniswapV3Pool',\n",
       " '0x1a88df1cfe15af22b3c4c783d4e6f7f9e0c1885d': 'GHO Staking',\n",
       " '0x9008d19f58aabd9ed0d60971565aa8510560ab41': 'CowSwap',\n",
       " '0xdef171fe48cf0115b1d80b88dc8eab59176fee57': 'ParaSwap',\n",
       " '0x383e7acd889bf57b0d79a584009cb570534ab518': 'UniswapV3Pool',\n",
       " '0xe37e799d5077682fa0a244d46e5649f71457bd09': '1inch',\n",
       " '0x54eebc36527fe2e5624051e3c895810d7b68bcfc': 'UniswapV3Pool',\n",
       " '0xba12222222228d8ba445958a75a0704d566bf2c8': 'Balancer',\n",
       " '0x74de5d4fcbf63e00296fd95d33236b9794016631': 'AirSwap',\n",
       " '0xad3b67bca8935cb510c8d18bd45f0b94f54a968f': '1inch',\n",
       " '0x8d8404f8cca4c8834ca3cab1e54887ae47724bee': '1inch',\n",
       " '0x5756880b6a1eaba0175227bf02a7e87c1e02b28c': 'GHO CCIP',\n",
       " '0x22f9dcf4647084d6c31b2765f6910cd85c178c18': '0x Exchange',\n",
       " '0x464c71f6c2f760dda6093dcb91c24c39e5d6e18c': 'Aave Collector V2',\n",
       " '0xbbec426df87537ad0bec0e899007be441427d0f8': 'UniswapV3Pool',\n",
       " '0xf0d4c12a5768d806021f80a262b4d39d26c58b8d': 'Curve',\n",
       " '0x3208684f96458c540eb08f6f01b9e9afb2b7d4f0': '1inch',\n",
       " '0x92f3f71cef740ed5784874b8c70ff87ecdf33588': '1inch',\n",
       " '0xf081470f5c6fbccf48cc4e5b82dd926409dcdd67': 'Kyber Network',\n",
       " '0x6f42b83ecda76a8313fd8a45ca18a3fdfd37bbc7': 'Gearbox',\n",
       " '0x1231deb6f5749ef6ce6943a275a1d3e7486f4eae': 'Li.Fi',\n",
       " '0x14cf6d2fe3e1b326114b07d22a6f6bb59e346c67': 'Maverick',\n",
       " '0x16c6521dff6bab339122a0fe25a9116693265353': 'Curve',\n",
       " '0xf4d34d7fdd2ed5d57c6f583237bb038fc3839d17': '1inch',\n",
       " '0x9a83b11e50ff5cc544f1401f35807b7c07de791d': 'UniswapV3Pool',\n",
       " '0x28104d4f703ee5b5011cefe106f54efd56f33f95': 'Odos',\n",
       " '0x5f0000d4780a00d2dce0a00004000800cb0e5041': 'ParaSwap',\n",
       " '0x670a72e6d22b0956c0d2573288f82dcc5d6e3a61': 'Curve',\n",
       " '0xbb33ed8c1148e62411a97d25390fd48698fd937e': '1inch',\n",
       " '0xd8533305aa8d9eb5681f15f1461e02c1601eed72': 'UniswapV3Pool',\n",
       " '0x5f515f6c524b18ca30f7783fb58dd4be2e9904ec': '1inch',\n",
       " '0x050ebe3dbb4b3a3526735b04cc3d96c80609ee7e': 'Maverick',\n",
       " '0x86152df0a0e321afb3b0b9c4deb813184f365ada': 'Curve',\n",
       " '0xbf683b7aaf9accea6bff8e926e03f6ceb98b525a': '1inch',\n",
       " '0xd1742b3c4fbb096990c8950fa635aec75b30781a': '1inch',\n",
       " '0x74345504eaea3d9408fc69ae7eb2d14095643c5b': 'Curve',\n",
       " '0xc8c9cfad493cffffd6684da0f45d141e33b6ef27': '1inch',\n",
       " '0x0d67b27c340887da87344c344c20ce60a8eb84c5': 'Maverick',\n",
       " '0x99a58482bd75cbab83b27ec03ca68ff489b5788f': 'Curve',\n",
       " '0xa8376f53391a041c8236a232f7f019ea76eed86d': 'Odos',\n",
       " '0x1a22c1886196101babcac1bf4223294ab04c1d66': 'Odos',\n",
       " '0xc48c6d400de27081df85d55100c7b06f190c764a': 'Maverick',\n",
       " '0x635ef0056a597d13863b73825cca297236578595': 'Curve',\n",
       " '0x0b8a49d816cc709b6eadb09498030ae3416b66dc': '1inch',\n",
       " '0x1d7405df25fd2fe80390da3a696dcfd5120ca9ce': 'ParaSwap',\n",
       " '0x8dd418fa80b7f37856e36199e67013f00e5d7a61': 'Maverick',\n",
       " '0xd08d0006f00040b400180f9500b00c5026ac0900': 'ParaSwap',\n",
       " '0x19ea2e6f21bdfc894abf09fa179d59f6c0e0797b': '1inch',\n",
       " '0x63e988f4b30245f9f4ee898531e0be3fee20b170': '1inch'}"
      ]
     },
     "execution_count": 71,
     "metadata": {},
     "output_type": "execute_result"
    }
   ],
   "source": [
    "contract_names |= {\n",
    "    #'0x6467e807db1e71b9ef04e0e3afb962e4b0900b2b': 'DefiSaver',\n",
    "    '0xd8533305aa8d9eb5681f15f1461e02c1601eed72': 'UniswapV3Pool',\n",
    "    \"0x5f515f6c524b18ca30f7783fb58dd4be2e9904ec\": \"1inch\",\n",
    "    \"0x050ebe3dbb4b3a3526735b04cc3d96c80609ee7e\": \"Maverick\",\n",
    "    \"0x86152df0a0e321afb3b0b9c4deb813184f365ada\": \"Curve\",\n",
    "    \"0xbf683b7aaf9accea6bff8e926e03f6ceb98b525a\": \"1inch\",\n",
    "    \"0xd1742b3c4fbb096990c8950fa635aec75b30781a\": \"1inch\",\n",
    "    \"0x74345504eaea3d9408fc69ae7eb2d14095643c5b\": \"Curve\",\n",
    "    \"0xc8c9cfad493cffffd6684da0f45d141e33b6ef27\": \"1inch\",\n",
    "    \"0x0d67b27c340887da87344c344c20ce60a8eb84c5\": \"Maverick\",\n",
    "    #\"0x9c594c2e2e2e5aa300be12596215188c324c3e7c\": \"Spectra\",\n",
    "    \"0x99a58482bd75cbab83b27ec03ca68ff489b5788f\": \"Curve\",\n",
    "    \"0xa8376f53391a041c8236a232f7f019ea76eed86d\": \"Odos\",\n",
    "    \"0x1a22c1886196101babcac1bf4223294ab04c1d66\": \"Odos\",\n",
    "    #\"0x329c54289ff5d6b7b7dae13592c6b1eda1543ed4\": \"Marc Zeller\",\n",
    "    \"0xc48c6d400de27081df85d55100c7b06f190c764a\": \"Maverick\",\n",
    "    \"0x635ef0056a597d13863b73825cca297236578595\": \"Curve\",\n",
    "    \"0x0b8a49d816cc709b6eadb09498030ae3416b66dc\": \"1inch\",\n",
    "    \"0x1d7405df25fd2fe80390da3a696dcfd5120ca9ce\": \"ParaSwap\",\n",
    "    #\"0x0f4a1d7fdf4890be35e71f3e0bbc4a0ec377eca3\": \"\",\n",
    "    \"0x8dd418fa80b7f37856e36199e67013f00e5d7a61\": \"Maverick\",\n",
    "    #\"0x6e7058c91f85e0f6db4fc9da2ca41241f5e4263f\": \"Notional\",\n",
    "    #\"0xa9c0cded336699547aac4f9de5a11ada979bc59a\": \"OpenOcean\",\n",
    "    \"0xd08d0006f00040b400180f9500b00c5026ac0900\": \"ParaSwap\",\n",
    "    #\"0x55877bd7f2ee37bde55ca4b271a3631f3a7ef121\": \"OpenOcean\",\n",
    "    #\"0x3d20601ac0ba9cae4564ddf7870825c505b69f1a\": \"Spectra\",\n",
    "    \"0x19ea2e6f21bdfc894abf09fa179d59f6c0e0797b\": \"1inch\",\n",
    "    #\"0x93ebc3ca85f96afd72edb914e833fe18888de179\": \"Yearn V3 Vault\",\n",
    "    \"0x63e988f4b30245f9f4ee898531e0be3fee20b170\": \"1inch\",\n",
    "    \"0x6f42b83ecda76a8313fd8a45ca18a3fdfd37bbc7\": \"Gearbox\"\n",
    "}\n",
    "contract_names"
   ]
  },
  {
   "cell_type": "code",
   "execution_count": 14,
   "id": "b7a841ee-0dea-46c9-990f-4faf61eb78ad",
   "metadata": {},
   "outputs": [
    {
     "data": {
      "text/plain": [
       "GhoAToken            1142\n",
       "UniswapV3Pool        1089\n",
       "Others                693\n",
       "1inch                 542\n",
       "GHO Staking           449\n",
       "CowSwap               298\n",
       "ParaSwap              267\n",
       "Curve                 147\n",
       "Balancer              122\n",
       "AirSwap               100\n",
       "Maverick               85\n",
       "GHO CCIP               58\n",
       "0x Exchange            53\n",
       "Aave Collector V2      52\n",
       "Odos                   48\n",
       "Kyber Network          37\n",
       "Li.Fi                  34\n",
       "Gearbox                34\n",
       "Name: to, dtype: int64"
      ]
     },
     "execution_count": 14,
     "metadata": {},
     "output_type": "execute_result"
    }
   ],
   "source": [
    "minter_txs.copy()['to'].apply(lambda x: contract_names.get(x, \"Others\")).value_counts()"
   ]
  },
  {
   "cell_type": "markdown",
   "id": "e7036b7f-172e-4c6e-8d12-2f76a583bd4f",
   "metadata": {},
   "source": [
    "### Sent to EOAs"
   ]
  },
  {
   "cell_type": "code",
   "execution_count": 15,
   "id": "7fd979f7-b212-4c15-bbc8-00f33c3032e4",
   "metadata": {},
   "outputs": [
    {
     "data": {
      "text/plain": [
       "693"
      ]
     },
     "execution_count": 15,
     "metadata": {},
     "output_type": "execute_result"
    }
   ],
   "source": [
    "other_addresses = [user for user in minter_txs['to'] if user not in contract_names]\n",
    "len(other_addresses)"
   ]
  },
  {
   "cell_type": "code",
   "execution_count": 116,
   "id": "e3463a0b-2f5c-4721-8e96-7f4b3c531b70",
   "metadata": {},
   "outputs": [
    {
     "name": "stderr",
     "output_type": "stream",
     "text": [
      "100%|████████████████████████████████████████████████████████████████████████████████| 23/23 [00:13<00:00,  1.75it/s]"
     ]
    },
    {
     "name": "stdout",
     "output_type": "stream",
     "text": [
      "EOAs: 300\n",
      "Contracts: 142\n"
     ]
    },
    {
     "name": "stderr",
     "output_type": "stream",
     "text": [
      "\n"
     ]
    }
   ],
   "source": [
    "import asyncio\n",
    "from web3 import Web3\n",
    "import concurrent\n",
    "from tqdm import tqdm\n",
    "\n",
    "provider = os.environ.get('WEB3_PROVIDER_URL')\n",
    "w3 = Web3(Web3.HTTPProvider(provider))\n",
    "\n",
    "def check_address_type(address):\n",
    "    code = w3.eth.get_code(Web3.to_checksum_address(address))\n",
    "    return address, len(code) > 0\n",
    "\n",
    "def process_batch(addresses):\n",
    "    return [check_address_type(addr) for addr in addresses]\n",
    "\n",
    "def parallel_address_check(addresses, batch_size=20):\n",
    "    eoa_count = 0\n",
    "    contract_count = 0\n",
    "    results = []\n",
    "\n",
    "    with concurrent.futures.ThreadPoolExecutor() as executor:\n",
    "        batches = [addresses[i:i + batch_size] for i in range(0, len(addresses), batch_size)]\n",
    "        futures = [executor.submit(process_batch, batch) for batch in batches]\n",
    "\n",
    "        for future in tqdm(concurrent.futures.as_completed(futures), total=len(futures)):\n",
    "            batch_results = future.result()\n",
    "            for address, is_contract in batch_results:\n",
    "                if is_contract:\n",
    "                    contract_count += 1\n",
    "                else:\n",
    "                    eoa_count += 1\n",
    "                results.append((address, 'Contract' if is_contract else 'EOA'))\n",
    "\n",
    "    return results, eoa_count, contract_count\n",
    "\n",
    "results, eoa_count, contract_count = parallel_address_check(list(set(other_addresses)))\n",
    "\n",
    "print(f\"EOAs: {eoa_count}\")\n",
    "print(f\"Contracts: {contract_count}\")"
   ]
  },
  {
   "cell_type": "code",
   "execution_count": 117,
   "id": "34325ab9-7d7a-40a9-a22e-2f26caa997a7",
   "metadata": {},
   "outputs": [
    {
     "data": {
      "text/plain": [
       "{'GhoAToken': 1142,\n",
       " 'UniswapV3Pool': 1089,\n",
       " 'Others': 142,\n",
       " '1inch': 542,\n",
       " 'GHO Staking': 449,\n",
       " 'CowSwap': 298,\n",
       " 'ParaSwap': 267,\n",
       " 'Curve': 147,\n",
       " 'Balancer': 122,\n",
       " 'AirSwap': 100,\n",
       " 'Maverick': 85,\n",
       " 'GHO CCIP': 58,\n",
       " '0x Exchange': 53,\n",
       " 'Aave Collector V2': 52,\n",
       " 'Odos': 48,\n",
       " 'Kyber Network': 37,\n",
       " 'Li.Fi': 34,\n",
       " 'Gearbox': 34,\n",
       " 'Sent to other EOA': 300,\n",
       " 'Held in wallet': 141}"
      ]
     },
     "execution_count": 117,
     "metadata": {},
     "output_type": "execute_result"
    }
   ],
   "source": [
    "first_order_flows = minter_txs.copy()['to'].apply(lambda x: contract_names.get(x, \"Others\")).value_counts().to_dict()\n",
    "first_order_flows['Sent to other EOA'] = 300\n",
    "first_order_flows[\"Others\"] = 142\n",
    "first_order_flows[\"Held in wallet\"] = len(set(hoarders))\n",
    "first_order_flows"
   ]
  },
  {
   "cell_type": "markdown",
   "id": "0267325f-cb1f-4aae-adb0-f247eed9266e",
   "metadata": {},
   "source": [
    "## Second Order Flows"
   ]
  },
  {
   "cell_type": "markdown",
   "id": "d03615e1-e21a-43d6-b84d-2629da58021b",
   "metadata": {},
   "source": [
    "We filtered dupe transactions in the first order flows so we might have an issue with the numbers not adding up. In particular we would have more second order flows. It might be fine because the expectation is we filtered mostly arbs / MEV but it might not. To avoid issue it'll be better to calculate percentages and then reapply those to the absolute number we have for first order flows."
   ]
  },
  {
   "cell_type": "code",
   "execution_count": 17,
   "id": "6ed0064f-090e-4388-b374-cc8071cc85f5",
   "metadata": {},
   "outputs": [],
   "source": [
    "minter_full_txs = df[df['from'].isin(minters)]"
   ]
  },
  {
   "cell_type": "markdown",
   "id": "a008aa30-ed29-4989-8e96-4753eec68b97",
   "metadata": {},
   "source": [
    "We're only going to check DEX trades"
   ]
  },
  {
   "cell_type": "code",
   "execution_count": 64,
   "id": "23067551-73dc-426d-8212-2a2ecad49536",
   "metadata": {},
   "outputs": [
    {
     "name": "stderr",
     "output_type": "stream",
     "text": [
      "/tmp/ipykernel_78355/1021818953.py:2: SettingWithCopyWarning:\n",
      "\n",
      "\n",
      "A value is trying to be set on a copy of a slice from a DataFrame.\n",
      "Try using .loc[row_indexer,col_indexer] = value instead\n",
      "\n",
      "See the caveats in the documentation: https://pandas.pydata.org/pandas-docs/stable/user_guide/indexing.html#returning-a-view-versus-a-copy\n",
      "\n"
     ]
    },
    {
     "data": {
      "text/html": [
       "<div>\n",
       "<style scoped>\n",
       "    .dataframe tbody tr th:only-of-type {\n",
       "        vertical-align: middle;\n",
       "    }\n",
       "\n",
       "    .dataframe tbody tr th {\n",
       "        vertical-align: top;\n",
       "    }\n",
       "\n",
       "    .dataframe thead th {\n",
       "        text-align: right;\n",
       "    }\n",
       "</style>\n",
       "<table border=\"1\" class=\"dataframe\">\n",
       "  <thead>\n",
       "    <tr style=\"text-align: right;\">\n",
       "      <th></th>\n",
       "      <th>from</th>\n",
       "      <th>to</th>\n",
       "      <th>value</th>\n",
       "      <th>transferIndex</th>\n",
       "      <th>borrowCap</th>\n",
       "      <th>supplyCap</th>\n",
       "      <th>totalVariableDebt</th>\n",
       "      <th>variableBorrowRate</th>\n",
       "      <th>blockNumber</th>\n",
       "      <th>blockTimestamp</th>\n",
       "      <th>transactionHash</th>\n",
       "      <th>mint</th>\n",
       "      <th>destination</th>\n",
       "    </tr>\n",
       "  </thead>\n",
       "  <tbody>\n",
       "    <tr>\n",
       "      <th>10</th>\n",
       "      <td>0x79603115df2ba00659adc63192325cf104ca529c</td>\n",
       "      <td>0x5459ba81d4b375a7b2e34aa83edb1e18c4dc181e</td>\n",
       "      <td>155934142056500000000</td>\n",
       "      <td>10</td>\n",
       "      <td>0</td>\n",
       "      <td>0</td>\n",
       "      <td>81343918969610398129157</td>\n",
       "      <td>15000000000000000000000000</td>\n",
       "      <td>17699326</td>\n",
       "      <td>1689430739</td>\n",
       "      <td>0x9e71943828922409e045ff5c9b9011925d542de62a7d...</td>\n",
       "      <td>False</td>\n",
       "      <td>Others</td>\n",
       "    </tr>\n",
       "    <tr>\n",
       "      <th>18</th>\n",
       "      <td>0xd2eeff73117c86c14f11a6052620848f8dd6e0c8</td>\n",
       "      <td>0xc0268fdbc7f526b43cdbf34e7529b7da0d06dd55</td>\n",
       "      <td>28256317265407911651909</td>\n",
       "      <td>18</td>\n",
       "      <td>0</td>\n",
       "      <td>0</td>\n",
       "      <td>277080953174315786866668</td>\n",
       "      <td>15000000000000000000000000</td>\n",
       "      <td>17699363</td>\n",
       "      <td>1689431195</td>\n",
       "      <td>0xc2c13363f315249fc3481b0c94397edbc15269b87bad...</td>\n",
       "      <td>False</td>\n",
       "      <td>Others</td>\n",
       "    </tr>\n",
       "    <tr>\n",
       "      <th>38</th>\n",
       "      <td>0xd2eeff73117c86c14f11a6052620848f8dd6e0c8</td>\n",
       "      <td>0xc0268fdbc7f526b43cdbf34e7529b7da0d06dd55</td>\n",
       "      <td>16812655822481809110230</td>\n",
       "      <td>38</td>\n",
       "      <td>0</td>\n",
       "      <td>0</td>\n",
       "      <td>278461016597257517749073</td>\n",
       "      <td>15000000000000000000000000</td>\n",
       "      <td>17699401</td>\n",
       "      <td>1689431675</td>\n",
       "      <td>0x2f8ebe2e50c7b6ddbbaab901e68936d166aef8a01406...</td>\n",
       "      <td>False</td>\n",
       "      <td>Others</td>\n",
       "    </tr>\n",
       "    <tr>\n",
       "      <th>50</th>\n",
       "      <td>0x9e9fbeb970383a43d6fba10af4bc0a96e567f83a</td>\n",
       "      <td>0x8e5c57e69ff1a5a34a0358a260d73981f38e924c</td>\n",
       "      <td>100000000000000000000</td>\n",
       "      <td>50</td>\n",
       "      <td>0</td>\n",
       "      <td>0</td>\n",
       "      <td>281362106879226153725806</td>\n",
       "      <td>15000000000000000000000000</td>\n",
       "      <td>17699435</td>\n",
       "      <td>1689432107</td>\n",
       "      <td>0x8f0f230cabf7e21a954886310b70dd0b7c1da1799ff4...</td>\n",
       "      <td>False</td>\n",
       "      <td>Others</td>\n",
       "    </tr>\n",
       "    <tr>\n",
       "      <th>55</th>\n",
       "      <td>0x2e21f5d32841cf8c7da805185a041400bf15f21a</td>\n",
       "      <td>0xc0268fdbc7f526b43cdbf34e7529b7da0d06dd55</td>\n",
       "      <td>12977707562003048338489</td>\n",
       "      <td>55</td>\n",
       "      <td>0</td>\n",
       "      <td>0</td>\n",
       "      <td>281162188722374181974933</td>\n",
       "      <td>15000000000000000000000000</td>\n",
       "      <td>17699485</td>\n",
       "      <td>1689432719</td>\n",
       "      <td>0x65ad012bb84f96890b88a8cbc1d1aa889333bab85ef2...</td>\n",
       "      <td>False</td>\n",
       "      <td>Others</td>\n",
       "    </tr>\n",
       "    <tr>\n",
       "      <th>...</th>\n",
       "      <td>...</td>\n",
       "      <td>...</td>\n",
       "      <td>...</td>\n",
       "      <td>...</td>\n",
       "      <td>...</td>\n",
       "      <td>...</td>\n",
       "      <td>...</td>\n",
       "      <td>...</td>\n",
       "      <td>...</td>\n",
       "      <td>...</td>\n",
       "      <td>...</td>\n",
       "      <td>...</td>\n",
       "      <td>...</td>\n",
       "    </tr>\n",
       "    <tr>\n",
       "      <th>82022</th>\n",
       "      <td>0x0a9972b72910b8668755d0dc016ecc68d1cbbcca</td>\n",
       "      <td>0x16c6521dff6bab339122a0fe25a9116693265353</td>\n",
       "      <td>5000000000000000000000</td>\n",
       "      <td>82022</td>\n",
       "      <td>125000000</td>\n",
       "      <td>0</td>\n",
       "      <td>111471857694936162785433874</td>\n",
       "      <td>60000000000000000000000000</td>\n",
       "      <td>20682692</td>\n",
       "      <td>1725518867</td>\n",
       "      <td>0x84b13ede19fa90a3e9c92e514b89d13d54542d28ddeb...</td>\n",
       "      <td>False</td>\n",
       "      <td>Curve</td>\n",
       "    </tr>\n",
       "    <tr>\n",
       "      <th>82065</th>\n",
       "      <td>0xd6c1f6cd5134568979f3c8cf41ed2332cb6b4a74</td>\n",
       "      <td>0x1231deb6f5749ef6ce6943a275a1d3e7486f4eae</td>\n",
       "      <td>2017588478833170819005</td>\n",
       "      <td>82065</td>\n",
       "      <td>125000000</td>\n",
       "      <td>0</td>\n",
       "      <td>111470318026089831961216830</td>\n",
       "      <td>60000000000000000000000000</td>\n",
       "      <td>20683212</td>\n",
       "      <td>1725525167</td>\n",
       "      <td>0x9427f8f1445d4931c5e76ff3dcce55b9639b3a63a897...</td>\n",
       "      <td>False</td>\n",
       "      <td>Li.Fi</td>\n",
       "    </tr>\n",
       "    <tr>\n",
       "      <th>82069</th>\n",
       "      <td>0x4f0a01badaa24f762cee620883f16c4460c06be0</td>\n",
       "      <td>0x28104d4f703ee5b5011cefe106f54efd56f33f95</td>\n",
       "      <td>167000999250672397414184</td>\n",
       "      <td>82069</td>\n",
       "      <td>125000000</td>\n",
       "      <td>0</td>\n",
       "      <td>111470450365358614119627153</td>\n",
       "      <td>60000000000000000000000000</td>\n",
       "      <td>20683263</td>\n",
       "      <td>1725525791</td>\n",
       "      <td>0x6d58e97b207f484b57026614a034aef0e1518069f03c...</td>\n",
       "      <td>False</td>\n",
       "      <td>Odos</td>\n",
       "    </tr>\n",
       "    <tr>\n",
       "      <th>82078</th>\n",
       "      <td>0x4f0a01badaa24f762cee620883f16c4460c06be0</td>\n",
       "      <td>0x5c95d4b1c3321cf898d25949f41d50be2db5bc1d</td>\n",
       "      <td>130421901502327359231</td>\n",
       "      <td>82078</td>\n",
       "      <td>125000000</td>\n",
       "      <td>0</td>\n",
       "      <td>111470554709892853590148427</td>\n",
       "      <td>60000000000000000000000000</td>\n",
       "      <td>20683304</td>\n",
       "      <td>1725526283</td>\n",
       "      <td>0x8e8e60ab09cd4a9ffcebf296395599fb7e08d34c0da2...</td>\n",
       "      <td>False</td>\n",
       "      <td>UniswapV3Pool</td>\n",
       "    </tr>\n",
       "    <tr>\n",
       "      <th>82085</th>\n",
       "      <td>0xe441b40e6ab0430d26f4c6ae66b288935730d23d</td>\n",
       "      <td>0x16c6521dff6bab339122a0fe25a9116693265353</td>\n",
       "      <td>10000000000000000000000</td>\n",
       "      <td>82085</td>\n",
       "      <td>125000000</td>\n",
       "      <td>0</td>\n",
       "      <td>111480760865447009374079977</td>\n",
       "      <td>60000000000000000000000000</td>\n",
       "      <td>20683385</td>\n",
       "      <td>1725527255</td>\n",
       "      <td>0x31a87c6586fbb4373516f0bee3800f5448636c974b88...</td>\n",
       "      <td>False</td>\n",
       "      <td>Curve</td>\n",
       "    </tr>\n",
       "  </tbody>\n",
       "</table>\n",
       "<p>9331 rows × 13 columns</p>\n",
       "</div>"
      ],
      "text/plain": [
       "                                             from  \\\n",
       "10     0x79603115df2ba00659adc63192325cf104ca529c   \n",
       "18     0xd2eeff73117c86c14f11a6052620848f8dd6e0c8   \n",
       "38     0xd2eeff73117c86c14f11a6052620848f8dd6e0c8   \n",
       "50     0x9e9fbeb970383a43d6fba10af4bc0a96e567f83a   \n",
       "55     0x2e21f5d32841cf8c7da805185a041400bf15f21a   \n",
       "...                                           ...   \n",
       "82022  0x0a9972b72910b8668755d0dc016ecc68d1cbbcca   \n",
       "82065  0xd6c1f6cd5134568979f3c8cf41ed2332cb6b4a74   \n",
       "82069  0x4f0a01badaa24f762cee620883f16c4460c06be0   \n",
       "82078  0x4f0a01badaa24f762cee620883f16c4460c06be0   \n",
       "82085  0xe441b40e6ab0430d26f4c6ae66b288935730d23d   \n",
       "\n",
       "                                               to                     value  \\\n",
       "10     0x5459ba81d4b375a7b2e34aa83edb1e18c4dc181e     155934142056500000000   \n",
       "18     0xc0268fdbc7f526b43cdbf34e7529b7da0d06dd55   28256317265407911651909   \n",
       "38     0xc0268fdbc7f526b43cdbf34e7529b7da0d06dd55   16812655822481809110230   \n",
       "50     0x8e5c57e69ff1a5a34a0358a260d73981f38e924c     100000000000000000000   \n",
       "55     0xc0268fdbc7f526b43cdbf34e7529b7da0d06dd55   12977707562003048338489   \n",
       "...                                           ...                       ...   \n",
       "82022  0x16c6521dff6bab339122a0fe25a9116693265353    5000000000000000000000   \n",
       "82065  0x1231deb6f5749ef6ce6943a275a1d3e7486f4eae    2017588478833170819005   \n",
       "82069  0x28104d4f703ee5b5011cefe106f54efd56f33f95  167000999250672397414184   \n",
       "82078  0x5c95d4b1c3321cf898d25949f41d50be2db5bc1d     130421901502327359231   \n",
       "82085  0x16c6521dff6bab339122a0fe25a9116693265353   10000000000000000000000   \n",
       "\n",
       "       transferIndex  borrowCap supplyCap            totalVariableDebt  \\\n",
       "10                10          0         0      81343918969610398129157   \n",
       "18                18          0         0     277080953174315786866668   \n",
       "38                38          0         0     278461016597257517749073   \n",
       "50                50          0         0     281362106879226153725806   \n",
       "55                55          0         0     281162188722374181974933   \n",
       "...              ...        ...       ...                          ...   \n",
       "82022          82022  125000000         0  111471857694936162785433874   \n",
       "82065          82065  125000000         0  111470318026089831961216830   \n",
       "82069          82069  125000000         0  111470450365358614119627153   \n",
       "82078          82078  125000000         0  111470554709892853590148427   \n",
       "82085          82085  125000000         0  111480760865447009374079977   \n",
       "\n",
       "               variableBorrowRate blockNumber blockTimestamp  \\\n",
       "10     15000000000000000000000000    17699326     1689430739   \n",
       "18     15000000000000000000000000    17699363     1689431195   \n",
       "38     15000000000000000000000000    17699401     1689431675   \n",
       "50     15000000000000000000000000    17699435     1689432107   \n",
       "55     15000000000000000000000000    17699485     1689432719   \n",
       "...                           ...         ...            ...   \n",
       "82022  60000000000000000000000000    20682692     1725518867   \n",
       "82065  60000000000000000000000000    20683212     1725525167   \n",
       "82069  60000000000000000000000000    20683263     1725525791   \n",
       "82078  60000000000000000000000000    20683304     1725526283   \n",
       "82085  60000000000000000000000000    20683385     1725527255   \n",
       "\n",
       "                                         transactionHash   mint    destination  \n",
       "10     0x9e71943828922409e045ff5c9b9011925d542de62a7d...  False         Others  \n",
       "18     0xc2c13363f315249fc3481b0c94397edbc15269b87bad...  False         Others  \n",
       "38     0x2f8ebe2e50c7b6ddbbaab901e68936d166aef8a01406...  False         Others  \n",
       "50     0x8f0f230cabf7e21a954886310b70dd0b7c1da1799ff4...  False         Others  \n",
       "55     0x65ad012bb84f96890b88a8cbc1d1aa889333bab85ef2...  False         Others  \n",
       "...                                                  ...    ...            ...  \n",
       "82022  0x84b13ede19fa90a3e9c92e514b89d13d54542d28ddeb...  False          Curve  \n",
       "82065  0x9427f8f1445d4931c5e76ff3dcce55b9639b3a63a897...  False          Li.Fi  \n",
       "82069  0x6d58e97b207f484b57026614a034aef0e1518069f03c...  False           Odos  \n",
       "82078  0x8e8e60ab09cd4a9ffcebf296395599fb7e08d34c0da2...  False  UniswapV3Pool  \n",
       "82085  0x31a87c6586fbb4373516f0bee3800f5448636c974b88...  False          Curve  \n",
       "\n",
       "[9331 rows x 13 columns]"
      ]
     },
     "execution_count": 64,
     "metadata": {},
     "output_type": "execute_result"
    }
   ],
   "source": [
    "dexes = ['1inch', 'Odos', 'Curve', 'CowSwap', 'ParaSwap', 'Maverick', 'Balancer', 'UniswapV3Pool', '0x Exchange', 'Kyber Network', 'Li.Fi', 'Others']\n",
    "minter_full_txs['destination'] =  minter_full_txs['to'].apply(lambda x: contract_names.get(x, \"Others\"))\n",
    "dex_txs = minter_full_txs[minter_full_txs['destination'].isin(dexes)]\n",
    "dex_txs"
   ]
  },
  {
   "cell_type": "markdown",
   "id": "c189eeb6-d094-4d51-ba8f-cc16ed5db987",
   "metadata": {},
   "source": [
    "### Parse token transfers\n",
    "We're going to look for ERC20 transfers going TO the dumper address in the same transaction and we'll fetch the symbol for those"
   ]
  },
  {
   "cell_type": "code",
   "execution_count": 67,
   "id": "522658db-3f9f-4c73-8130-cb9bf7129712",
   "metadata": {},
   "outputs": [
    {
     "name": "stderr",
     "output_type": "stream",
     "text": [
      "  0%|                                                                                        | 0/467 [00:00<?, ?it/s]"
     ]
    },
    {
     "name": "stdout",
     "output_type": "stream",
     "text": [
      "Transaction with hash: '0x072ac24481a9a8220932a0f7f916593124203708314b2935265f0953d8f7f37f' not found.\n",
      "Transaction with hash: '0x20d341381aa48ba2bd5f06bcd1228eeaeaedf752c6e281a7398cee3a51d34256' not found.\n"
     ]
    },
    {
     "name": "stderr",
     "output_type": "stream",
     "text": [
      "  2%|█▊                                                                             | 11/467 [00:12<03:25,  2.22it/s]"
     ]
    },
    {
     "name": "stdout",
     "output_type": "stream",
     "text": [
      "Transaction with hash: '0x6d8cbc3660da63544190fd832f930d071c95a3713c220bf100c41c8c02b2722a' not found.\n",
      "Transaction with hash: '0x23394916e4ec60984cb28ed604f3fc830c646111bd78ba7e0e0b579d94130edc' not found.\n"
     ]
    },
    {
     "name": "stderr",
     "output_type": "stream",
     "text": [
      "  3%|██▌                                                                            | 15/467 [00:14<03:43,  2.02it/s]"
     ]
    },
    {
     "name": "stdout",
     "output_type": "stream",
     "text": [
      "Transaction with hash: '0x2e3b7ce2a6b09e03b99f29006102deeca13833a3f58220a77dc91d02a071264a' not found.\n",
      "Transaction with hash: '0xc5e908ade0649787dc9bc217749d580c336a081677cec10441bc189d273f346d' not found.\n",
      "Transaction with hash: '0x90c0f044b2e2804d738ba2f9a793db2d403060193e0c79ca67729775ddbfadb2' not found.\n"
     ]
    },
    {
     "name": "stderr",
     "output_type": "stream",
     "text": [
      "  3%|██▋                                                                            | 16/467 [00:15<05:44,  1.31it/s]"
     ]
    },
    {
     "name": "stdout",
     "output_type": "stream",
     "text": [
      "Transaction with hash: '0x3ba32d92caf0340adcf89f509857b7c277f60e3be9f377472ac2c28d0680cf3f' not found.\n"
     ]
    },
    {
     "name": "stderr",
     "output_type": "stream",
     "text": [
      "  4%|███▏                                                                           | 19/467 [00:18<07:09,  1.04it/s]"
     ]
    },
    {
     "name": "stdout",
     "output_type": "stream",
     "text": [
      "Transaction with hash: '0x9a312ce288326c98ed2a7ef78eda3757832aa38ab3b8cb30fbe93786bc4510eb' not found.\n"
     ]
    },
    {
     "name": "stderr",
     "output_type": "stream",
     "text": [
      "  4%|███▍                                                                           | 20/467 [00:19<07:17,  1.02it/s]"
     ]
    },
    {
     "name": "stdout",
     "output_type": "stream",
     "text": [
      "Transaction with hash: '0x93f872a6705f31398165418ba74cf4f596e750084aab770de16616dcced9c230' not found.\n",
      "Transaction with hash: '0x539998c04944e73a8eb33e773ce2a3418526b747026d432dc9815ff7bfd4eacd' not found.\n"
     ]
    },
    {
     "name": "stderr",
     "output_type": "stream",
     "text": [
      "  7%|█████▏                                                                         | 31/467 [00:24<03:01,  2.41it/s]"
     ]
    },
    {
     "name": "stdout",
     "output_type": "stream",
     "text": [
      "Transaction with hash: '0x9c19956f248db387f3edfad299b1cb8d3170b29f90365dcb822ea1840425dfa8' not found.\n",
      "Transaction with hash: '0xe354e4cfb2b98a29947863e08cba941822bffe64031c91fc27e7cfd14668d6fd' not found.\n"
     ]
    },
    {
     "name": "stderr",
     "output_type": "stream",
     "text": [
      "  7%|█████▍                                                                         | 32/467 [00:28<09:34,  1.32s/it]"
     ]
    },
    {
     "name": "stdout",
     "output_type": "stream",
     "text": [
      "Transaction with hash: '0x21cd397e0bced48ddcbc4cefb55d6be6cc565adaa918165159c58c09e9841b4a' not found.\n"
     ]
    },
    {
     "name": "stderr",
     "output_type": "stream",
     "text": [
      "  7%|█████▊                                                                         | 34/467 [00:31<10:19,  1.43s/it]"
     ]
    },
    {
     "name": "stdout",
     "output_type": "stream",
     "text": [
      "Transaction with hash: '0x9b77a8bbb782e98b0169978caa86a2af5693f1ef1ce31ea89c20abcef9a6649a' not found.\n",
      "Transaction with hash: '0xa6085591e9bec1fc38fc2dce6606b40560a4813c20dab395b72eb9f071927e0a' not found.\n"
     ]
    },
    {
     "name": "stderr",
     "output_type": "stream",
     "text": [
      "  8%|██████▍                                                                        | 38/467 [00:32<04:19,  1.66it/s]"
     ]
    },
    {
     "name": "stdout",
     "output_type": "stream",
     "text": [
      "Transaction with hash: '0x6f3d366e56de7b277642888939c7a2d8a76dfdb68397d1d235df7b6e74980a13' not found.\n",
      "Transaction with hash: '0xef17dee357cea8fb1880e985c94144b467e94badf5faedb2f2e57dbe03904f35' not found.\n"
     ]
    },
    {
     "name": "stderr",
     "output_type": "stream",
     "text": [
      "  8%|██████▌                                                                        | 39/467 [00:34<06:17,  1.13it/s]"
     ]
    },
    {
     "name": "stdout",
     "output_type": "stream",
     "text": [
      "Transaction with hash: '0x10ce2e9c4551e2356218259c8679fe292a140df610357161826f5afb0e1535a8' not found.\n"
     ]
    },
    {
     "name": "stderr",
     "output_type": "stream",
     "text": [
      "  9%|██████▊                                                                        | 40/467 [00:35<08:16,  1.16s/it]"
     ]
    },
    {
     "name": "stdout",
     "output_type": "stream",
     "text": [
      "Transaction with hash: '0x203ceab556fdee343aaf6fad2e4c5bc629de34d320e8ef1958f04229df17f88a' not found."
     ]
    },
    {
     "name": "stderr",
     "output_type": "stream",
     "text": [
      " 10%|███████▌                                                                       | 45/467 [00:37<04:06,  1.72it/s]"
     ]
    },
    {
     "name": "stdout",
     "output_type": "stream",
     "text": [
      "Transaction with hash: '0xed206805de18e82d5486a4dfdcbabec02c6c561f28526007aa92c2e0f930e4bc' not found.\n"
     ]
    },
    {
     "name": "stderr",
     "output_type": "stream",
     "text": [
      " 10%|████████▎                                                                      | 49/467 [00:39<03:14,  2.15it/s]"
     ]
    },
    {
     "name": "stdout",
     "output_type": "stream",
     "text": [
      "Transaction with hash: '0x676c0f927deb5dd177b822a0c3925608d5b306223f359e845d1fb0686d0acf72' not found.\n"
     ]
    },
    {
     "name": "stderr",
     "output_type": "stream",
     "text": [
      " 11%|████████▍                                                                      | 50/467 [00:41<06:45,  1.03it/s]"
     ]
    },
    {
     "name": "stdout",
     "output_type": "stream",
     "text": [
      "Transaction with hash: '0xee67dc50cc1d7a3321cb91e3c1b462d2215cd994ed8ba270dd2c97e6217cb145' not found.\n"
     ]
    },
    {
     "name": "stderr",
     "output_type": "stream",
     "text": [
      " 14%|██████████▊                                                                    | 64/467 [00:48<02:32,  2.64it/s]"
     ]
    },
    {
     "name": "stdout",
     "output_type": "stream",
     "text": [
      "Transaction with hash: '0xc347ae7b24f7b7fd8aa083570ba20225f0dc10824e7cc03a8c00447994858c74' not found.\n"
     ]
    },
    {
     "name": "stderr",
     "output_type": "stream",
     "text": [
      " 17%|█████████████▋                                                                 | 81/467 [00:59<02:43,  2.35it/s]"
     ]
    },
    {
     "name": "stdout",
     "output_type": "stream",
     "text": [
      "Transaction with hash: '0xdcc03ce89b87058fa7e3055e731f29a16c2e68fc26528ce97e49dc3b505c70a2' not found.\n",
      "Transaction with hash: '0x881b5c7ef095845a0a4d269670f0cd247ffd1a999637bae615fde98e81aac738' not found.\n",
      "Transaction with hash: '0xd0ffd5683a24a09b7b759d61d3103fadc96bb1c0800c877bb10f59bddb76ec2e' not found.\n"
     ]
    },
    {
     "name": "stderr",
     "output_type": "stream",
     "text": [
      " 19%|███████████████▍                                                               | 91/467 [01:09<03:18,  1.89it/s]"
     ]
    },
    {
     "name": "stdout",
     "output_type": "stream",
     "text": [
      "Transaction with hash: '0x55554838e31f8841c654ec24e86ee49a651c7fe8c6a0a209115a201e5ae4f24e' not found.\n"
     ]
    },
    {
     "name": "stderr",
     "output_type": "stream",
     "text": [
      " 21%|████████████████▏                                                              | 96/467 [01:11<02:11,  2.82it/s]"
     ]
    },
    {
     "name": "stdout",
     "output_type": "stream",
     "text": [
      "Transaction with hash: '0x1f3e7032939cd3a023327f678e0c0b2818498db3f8288efa89ec9e823f13ca2d' not found.\n"
     ]
    },
    {
     "name": "stderr",
     "output_type": "stream",
     "text": [
      " 21%|████████████████▍                                                              | 97/467 [01:11<02:43,  2.26it/s]"
     ]
    },
    {
     "name": "stdout",
     "output_type": "stream",
     "text": [
      "Transaction with hash: '0x0934fdc1fe092d9d040c7e174eb6d84e65dde4f5f5fb20a3bb23d50903d6b16a' not found.\n",
      "Transaction with hash: '0x7f129fac2a64edb6d15eb45de897b5a440b807023ff8d19c6f534f23892e7c55' not found.\n",
      "Transaction with hash: '0x4af9a75d024674e470e67ada345de74ee1e7fdf77b6cbb227ebb1c28d468ad6a' not found.\n",
      "Transaction with hash: '0x964fe6eb0fc8f4c3b0b0c7baa5abe7b815145eaa1196b595485c8e6c1af0dfc4' not found.\n",
      "Transaction with hash: '0xebd89189860991423f335af4e6e5a8e1a599df21643b3b5763ac45d60c391530' not found.\n"
     ]
    },
    {
     "name": "stderr",
     "output_type": "stream",
     "text": [
      " 21%|████████████████▋                                                              | 99/467 [01:16<06:54,  1.13s/it]"
     ]
    },
    {
     "name": "stdout",
     "output_type": "stream",
     "text": [
      "Transaction with hash: '0x351ca187d968d046e83866d88ea0ccf10a60f374822c3ba376c5b57611bb266a' not found.\n"
     ]
    },
    {
     "name": "stderr",
     "output_type": "stream",
     "text": [
      " 22%|█████████████████▏                                                            | 103/467 [01:18<04:14,  1.43it/s]"
     ]
    },
    {
     "name": "stdout",
     "output_type": "stream",
     "text": [
      "Transaction with hash: '0x706f31539a93ef5a47ac5959ac6a033f62ab9d682c5b19fa5491aef9f6ccc1ae' not found.\n"
     ]
    },
    {
     "name": "stderr",
     "output_type": "stream",
     "text": [
      " 23%|██████████████████                                                            | 108/467 [01:21<03:35,  1.67it/s]"
     ]
    },
    {
     "name": "stdout",
     "output_type": "stream",
     "text": [
      "Transaction with hash: '0x06cba54015670eaedf197ad0257c6ff175ee9a421dfd11d2354fb7d0e16064a6' not found.\n"
     ]
    },
    {
     "name": "stderr",
     "output_type": "stream",
     "text": [
      " 24%|██████████████████▋                                                           | 112/467 [01:23<02:09,  2.75it/s]"
     ]
    },
    {
     "name": "stdout",
     "output_type": "stream",
     "text": [
      "Transaction with hash: '0x9ba97cff8d539429699f25ffdb1fc7559b3812e0b15db29de1dde30cdd344538' not found.\n"
     ]
    },
    {
     "name": "stderr",
     "output_type": "stream",
     "text": [
      " 24%|██████████████████▊                                                           | 113/467 [01:25<04:38,  1.27it/s]"
     ]
    },
    {
     "name": "stdout",
     "output_type": "stream",
     "text": [
      "Transaction with hash: '0x545d641cd5e9953a899ea2f43fa06408b639adaf7f00c0c5459ad6c814abc5e8' not found.\n"
     ]
    },
    {
     "name": "stderr",
     "output_type": "stream",
     "text": [
      " 24%|███████████████████                                                           | 114/467 [01:27<07:33,  1.28s/it]"
     ]
    },
    {
     "name": "stdout",
     "output_type": "stream",
     "text": [
      "Transaction with hash: '0x31fe9e66c385ebc46c8e4c2b4133f8d5f7ce1afd8fa051f8d57543397a356b88' not found.\n"
     ]
    },
    {
     "name": "stderr",
     "output_type": "stream",
     "text": [
      " 27%|█████████████████████                                                         | 126/467 [01:35<03:07,  1.82it/s]"
     ]
    },
    {
     "name": "stdout",
     "output_type": "stream",
     "text": [
      "Transaction with hash: '0x0e959952f80b742b65114541ca6c754564bdd18fdfdd09bc22d5b49770a8b8e7' not found.\n"
     ]
    },
    {
     "name": "stderr",
     "output_type": "stream",
     "text": [
      " 27%|█████████████████████▍                                                        | 128/467 [01:37<03:48,  1.48it/s]"
     ]
    },
    {
     "name": "stdout",
     "output_type": "stream",
     "text": [
      "Transaction with hash: '0x82d79ce7c36a864f00925c59b5c028a61478be8d0e9c3dcb8d7a6fb12b942779' not found.\n",
      "Transaction with hash: '0x8883207894b28dea4c2bc83c545a073aabd419320d77d44b37f98aee8997efd1' not found.\n"
     ]
    },
    {
     "name": "stderr",
     "output_type": "stream",
     "text": [
      " 28%|█████████████████████▋                                                        | 130/467 [01:38<03:45,  1.50it/s]"
     ]
    },
    {
     "name": "stdout",
     "output_type": "stream",
     "text": [
      "Transaction with hash: '0x239e5df0bca2ae6bf576d3521c56898a7e7b40cc8612925ca35beb1e9c12d2f7' not found.\n"
     ]
    },
    {
     "name": "stderr",
     "output_type": "stream",
     "text": [
      " 29%|██████████████████████▋                                                       | 136/467 [01:43<02:31,  2.18it/s]"
     ]
    },
    {
     "name": "stdout",
     "output_type": "stream",
     "text": [
      "Transaction with hash: '0x30c3a9bff1e0b3a3119921b44405d39b1726834c6475260670b6218a6a9a2124' not found.\n"
     ]
    },
    {
     "name": "stderr",
     "output_type": "stream",
     "text": [
      " 30%|███████████████████████                                                       | 138/467 [01:44<02:29,  2.20it/s]"
     ]
    },
    {
     "name": "stdout",
     "output_type": "stream",
     "text": [
      "Transaction with hash: '0xfeafccb3ac410606fb2548856f95a6c074e4f0de0129a0f7218b406e0a9a3a0a' not found.\n"
     ]
    },
    {
     "name": "stderr",
     "output_type": "stream",
     "text": [
      " 30%|███████████████████████▌                                                      | 141/467 [01:46<02:25,  2.24it/s]"
     ]
    },
    {
     "name": "stdout",
     "output_type": "stream",
     "text": [
      "Transaction with hash: '0xbac786028797018a0ebb8d9c2ca23fb48e43dc35d4543687fae9f23d36b76ea3' not found.\n",
      "Transaction with hash: '0x0b6f69ecc6e4bfdf5ed913cfa06f2d7c9338e5e12af4cca784c8ce1f49f23684' not found.\n"
     ]
    },
    {
     "name": "stderr",
     "output_type": "stream",
     "text": [
      " 31%|███████████████████████▉                                                      | 143/467 [01:49<05:33,  1.03s/it]"
     ]
    },
    {
     "name": "stdout",
     "output_type": "stream",
     "text": [
      "Transaction with hash: '0x302b572719dca47edd44f02ac1ed9436b062bf7990919f60ed339174b2a26be5' not found.\n",
      "Transaction with hash: '0x795a5fdc785178a70beca6fd1a02e307751d145a2c01b48d2dfeb621d9796f59' not found.\n"
     ]
    },
    {
     "name": "stderr",
     "output_type": "stream",
     "text": [
      " 32%|████████████████████████▉                                                     | 149/467 [01:54<03:41,  1.43it/s]"
     ]
    },
    {
     "name": "stdout",
     "output_type": "stream",
     "text": [
      "Transaction with hash: '0xc4e777bfbf9945b22edf3561015152b01352f4b30fd9f215da35ccfb85c90ec8' not found.\n"
     ]
    },
    {
     "name": "stderr",
     "output_type": "stream",
     "text": [
      " 33%|█████████████████████████▌                                                    | 153/467 [01:56<02:33,  2.04it/s]"
     ]
    },
    {
     "name": "stdout",
     "output_type": "stream",
     "text": [
      "Transaction with hash: '0x5e1703551b411b89381e19396df3992dff44c3fb7a9750392f691dd1f771c480' not found.\n",
      "Transaction with hash: '0xeafcd093075675fbdad8f3753ac6b9f5def8400b566d8eb49a7e0e6a4c2ee928' not found.\n"
     ]
    },
    {
     "name": "stderr",
     "output_type": "stream",
     "text": [
      " 33%|██████████████████████████                                                    | 156/467 [02:00<04:31,  1.14it/s]"
     ]
    },
    {
     "name": "stdout",
     "output_type": "stream",
     "text": [
      "Transaction with hash: '0x03630c0f81cb89cb68a4d0e216f1d83485c9e6db1009bf66790f7a0d6aa2f11c' not found.\n"
     ]
    },
    {
     "name": "stderr",
     "output_type": "stream",
     "text": [
      " 34%|██████████████████████████▋                                                   | 160/467 [02:02<03:01,  1.69it/s]"
     ]
    },
    {
     "name": "stdout",
     "output_type": "stream",
     "text": [
      "Transaction with hash: '0x3855f6e190ecc8de002345dc7f4fad46cd92649f316d8bab577df0af3990ee19' not found.\n"
     ]
    },
    {
     "name": "stderr",
     "output_type": "stream",
     "text": [
      " 35%|███████████████████████████▏                                                  | 163/467 [02:06<04:23,  1.15it/s]"
     ]
    },
    {
     "name": "stdout",
     "output_type": "stream",
     "text": [
      "Transaction with hash: '0xaf4ae1f342d8efe1d5d9265c65872714b0604f0c66f8f35cea74b3ff07ad9925' not found.\n"
     ]
    },
    {
     "name": "stderr",
     "output_type": "stream",
     "text": [
      " 37%|████████████████████████████▌                                                 | 171/467 [02:10<02:46,  1.78it/s]"
     ]
    },
    {
     "name": "stdout",
     "output_type": "stream",
     "text": [
      "Transaction with hash: '0x1fd6164e1bc6b36c74d58467c81c0cce42f06e60a88dadb0fd4671ec1a377372' not found.\n"
     ]
    },
    {
     "name": "stderr",
     "output_type": "stream",
     "text": [
      " 37%|█████████████████████████████                                                 | 174/467 [02:12<03:21,  1.46it/s]"
     ]
    },
    {
     "name": "stdout",
     "output_type": "stream",
     "text": [
      "Transaction with hash: '0xdbcc83b9e0cd786d5593aa0ea3a2b1ba91cabadd3ee4b81d06b66c065e09afed' not found."
     ]
    },
    {
     "name": "stderr",
     "output_type": "stream",
     "text": [
      " 38%|█████████████████████████████▉                                                | 179/467 [02:15<02:44,  1.75it/s]"
     ]
    },
    {
     "name": "stdout",
     "output_type": "stream",
     "text": [
      "Transaction with hash: '0x5d5ca22b13cec9f7122afa89d4f978bf41f1b2175bf63b9df140aa5eceba054f' not found.\n"
     ]
    },
    {
     "name": "stderr",
     "output_type": "stream",
     "text": [
      " 39%|██████████████████████████████                                                | 180/467 [02:16<03:19,  1.44it/s]"
     ]
    },
    {
     "name": "stdout",
     "output_type": "stream",
     "text": [
      "Transaction with hash: '0x57e694f52f2c04ba691a4565cad4d61cf82a9510d1c09ea0b2862aa3f506da39' not found.\n"
     ]
    },
    {
     "name": "stderr",
     "output_type": "stream",
     "text": [
      " 39%|██████████████████████████████▏                                               | 181/467 [02:16<02:52,  1.65it/s]"
     ]
    },
    {
     "name": "stdout",
     "output_type": "stream",
     "text": [
      "Transaction with hash: '0xe7a0518682bcf01a2b5df157d42c1b693c885f5c4db47f9c01214be6a598be37' not found.\n"
     ]
    },
    {
     "name": "stderr",
     "output_type": "stream",
     "text": [
      " 39%|██████████████████████████████▍                                               | 182/467 [02:18<03:44,  1.27it/s]"
     ]
    },
    {
     "name": "stdout",
     "output_type": "stream",
     "text": [
      "Transaction with hash: '0xa4d0db4453760c89a15ef14bd01d1d5db88be17cd0159615fb772991dd986e22' not found.\n"
     ]
    },
    {
     "name": "stderr",
     "output_type": "stream",
     "text": [
      " 40%|███████████████████████████████▏                                              | 187/467 [02:21<02:45,  1.69it/s]"
     ]
    },
    {
     "name": "stdout",
     "output_type": "stream",
     "text": [
      "Transaction with hash: '0x39a0a8efbd61881c09e55d502d519a6ee7b242b1cd72f4bce595006a8e7ecf7f' not found.\n",
      "Transaction with hash: '0x34e0670f395cac3f0725839d2462ae5debefb06810878b5c2321b2631161d71d' not found.\n",
      "Transaction with hash: '0xcb1e68f1dd53cd3470aa0f794e5f944650fc546be57cc378ff7d749d97f9ae19' not found.\n"
     ]
    },
    {
     "name": "stderr",
     "output_type": "stream",
     "text": [
      " 42%|████████████████████████████████▋                                             | 196/467 [02:25<01:29,  3.03it/s]"
     ]
    },
    {
     "name": "stdout",
     "output_type": "stream",
     "text": [
      "Transaction with hash: '0x063f6c362c7a9c04e84ec12ecee995257b2aacf63e0486ff9652f6779fef18ab' not found.\n",
      "Transaction with hash: '0xbcc5d620ed8eb69985ae09a1a160d2729b5c3db3be1af0725224fad6671e3076' not found.\n",
      "Transaction with hash: '0x35cc736b660dc8441f112631ea87b6c6714e03a2073644759d110b0b6d3cfd96' not found.\n",
      "Transaction with hash: '0xcfe71084b2ba30b82708041f8238e077cae4828e08d18a6e81caed2585537062' not found.\n"
     ]
    },
    {
     "name": "stderr",
     "output_type": "stream",
     "text": [
      " 43%|█████████████████████████████████▍                                            | 200/467 [02:30<03:22,  1.32it/s]"
     ]
    },
    {
     "name": "stdout",
     "output_type": "stream",
     "text": [
      "Transaction with hash: '0xde78d8518f8b951ef85b93042218251f7b7cf9ee6c7f7416e9233e0736f76622' not found.\n",
      "Transaction with hash: '0x69a6a3d0699cd3a33521d5fa958186aa4be5ef2b70ee23a40309abb972d26422' not found.\n",
      "Transaction with hash: '0x5c18b065ff85e86b49559abf5d36885980301369df5ab9323ee0b28fd2c46e3f' not found.\n"
     ]
    },
    {
     "name": "stderr",
     "output_type": "stream",
     "text": [
      " 44%|██████████████████████████████████▌                                           | 207/467 [02:34<02:29,  1.74it/s]"
     ]
    },
    {
     "name": "stdout",
     "output_type": "stream",
     "text": [
      "Transaction with hash: '0x7c27ab4c7850ac3af123d864e9331b64b9c7071cf8237a2681a63404acf61a96' not found.\n"
     ]
    },
    {
     "name": "stderr",
     "output_type": "stream",
     "text": [
      " 46%|████████████████████████████████████▏                                         | 217/467 [02:40<02:24,  1.73it/s]"
     ]
    },
    {
     "name": "stdout",
     "output_type": "stream",
     "text": [
      "Transaction with hash: '0x8743939e17c4d212f337ea63e9c76bcb31719705f13dd3869fc08d2640de3d7a' not found.\n",
      "Transaction with hash: '0x65c3ee7f7f226a0b969d89d146abe22af4ad663a8400d5afaecea1245fb2797d' not found.\n"
     ]
    },
    {
     "name": "stderr",
     "output_type": "stream",
     "text": [
      " 48%|█████████████████████████████████████▏                                        | 223/467 [02:46<02:41,  1.51it/s]"
     ]
    },
    {
     "name": "stdout",
     "output_type": "stream",
     "text": [
      "Transaction with hash: '0x4e8cbcf8d62d06e46c40fe2d6a42f50e33e50511030a90e85876b4b53f802ceb' not found.\n"
     ]
    },
    {
     "name": "stderr",
     "output_type": "stream",
     "text": [
      " 49%|██████████████████████████████████████                                        | 228/467 [02:49<02:09,  1.85it/s]"
     ]
    },
    {
     "name": "stdout",
     "output_type": "stream",
     "text": [
      "Transaction with hash: '0xb7ced15a82e33256aa1ecd5a5a3048ef25968c9e4f65c762528cb43e5c01ed46' not found.\n"
     ]
    },
    {
     "name": "stderr",
     "output_type": "stream",
     "text": [
      " 51%|███████████████████████████████████████▍                                      | 236/467 [02:55<02:50,  1.36it/s]"
     ]
    },
    {
     "name": "stdout",
     "output_type": "stream",
     "text": [
      "Transaction with hash: '0xa1f4eaa7117f76236c90857328d80c599b4c784981c09a77aa43fe4a16f7849f' not found.\n"
     ]
    },
    {
     "name": "stderr",
     "output_type": "stream",
     "text": [
      " 51%|███████████████████████████████████████▉                                      | 239/467 [02:59<03:11,  1.19it/s]"
     ]
    },
    {
     "name": "stdout",
     "output_type": "stream",
     "text": [
      "Transaction with hash: '0xf2d4502b2ebee85de6131e3f2b21f6f02b2d831a02e33d5575ff6a90298f0f5a' not found.\n"
     ]
    },
    {
     "name": "stderr",
     "output_type": "stream",
     "text": [
      " 53%|█████████████████████████████████████████▍                                    | 248/467 [03:03<01:57,  1.86it/s]"
     ]
    },
    {
     "name": "stdout",
     "output_type": "stream",
     "text": [
      "Transaction with hash: '0xaa0fdf93dc8341c8f904dbe8bd955e0452aa939b5d4d2549ea306e59d52b7d75' not found.\n"
     ]
    },
    {
     "name": "stderr",
     "output_type": "stream",
     "text": [
      " 54%|██████████████████████████████████████████                                    | 252/467 [03:05<01:52,  1.91it/s]"
     ]
    },
    {
     "name": "stdout",
     "output_type": "stream",
     "text": [
      "Transaction with hash: '0x767ca359a191d4e72dc1f5a0d46581c4f9aedf26ba3112cc3d44bc747569c09c' not found.\n"
     ]
    },
    {
     "name": "stderr",
     "output_type": "stream",
     "text": [
      " 54%|██████████████████████████████████████████▎                                   | 253/467 [03:09<05:07,  1.44s/it]"
     ]
    },
    {
     "name": "stdout",
     "output_type": "stream",
     "text": [
      "Transaction with hash: '0x20844888555292db31ec00cc66fe8793dad0128c35268dbcfa5fb908bfc297d7' not found.Transaction with hash: '0x9553576b6aa78c4069c3ddb06d273bdad699481a2f3fbe68bceb705c22b380db' not found.\n",
      "Transaction with hash: '0xfa80d26488f5e5e435478a825823c32cf5fb1e7cc3014c418de411bd33af8670' not found.\n",
      "Transaction with hash: '0x167491b61c57677cb732b3d97aadc2955e4f5f62a6ef8bc3d3c0a533f6109994' not found.\n"
     ]
    },
    {
     "name": "stderr",
     "output_type": "stream",
     "text": [
      " 55%|██████████████████████████████████████████▌                                   | 255/467 [03:10<03:26,  1.03it/s]"
     ]
    },
    {
     "name": "stdout",
     "output_type": "stream",
     "text": [
      "Transaction with hash: '0x8210b2fdd71ae21e390b1cc9e785b8cdf3456ce8de706469023ef45268e46b68' not found.\n"
     ]
    },
    {
     "name": "stderr",
     "output_type": "stream",
     "text": [
      " 56%|███████████████████████████████████████████▍                                  | 260/467 [03:12<01:32,  2.23it/s]"
     ]
    },
    {
     "name": "stdout",
     "output_type": "stream",
     "text": [
      "Transaction with hash: '0x2e43194f5300017d85c67b2781a2356f17692e6406a005185c3f7b279ccd6242' not found.\n"
     ]
    },
    {
     "name": "stderr",
     "output_type": "stream",
     "text": [
      " 57%|████████████████████████████████████████████▌                                 | 267/467 [03:16<01:49,  1.82it/s]"
     ]
    },
    {
     "name": "stdout",
     "output_type": "stream",
     "text": [
      "Transaction with hash: '0x1a69b2462784a1b2e45aa7e0de8665e25f02a82302a79b140f0d3b9c9631c450' not found.\n"
     ]
    },
    {
     "name": "stderr",
     "output_type": "stream",
     "text": [
      " 57%|████████████████████████████████████████████▊                                 | 268/467 [03:18<02:45,  1.20it/s]"
     ]
    },
    {
     "name": "stdout",
     "output_type": "stream",
     "text": [
      "Transaction with hash: '0x9bf068ecad881b05eb60b6ddda18df1559448320a4bdb4b1af1b275d291585be' not found.Transaction with hash: '0xfced0b9e9c1ef9663d386086247456938b4506f397808120ddd1f9690ba70e08' not found.\n",
      "\n",
      "Transaction with hash: '0x2f237f0b950bef64e491706627c2c16cbfb214a69000aa11337b448f912022b7' not found.\n",
      "Transaction with hash: '0x525e19aa4d23d9a3987d6b2382669551427d7c3c0da460a808e785b89d88e95b' not found.\n"
     ]
    },
    {
     "name": "stderr",
     "output_type": "stream",
     "text": [
      " 64%|█████████████████████████████████████████████████▉                            | 299/467 [03:40<01:36,  1.73it/s]"
     ]
    },
    {
     "name": "stdout",
     "output_type": "stream",
     "text": [
      "Transaction with hash: '0x3bf937eea6e70f28ab8f8cef918150691db56673a9c8cc151a48bf051cb17903' not found.\n"
     ]
    },
    {
     "name": "stderr",
     "output_type": "stream",
     "text": [
      " 66%|███████████████████████████████████████████████████▊                          | 310/467 [03:49<01:01,  2.55it/s]"
     ]
    },
    {
     "name": "stdout",
     "output_type": "stream",
     "text": [
      "Transaction with hash: '0x236f71e12b2c0d384fcf2ebe243364e6dc12123bba0c0d5f3d3796355bd6a271' not found.\n"
     ]
    },
    {
     "name": "stderr",
     "output_type": "stream",
     "text": [
      " 67%|███████████████████████████████████████████████████▉                          | 311/467 [03:51<02:01,  1.29it/s]"
     ]
    },
    {
     "name": "stdout",
     "output_type": "stream",
     "text": [
      "Transaction with hash: '0x872756bddcb1e0447ad1a00439cf5a3ff79ebca17025e5dab62d6751f0d931c8' not found.\n"
     ]
    },
    {
     "name": "stderr",
     "output_type": "stream",
     "text": [
      "100%|██████████████████████████████████████████████████████████████████████████████| 467/467 [05:13<00:00,  1.49it/s]\n"
     ]
    }
   ],
   "source": [
    "from web3.exceptions import ContractLogicError\n",
    "import aiohttp\n",
    "import pandas as pd\n",
    "\n",
    "provider = 'https://lb.drpc.org/ogrpc?network=ethereum&dkey=***REMOVED***'\n",
    "w3 = Web3(Web3.HTTPProvider(provider))\n",
    "\n",
    "ERC20_ABI = [\n",
    "    {\n",
    "        \"constant\": True,\n",
    "        \"inputs\": [],\n",
    "        \"name\": \"symbol\",\n",
    "        \"outputs\": [{\"name\": \"\", \"type\": \"string\"}],\n",
    "        \"type\": \"function\"\n",
    "    },\n",
    "    {\n",
    "        \"anonymous\": False,\n",
    "        \"inputs\": [\n",
    "            {\"indexed\": True, \"name\": \"from\", \"type\": \"address\"},\n",
    "            {\"indexed\": True, \"name\": \"to\", \"type\": \"address\"},\n",
    "            {\"indexed\": False, \"name\": \"value\", \"type\": \"uint256\"}\n",
    "        ],\n",
    "        \"name\": \"Transfer\",\n",
    "        \"type\": \"event\"\n",
    "    }\n",
    "]\n",
    "\n",
    "LP_EVENT_TOPICS = [\n",
    "    '0x3067048beee31b25b2f1681f88dac838c8bba36af25bfb2b7cf7473a5847e35f' # IncreaseLiquidity UniV3\n",
    "    '0x26f55a85081d24974e85c6c00045d0f0453991e95873f52bff0d21af4079a768' # AddLiquidity Curve\n",
    "]\n",
    "\n",
    "symbols = {'0x9f8F72aA9304c8B593d555F12eF6589cC3A579A2'.lower(): 'MKR'}\n",
    "\n",
    "def get_token_symbol(token_address):\n",
    "    contract = w3.eth.contract(address=token_address, abi=ERC20_ABI)\n",
    "    try:\n",
    "        symbol = contract.functions.symbol().call()\n",
    "        return symbol\n",
    "    except ContractLogicError:\n",
    "        return \"Unknown\"\n",
    "\n",
    "def process_transaction(tx_hash, target_address, destination):\n",
    "    try:\n",
    "        receipt = w3.eth.get_transaction_receipt(tx_hash)\n",
    "    except Exception as e:\n",
    "        print(e)\n",
    "        return {}\n",
    "    events = []\n",
    "    \n",
    "    for log in receipt.logs:\n",
    "        if len(log['topics']) in [3,4] and log['topics'][0].hex() == Web3.keccak(text=\"Transfer(address,address,uint256)\").hex():\n",
    "            to_address = '0x' + log['topics'][2].hex()[-40:]\n",
    "            if to_address.lower() == target_address.lower():\n",
    "                from_address = '0x' + log['topics'][1].hex()[-40:]\n",
    "                token_address = log['address']\n",
    "                \n",
    "                if token_address.lower() in symbols:\n",
    "                    symbol = symbols[token_address.lower()]\n",
    "                else:\n",
    "                    try:\n",
    "                        symbol = get_token_symbol(token_address)\n",
    "                        symbols[token_address.lower()] = symbol\n",
    "                    except Exception as e:\n",
    "                        print(f'{e}: {token_address} : {tx_hash}')\n",
    "                        symbol = \"Missing\"\n",
    "                \n",
    "                events.append({\n",
    "                    'tx_hash': tx_hash,\n",
    "                    'token_address': token_address,\n",
    "                    'symbol': symbol,\n",
    "                    'from': from_address,\n",
    "                    'to': to_address,\n",
    "                    'destination': destination,\n",
    "                })\n",
    "    \n",
    "    return events\n",
    "\n",
    "def process_batch(batch):\n",
    "    results = []\n",
    "    for tx_hash, target_address, destination in batch:\n",
    "        results.extend(process_transaction(tx_hash, target_address, destination))\n",
    "    return results\n",
    "\n",
    "def parallel_transaction_processing(tx_hashes, target_addresses, destinations, batch_size=20):\n",
    "    all_events = []\n",
    "\n",
    "    tx_address_pairs = list(zip(tx_hashes, target_addresses, destinations))\n",
    "\n",
    "    with concurrent.futures.ThreadPoolExecutor() as executor:\n",
    "        batches = [tx_address_pairs[i:i + batch_size] for i in range(0, len(tx_address_pairs), batch_size)]\n",
    "        futures = [executor.submit(process_batch, batch) for batch in batches]\n",
    "\n",
    "        for future in tqdm(concurrent.futures.as_completed(futures), total=len(futures)):\n",
    "            batch_events = future.result()\n",
    "            all_events.extend(batch_events)\n",
    "\n",
    "    return pd.DataFrame(all_events)\n",
    "\n",
    "tx_hashes = dex_txs['transactionHash'].to_list()\n",
    "target_addresses = dex_txs['from'].to_list()\n",
    "destinations = dex_txs['destination'].to_list()\n",
    "\n",
    "result_df = parallel_transaction_processing(tx_hashes, target_addresses, destinations)"
   ]
  },
  {
   "cell_type": "code",
   "execution_count": 35,
   "id": "976c8b25-e8c9-4f1e-a20c-182de26a80be",
   "metadata": {},
   "outputs": [],
   "source": [
    "pd.set_option('display.max_colwidth', None)"
   ]
  },
  {
   "cell_type": "code",
   "execution_count": 106,
   "id": "056386fb-c108-421c-af08-7e70fe70ea94",
   "metadata": {},
   "outputs": [
    {
     "data": {
      "text/html": [
       "<div>\n",
       "<style scoped>\n",
       "    .dataframe tbody tr th:only-of-type {\n",
       "        vertical-align: middle;\n",
       "    }\n",
       "\n",
       "    .dataframe tbody tr th {\n",
       "        vertical-align: top;\n",
       "    }\n",
       "\n",
       "    .dataframe thead th {\n",
       "        text-align: right;\n",
       "    }\n",
       "</style>\n",
       "<table border=\"1\" class=\"dataframe\">\n",
       "  <thead>\n",
       "    <tr style=\"text-align: right;\">\n",
       "      <th></th>\n",
       "      <th>tx_hash</th>\n",
       "      <th>token_address</th>\n",
       "      <th>symbol</th>\n",
       "      <th>from</th>\n",
       "      <th>to</th>\n",
       "      <th>destination</th>\n",
       "    </tr>\n",
       "  </thead>\n",
       "  <tbody>\n",
       "    <tr>\n",
       "      <th>0</th>\n",
       "      <td>0x0d73f08d46ffd3f12f197a4e03eab32b4ab69457d11d...</td>\n",
       "      <td>0xA0b86991c6218b36c1d19D4a2e9Eb0cE3606eB48</td>\n",
       "      <td>USDC</td>\n",
       "      <td>0x9008d19f58aabd9ed0d60971565aa8510560ab41</td>\n",
       "      <td>0xd14f076044414c255d2e82cceb1cb00fb1bba64c</td>\n",
       "      <td>CowSwap</td>\n",
       "    </tr>\n",
       "    <tr>\n",
       "      <th>1</th>\n",
       "      <td>0x850d108cf9568bb0a9855b81b746a4e00027e2e83585...</td>\n",
       "      <td>0xA0b86991c6218b36c1d19D4a2e9Eb0cE3606eB48</td>\n",
       "      <td>USDC</td>\n",
       "      <td>0x9008d19f58aabd9ed0d60971565aa8510560ab41</td>\n",
       "      <td>0xd14f076044414c255d2e82cceb1cb00fb1bba64c</td>\n",
       "      <td>CowSwap</td>\n",
       "    </tr>\n",
       "    <tr>\n",
       "      <th>2</th>\n",
       "      <td>0x84b396c7fad17e16bb22ede6978340d240a1d61c8f93...</td>\n",
       "      <td>0xC36442b4a4522E871399CD717aBDD847Ab11FE88</td>\n",
       "      <td>UNI-V3-POS</td>\n",
       "      <td>0x0000000000000000000000000000000000000000</td>\n",
       "      <td>0x36c4bd54d54dd898c242f5f634f5d0cef3be2a8a</td>\n",
       "      <td>UniswapV3Pool</td>\n",
       "    </tr>\n",
       "    <tr>\n",
       "      <th>3</th>\n",
       "      <td>0x2cfac29f66bffd5bac296c8b832e631589e2e185e277...</td>\n",
       "      <td>0xC36442b4a4522E871399CD717aBDD847Ab11FE88</td>\n",
       "      <td>UNI-V3-POS</td>\n",
       "      <td>0x0000000000000000000000000000000000000000</td>\n",
       "      <td>0x36c4bd54d54dd898c242f5f634f5d0cef3be2a8a</td>\n",
       "      <td>UniswapV3Pool</td>\n",
       "    </tr>\n",
       "    <tr>\n",
       "      <th>4</th>\n",
       "      <td>0xc2c13363f315249fc3481b0c94397edbc15269b87bad...</td>\n",
       "      <td>0xC36442b4a4522E871399CD717aBDD847Ab11FE88</td>\n",
       "      <td>UNI-V3-POS</td>\n",
       "      <td>0x0000000000000000000000000000000000000000</td>\n",
       "      <td>0xd2eeff73117c86c14f11a6052620848f8dd6e0c8</td>\n",
       "      <td>Others</td>\n",
       "    </tr>\n",
       "    <tr>\n",
       "      <th>...</th>\n",
       "      <td>...</td>\n",
       "      <td>...</td>\n",
       "      <td>...</td>\n",
       "      <td>...</td>\n",
       "      <td>...</td>\n",
       "      <td>...</td>\n",
       "    </tr>\n",
       "    <tr>\n",
       "      <th>13211</th>\n",
       "      <td>0x2c4140ca025ba41e0d5a28bb483f6101c310beefbddd...</td>\n",
       "      <td>0x2260FAC5E5542a773Aa44fBCfeDf7C193bc2C599</td>\n",
       "      <td>WBTC</td>\n",
       "      <td>0x3fc91a3afd70395cd496c647d5a6cc9d4b2b7fad</td>\n",
       "      <td>0x97e1e6c70fe9f2209792640336534bfc9f93aa7a</td>\n",
       "      <td>UniswapV3Pool</td>\n",
       "    </tr>\n",
       "    <tr>\n",
       "      <th>13212</th>\n",
       "      <td>0xd6f7e7e0fbc67557e766698fe936040ec5771d342df1...</td>\n",
       "      <td>0x2260FAC5E5542a773Aa44fBCfeDf7C193bc2C599</td>\n",
       "      <td>WBTC</td>\n",
       "      <td>0x3fc91a3afd70395cd496c647d5a6cc9d4b2b7fad</td>\n",
       "      <td>0x97e1e6c70fe9f2209792640336534bfc9f93aa7a</td>\n",
       "      <td>UniswapV3Pool</td>\n",
       "    </tr>\n",
       "    <tr>\n",
       "      <th>13213</th>\n",
       "      <td>0xd3e459dcd796c526f22cea607844229cfc3d9b536b8e...</td>\n",
       "      <td>0xA0b86991c6218b36c1d19D4a2e9Eb0cE3606eB48</td>\n",
       "      <td>USDC</td>\n",
       "      <td>0x9008d19f58aabd9ed0d60971565aa8510560ab41</td>\n",
       "      <td>0xe705b1d26b85c9f9f91a3690079d336295f14f08</td>\n",
       "      <td>CowSwap</td>\n",
       "    </tr>\n",
       "    <tr>\n",
       "      <th>13214</th>\n",
       "      <td>0x264dbb0f1eda1d684a1b70d26f8f6ec82093d6445172...</td>\n",
       "      <td>0xA0b86991c6218b36c1d19D4a2e9Eb0cE3606eB48</td>\n",
       "      <td>USDC</td>\n",
       "      <td>0x5b93d80da1a359340d1f339fb574bdc56763f995</td>\n",
       "      <td>0x2767edfee9f5ba743511ee4187a596b302b43938</td>\n",
       "      <td>UniswapV3Pool</td>\n",
       "    </tr>\n",
       "    <tr>\n",
       "      <th>13215</th>\n",
       "      <td>0x8570e66f2cb586feef722e4ba6ae533ffe82cadbecbf...</td>\n",
       "      <td>0xA0b86991c6218b36c1d19D4a2e9Eb0cE3606eB48</td>\n",
       "      <td>USDC</td>\n",
       "      <td>0xd5e74de4385ef0eb1bb4db05a6a504f04d92e79d</td>\n",
       "      <td>0x2767edfee9f5ba743511ee4187a596b302b43938</td>\n",
       "      <td>UniswapV3Pool</td>\n",
       "    </tr>\n",
       "  </tbody>\n",
       "</table>\n",
       "<p>13216 rows × 6 columns</p>\n",
       "</div>"
      ],
      "text/plain": [
       "                                                 tx_hash  \\\n",
       "0      0x0d73f08d46ffd3f12f197a4e03eab32b4ab69457d11d...   \n",
       "1      0x850d108cf9568bb0a9855b81b746a4e00027e2e83585...   \n",
       "2      0x84b396c7fad17e16bb22ede6978340d240a1d61c8f93...   \n",
       "3      0x2cfac29f66bffd5bac296c8b832e631589e2e185e277...   \n",
       "4      0xc2c13363f315249fc3481b0c94397edbc15269b87bad...   \n",
       "...                                                  ...   \n",
       "13211  0x2c4140ca025ba41e0d5a28bb483f6101c310beefbddd...   \n",
       "13212  0xd6f7e7e0fbc67557e766698fe936040ec5771d342df1...   \n",
       "13213  0xd3e459dcd796c526f22cea607844229cfc3d9b536b8e...   \n",
       "13214  0x264dbb0f1eda1d684a1b70d26f8f6ec82093d6445172...   \n",
       "13215  0x8570e66f2cb586feef722e4ba6ae533ffe82cadbecbf...   \n",
       "\n",
       "                                    token_address      symbol  \\\n",
       "0      0xA0b86991c6218b36c1d19D4a2e9Eb0cE3606eB48        USDC   \n",
       "1      0xA0b86991c6218b36c1d19D4a2e9Eb0cE3606eB48        USDC   \n",
       "2      0xC36442b4a4522E871399CD717aBDD847Ab11FE88  UNI-V3-POS   \n",
       "3      0xC36442b4a4522E871399CD717aBDD847Ab11FE88  UNI-V3-POS   \n",
       "4      0xC36442b4a4522E871399CD717aBDD847Ab11FE88  UNI-V3-POS   \n",
       "...                                           ...         ...   \n",
       "13211  0x2260FAC5E5542a773Aa44fBCfeDf7C193bc2C599        WBTC   \n",
       "13212  0x2260FAC5E5542a773Aa44fBCfeDf7C193bc2C599        WBTC   \n",
       "13213  0xA0b86991c6218b36c1d19D4a2e9Eb0cE3606eB48        USDC   \n",
       "13214  0xA0b86991c6218b36c1d19D4a2e9Eb0cE3606eB48        USDC   \n",
       "13215  0xA0b86991c6218b36c1d19D4a2e9Eb0cE3606eB48        USDC   \n",
       "\n",
       "                                             from  \\\n",
       "0      0x9008d19f58aabd9ed0d60971565aa8510560ab41   \n",
       "1      0x9008d19f58aabd9ed0d60971565aa8510560ab41   \n",
       "2      0x0000000000000000000000000000000000000000   \n",
       "3      0x0000000000000000000000000000000000000000   \n",
       "4      0x0000000000000000000000000000000000000000   \n",
       "...                                           ...   \n",
       "13211  0x3fc91a3afd70395cd496c647d5a6cc9d4b2b7fad   \n",
       "13212  0x3fc91a3afd70395cd496c647d5a6cc9d4b2b7fad   \n",
       "13213  0x9008d19f58aabd9ed0d60971565aa8510560ab41   \n",
       "13214  0x5b93d80da1a359340d1f339fb574bdc56763f995   \n",
       "13215  0xd5e74de4385ef0eb1bb4db05a6a504f04d92e79d   \n",
       "\n",
       "                                               to    destination  \n",
       "0      0xd14f076044414c255d2e82cceb1cb00fb1bba64c        CowSwap  \n",
       "1      0xd14f076044414c255d2e82cceb1cb00fb1bba64c        CowSwap  \n",
       "2      0x36c4bd54d54dd898c242f5f634f5d0cef3be2a8a  UniswapV3Pool  \n",
       "3      0x36c4bd54d54dd898c242f5f634f5d0cef3be2a8a  UniswapV3Pool  \n",
       "4      0xd2eeff73117c86c14f11a6052620848f8dd6e0c8         Others  \n",
       "...                                           ...            ...  \n",
       "13211  0x97e1e6c70fe9f2209792640336534bfc9f93aa7a  UniswapV3Pool  \n",
       "13212  0x97e1e6c70fe9f2209792640336534bfc9f93aa7a  UniswapV3Pool  \n",
       "13213  0xe705b1d26b85c9f9f91a3690079d336295f14f08        CowSwap  \n",
       "13214  0x2767edfee9f5ba743511ee4187a596b302b43938  UniswapV3Pool  \n",
       "13215  0x2767edfee9f5ba743511ee4187a596b302b43938  UniswapV3Pool  \n",
       "\n",
       "[13216 rows x 6 columns]"
      ]
     },
     "execution_count": 106,
     "metadata": {},
     "output_type": "execute_result"
    }
   ],
   "source": [
    "result_df"
   ]
  },
  {
   "cell_type": "code",
   "execution_count": 73,
   "id": "f68ee16f-ad02-4fb2-8078-d90b0577c71e",
   "metadata": {},
   "outputs": [
    {
     "data": {
      "text/plain": [
       "GHO                   5393\n",
       "USDC                  2532\n",
       "USDT                  1168\n",
       "DAI                    550\n",
       "WBTC                   456\n",
       "AAVE                   351\n",
       "WETH                   329\n",
       "variableDebtEthGHO     319\n",
       "wstETH                 252\n",
       "LINK                   173\n",
       "UNI-V3-POS             106\n",
       "LUSD                    91\n",
       "aEthWETH                86\n",
       "GHO/bb-a-USD            77\n",
       "aEthwstETH              66\n",
       "crvUSD                  60\n",
       "rETH                    56\n",
       "USDe                    49\n",
       "aEthAAVE                48\n",
       "GHO/USDT/USDC           47\n",
       "Name: symbol, dtype: int64"
      ]
     },
     "execution_count": 73,
     "metadata": {},
     "output_type": "execute_result"
    }
   ],
   "source": [
    "result_df['symbol'].value_counts()[:20]"
   ]
  },
  {
   "cell_type": "code",
   "execution_count": 41,
   "id": "a0fc0b0c-d72c-496f-9b71-adc3bac1a18a",
   "metadata": {},
   "outputs": [
    {
     "data": {
      "text/html": [
       "<div>\n",
       "<style scoped>\n",
       "    .dataframe tbody tr th:only-of-type {\n",
       "        vertical-align: middle;\n",
       "    }\n",
       "\n",
       "    .dataframe tbody tr th {\n",
       "        vertical-align: top;\n",
       "    }\n",
       "\n",
       "    .dataframe thead th {\n",
       "        text-align: right;\n",
       "    }\n",
       "</style>\n",
       "<table border=\"1\" class=\"dataframe\">\n",
       "  <thead>\n",
       "    <tr style=\"text-align: right;\">\n",
       "      <th></th>\n",
       "      <th>from</th>\n",
       "      <th>to</th>\n",
       "      <th>value</th>\n",
       "      <th>transferIndex</th>\n",
       "      <th>borrowCap</th>\n",
       "      <th>supplyCap</th>\n",
       "      <th>totalVariableDebt</th>\n",
       "      <th>variableBorrowRate</th>\n",
       "      <th>blockNumber</th>\n",
       "      <th>blockTimestamp</th>\n",
       "      <th>transactionHash</th>\n",
       "      <th>mint</th>\n",
       "      <th>destination</th>\n",
       "    </tr>\n",
       "  </thead>\n",
       "  <tbody>\n",
       "    <tr>\n",
       "      <th>79156</th>\n",
       "      <td>0x686f8d21520f4ecec7ba577be08354f4d1eb8262</td>\n",
       "      <td>0x9008d19f58aabd9ed0d60971565aa8510560ab41</td>\n",
       "      <td>691779724000000000000</td>\n",
       "      <td>79156</td>\n",
       "      <td>116000000</td>\n",
       "      <td>0</td>\n",
       "      <td>106694969088181240637862378</td>\n",
       "      <td>60000000000000000000000000</td>\n",
       "      <td>20641913</td>\n",
       "      <td>1725027179</td>\n",
       "      <td>0x9d1efc90e836150b21ada9a2cebff14a1d47d74331a6bd5e67530c2cf112152e</td>\n",
       "      <td>False</td>\n",
       "      <td>CowSwap</td>\n",
       "    </tr>\n",
       "  </tbody>\n",
       "</table>\n",
       "</div>"
      ],
      "text/plain": [
       "                                             from  \\\n",
       "79156  0x686f8d21520f4ecec7ba577be08354f4d1eb8262   \n",
       "\n",
       "                                               to                  value  \\\n",
       "79156  0x9008d19f58aabd9ed0d60971565aa8510560ab41  691779724000000000000   \n",
       "\n",
       "       transferIndex  borrowCap supplyCap            totalVariableDebt  \\\n",
       "79156          79156  116000000         0  106694969088181240637862378   \n",
       "\n",
       "               variableBorrowRate blockNumber blockTimestamp  \\\n",
       "79156  60000000000000000000000000    20641913     1725027179   \n",
       "\n",
       "                                                          transactionHash  \\\n",
       "79156  0x9d1efc90e836150b21ada9a2cebff14a1d47d74331a6bd5e67530c2cf112152e   \n",
       "\n",
       "        mint destination  \n",
       "79156  False     CowSwap  "
      ]
     },
     "execution_count": 41,
     "metadata": {},
     "output_type": "execute_result"
    }
   ],
   "source": [
    "dex_txs[dex_txs['transactionHash'] == '0x9d1efc90e836150b21ada9a2cebff14a1d47d74331a6bd5e67530c2cf112152e']"
   ]
  },
  {
   "cell_type": "code",
   "execution_count": 118,
   "id": "0eed3ea0-98cd-4be0-8b7d-3b6824a11737",
   "metadata": {},
   "outputs": [
    {
     "data": {
      "text/html": [
       "<div>\n",
       "<style scoped>\n",
       "    .dataframe tbody tr th:only-of-type {\n",
       "        vertical-align: middle;\n",
       "    }\n",
       "\n",
       "    .dataframe tbody tr th {\n",
       "        vertical-align: top;\n",
       "    }\n",
       "\n",
       "    .dataframe thead th {\n",
       "        text-align: right;\n",
       "    }\n",
       "</style>\n",
       "<table border=\"1\" class=\"dataframe\">\n",
       "  <thead>\n",
       "    <tr style=\"text-align: right;\">\n",
       "      <th></th>\n",
       "      <th></th>\n",
       "      <th>to</th>\n",
       "    </tr>\n",
       "    <tr>\n",
       "      <th>destination</th>\n",
       "      <th>symbol</th>\n",
       "      <th></th>\n",
       "    </tr>\n",
       "  </thead>\n",
       "  <tbody>\n",
       "    <tr>\n",
       "      <th rowspan=\"5\" valign=\"top\">0x Exchange</th>\n",
       "      <th>AAVE</th>\n",
       "      <td>7</td>\n",
       "    </tr>\n",
       "    <tr>\n",
       "      <th>BTRFLY</th>\n",
       "      <td>1</td>\n",
       "    </tr>\n",
       "    <tr>\n",
       "      <th>DAI</th>\n",
       "      <td>3</td>\n",
       "    </tr>\n",
       "    <tr>\n",
       "      <th>DMT</th>\n",
       "      <td>1</td>\n",
       "    </tr>\n",
       "    <tr>\n",
       "      <th>GHO</th>\n",
       "      <td>2</td>\n",
       "    </tr>\n",
       "    <tr>\n",
       "      <th>...</th>\n",
       "      <th>...</th>\n",
       "      <td>...</td>\n",
       "    </tr>\n",
       "    <tr>\n",
       "      <th rowspan=\"5\" valign=\"top\">UniswapV3Pool</th>\n",
       "      <th>swETH</th>\n",
       "      <td>1</td>\n",
       "    </tr>\n",
       "    <tr>\n",
       "      <th>variableDebtEthGHO</th>\n",
       "      <td>4</td>\n",
       "    </tr>\n",
       "    <tr>\n",
       "      <th>variableDebtEthcrvUSD</th>\n",
       "      <td>1</td>\n",
       "    </tr>\n",
       "    <tr>\n",
       "      <th>wTAO</th>\n",
       "      <td>2</td>\n",
       "    </tr>\n",
       "    <tr>\n",
       "      <th>wstETH</th>\n",
       "      <td>51</td>\n",
       "    </tr>\n",
       "  </tbody>\n",
       "</table>\n",
       "<p>472 rows × 1 columns</p>\n",
       "</div>"
      ],
      "text/plain": [
       "                                     to\n",
       "destination   symbol                   \n",
       "0x Exchange   AAVE                    7\n",
       "              BTRFLY                  1\n",
       "              DAI                     3\n",
       "              DMT                     1\n",
       "              GHO                     2\n",
       "...                                  ..\n",
       "UniswapV3Pool swETH                   1\n",
       "              variableDebtEthGHO      4\n",
       "              variableDebtEthcrvUSD   1\n",
       "              wTAO                    2\n",
       "              wstETH                 51\n",
       "\n",
       "[472 rows x 1 columns]"
      ]
     },
     "execution_count": 118,
     "metadata": {},
     "output_type": "execute_result"
    }
   ],
   "source": [
    "result_df[['symbol', 'destination', 'to']].groupby(['destination', 'symbol']).count()"
   ]
  },
  {
   "cell_type": "code",
   "execution_count": 119,
   "id": "cb387e3d-5db8-4ff9-9030-204627214a1f",
   "metadata": {},
   "outputs": [
    {
     "name": "stderr",
     "output_type": "stream",
     "text": [
      "/tmp/ipykernel_78355/3331406645.py:3: FutureWarning:\n",
      "\n",
      "Not prepending group keys to the result index of transform-like apply. In the future, the group keys will be included in the index, regardless of whether the applied function returns a like-indexed object.\n",
      "To preserve the previous behavior, use\n",
      "\n",
      "\t>>> .groupby(..., group_keys=False)\n",
      "\n",
      "To adopt the future behavior and silence this warning, use \n",
      "\n",
      "\t>>> .groupby(..., group_keys=True)\n",
      "\n"
     ]
    },
    {
     "data": {
      "text/html": [
       "<div>\n",
       "<style scoped>\n",
       "    .dataframe tbody tr th:only-of-type {\n",
       "        vertical-align: middle;\n",
       "    }\n",
       "\n",
       "    .dataframe tbody tr th {\n",
       "        vertical-align: top;\n",
       "    }\n",
       "\n",
       "    .dataframe thead th {\n",
       "        text-align: right;\n",
       "    }\n",
       "</style>\n",
       "<table border=\"1\" class=\"dataframe\">\n",
       "  <thead>\n",
       "    <tr style=\"text-align: right;\">\n",
       "      <th></th>\n",
       "      <th></th>\n",
       "      <th>count</th>\n",
       "      <th>percentage</th>\n",
       "    </tr>\n",
       "    <tr>\n",
       "      <th>destination</th>\n",
       "      <th>symbol</th>\n",
       "      <th></th>\n",
       "      <th></th>\n",
       "    </tr>\n",
       "  </thead>\n",
       "  <tbody>\n",
       "    <tr>\n",
       "      <th rowspan=\"5\" valign=\"top\">0x Exchange</th>\n",
       "      <th>AAVE</th>\n",
       "      <td>7</td>\n",
       "      <td>10.606061</td>\n",
       "    </tr>\n",
       "    <tr>\n",
       "      <th>BTRFLY</th>\n",
       "      <td>1</td>\n",
       "      <td>1.515152</td>\n",
       "    </tr>\n",
       "    <tr>\n",
       "      <th>DAI</th>\n",
       "      <td>3</td>\n",
       "      <td>4.545455</td>\n",
       "    </tr>\n",
       "    <tr>\n",
       "      <th>DMT</th>\n",
       "      <td>1</td>\n",
       "      <td>1.515152</td>\n",
       "    </tr>\n",
       "    <tr>\n",
       "      <th>GHO</th>\n",
       "      <td>2</td>\n",
       "      <td>3.030303</td>\n",
       "    </tr>\n",
       "    <tr>\n",
       "      <th>...</th>\n",
       "      <th>...</th>\n",
       "      <td>...</td>\n",
       "      <td>...</td>\n",
       "    </tr>\n",
       "    <tr>\n",
       "      <th rowspan=\"5\" valign=\"top\">UniswapV3Pool</th>\n",
       "      <th>swETH</th>\n",
       "      <td>1</td>\n",
       "      <td>0.051387</td>\n",
       "    </tr>\n",
       "    <tr>\n",
       "      <th>variableDebtEthGHO</th>\n",
       "      <td>4</td>\n",
       "      <td>0.205550</td>\n",
       "    </tr>\n",
       "    <tr>\n",
       "      <th>variableDebtEthcrvUSD</th>\n",
       "      <td>1</td>\n",
       "      <td>0.051387</td>\n",
       "    </tr>\n",
       "    <tr>\n",
       "      <th>wTAO</th>\n",
       "      <td>2</td>\n",
       "      <td>0.102775</td>\n",
       "    </tr>\n",
       "    <tr>\n",
       "      <th>wstETH</th>\n",
       "      <td>51</td>\n",
       "      <td>2.620761</td>\n",
       "    </tr>\n",
       "  </tbody>\n",
       "</table>\n",
       "<p>472 rows × 2 columns</p>\n",
       "</div>"
      ],
      "text/plain": [
       "                                     count  percentage\n",
       "destination   symbol                                  \n",
       "0x Exchange   AAVE                       7   10.606061\n",
       "              BTRFLY                     1    1.515152\n",
       "              DAI                        3    4.545455\n",
       "              DMT                        1    1.515152\n",
       "              GHO                        2    3.030303\n",
       "...                                    ...         ...\n",
       "UniswapV3Pool swETH                      1    0.051387\n",
       "              variableDebtEthGHO         4    0.205550\n",
       "              variableDebtEthcrvUSD      1    0.051387\n",
       "              wTAO                       2    0.102775\n",
       "              wstETH                    51    2.620761\n",
       "\n",
       "[472 rows x 2 columns]"
      ]
     },
     "execution_count": 119,
     "metadata": {},
     "output_type": "execute_result"
    }
   ],
   "source": [
    "grouped = result_df[['symbol', 'destination', 'to']].groupby(['destination', 'symbol']).count()\n",
    "grouped = grouped.rename(columns={'to': 'count'})\n",
    "grouped['percentage'] = grouped.groupby(level=0).apply(lambda x: x / x.sum() * 100)\n",
    "grouped = grouped.reset_index()\n",
    "grouped = grouped.set_index(['destination', 'symbol'])\n",
    "grouped"
   ]
  },
  {
   "cell_type": "code",
   "execution_count": 76,
   "id": "6278a7b2-6c07-4287-af3f-c9b6c5e1f00b",
   "metadata": {},
   "outputs": [],
   "source": [
    "tokens_df = result_df[['symbol', 'destination', 'to']].groupby(['destination', 'symbol']).count()"
   ]
  },
  {
   "cell_type": "code",
   "execution_count": 77,
   "id": "234eec96-43ef-4edf-b31d-6e432dfcd73c",
   "metadata": {},
   "outputs": [
    {
     "data": {
      "text/html": [
       "<div>\n",
       "<style scoped>\n",
       "    .dataframe tbody tr th:only-of-type {\n",
       "        vertical-align: middle;\n",
       "    }\n",
       "\n",
       "    .dataframe tbody tr th {\n",
       "        vertical-align: top;\n",
       "    }\n",
       "\n",
       "    .dataframe thead th {\n",
       "        text-align: right;\n",
       "    }\n",
       "</style>\n",
       "<table border=\"1\" class=\"dataframe\">\n",
       "  <thead>\n",
       "    <tr style=\"text-align: right;\">\n",
       "      <th></th>\n",
       "      <th>to</th>\n",
       "    </tr>\n",
       "    <tr>\n",
       "      <th>symbol</th>\n",
       "      <th></th>\n",
       "    </tr>\n",
       "  </thead>\n",
       "  <tbody>\n",
       "    <tr>\n",
       "      <th>AAVE</th>\n",
       "      <td>124</td>\n",
       "    </tr>\n",
       "    <tr>\n",
       "      <th>ACX</th>\n",
       "      <td>4</td>\n",
       "    </tr>\n",
       "    <tr>\n",
       "      <th>ANKR</th>\n",
       "      <td>1</td>\n",
       "    </tr>\n",
       "    <tr>\n",
       "      <th>ARB</th>\n",
       "      <td>2</td>\n",
       "    </tr>\n",
       "    <tr>\n",
       "      <th>ARES</th>\n",
       "      <td>1</td>\n",
       "    </tr>\n",
       "    <tr>\n",
       "      <th>...</th>\n",
       "      <td>...</td>\n",
       "    </tr>\n",
       "    <tr>\n",
       "      <th>swETH</th>\n",
       "      <td>1</td>\n",
       "    </tr>\n",
       "    <tr>\n",
       "      <th>variableDebtEthGHO</th>\n",
       "      <td>4</td>\n",
       "    </tr>\n",
       "    <tr>\n",
       "      <th>variableDebtEthcrvUSD</th>\n",
       "      <td>1</td>\n",
       "    </tr>\n",
       "    <tr>\n",
       "      <th>wTAO</th>\n",
       "      <td>2</td>\n",
       "    </tr>\n",
       "    <tr>\n",
       "      <th>wstETH</th>\n",
       "      <td>51</td>\n",
       "    </tr>\n",
       "  </tbody>\n",
       "</table>\n",
       "<p>99 rows × 1 columns</p>\n",
       "</div>"
      ],
      "text/plain": [
       "                        to\n",
       "symbol                    \n",
       "AAVE                   124\n",
       "ACX                      4\n",
       "ANKR                     1\n",
       "ARB                      2\n",
       "ARES                     1\n",
       "...                    ...\n",
       "swETH                    1\n",
       "variableDebtEthGHO       4\n",
       "variableDebtEthcrvUSD    1\n",
       "wTAO                     2\n",
       "wstETH                  51\n",
       "\n",
       "[99 rows x 1 columns]"
      ]
     },
     "execution_count": 77,
     "metadata": {},
     "output_type": "execute_result"
    }
   ],
   "source": [
    "tokens_df.loc['UniswapV3Pool']"
   ]
  },
  {
   "cell_type": "code",
   "execution_count": 78,
   "id": "055e2ea9-5898-47a1-83ad-a553386b8cd8",
   "metadata": {},
   "outputs": [
    {
     "data": {
      "text/html": [
       "<div>\n",
       "<style scoped>\n",
       "    .dataframe tbody tr th:only-of-type {\n",
       "        vertical-align: middle;\n",
       "    }\n",
       "\n",
       "    .dataframe tbody tr th {\n",
       "        vertical-align: top;\n",
       "    }\n",
       "\n",
       "    .dataframe thead th {\n",
       "        text-align: right;\n",
       "    }\n",
       "</style>\n",
       "<table border=\"1\" class=\"dataframe\">\n",
       "  <thead>\n",
       "    <tr style=\"text-align: right;\">\n",
       "      <th></th>\n",
       "      <th>count</th>\n",
       "      <th>percentage</th>\n",
       "    </tr>\n",
       "    <tr>\n",
       "      <th>symbol</th>\n",
       "      <th></th>\n",
       "      <th></th>\n",
       "    </tr>\n",
       "  </thead>\n",
       "  <tbody>\n",
       "    <tr>\n",
       "      <th>AAVE</th>\n",
       "      <td>1</td>\n",
       "      <td>0.442478</td>\n",
       "    </tr>\n",
       "    <tr>\n",
       "      <th>CRV</th>\n",
       "      <td>2</td>\n",
       "      <td>0.884956</td>\n",
       "    </tr>\n",
       "    <tr>\n",
       "      <th>DAI</th>\n",
       "      <td>5</td>\n",
       "      <td>2.212389</td>\n",
       "    </tr>\n",
       "    <tr>\n",
       "      <th>DOLA</th>\n",
       "      <td>1</td>\n",
       "      <td>0.442478</td>\n",
       "    </tr>\n",
       "    <tr>\n",
       "      <th>ETHx</th>\n",
       "      <td>1</td>\n",
       "      <td>0.442478</td>\n",
       "    </tr>\n",
       "    <tr>\n",
       "      <th>FRAX</th>\n",
       "      <td>3</td>\n",
       "      <td>1.327434</td>\n",
       "    </tr>\n",
       "    <tr>\n",
       "      <th>FXS</th>\n",
       "      <td>1</td>\n",
       "      <td>0.442478</td>\n",
       "    </tr>\n",
       "    <tr>\n",
       "      <th>GHO</th>\n",
       "      <td>2</td>\n",
       "      <td>0.884956</td>\n",
       "    </tr>\n",
       "    <tr>\n",
       "      <th>GHOUSDe</th>\n",
       "      <td>4</td>\n",
       "      <td>1.769912</td>\n",
       "    </tr>\n",
       "    <tr>\n",
       "      <th>GHOcrvUSD</th>\n",
       "      <td>2</td>\n",
       "      <td>0.884956</td>\n",
       "    </tr>\n",
       "    <tr>\n",
       "      <th>GUSD</th>\n",
       "      <td>1</td>\n",
       "      <td>0.442478</td>\n",
       "    </tr>\n",
       "    <tr>\n",
       "      <th>PYUSD</th>\n",
       "      <td>5</td>\n",
       "      <td>2.212389</td>\n",
       "    </tr>\n",
       "    <tr>\n",
       "      <th>USD0</th>\n",
       "      <td>1</td>\n",
       "      <td>0.442478</td>\n",
       "    </tr>\n",
       "    <tr>\n",
       "      <th>USD3</th>\n",
       "      <td>2</td>\n",
       "      <td>0.884956</td>\n",
       "    </tr>\n",
       "    <tr>\n",
       "      <th>USDC</th>\n",
       "      <td>63</td>\n",
       "      <td>27.876106</td>\n",
       "    </tr>\n",
       "    <tr>\n",
       "      <th>USDT</th>\n",
       "      <td>48</td>\n",
       "      <td>21.238938</td>\n",
       "    </tr>\n",
       "    <tr>\n",
       "      <th>USDe</th>\n",
       "      <td>22</td>\n",
       "      <td>9.734513</td>\n",
       "    </tr>\n",
       "    <tr>\n",
       "      <th>WBTC</th>\n",
       "      <td>4</td>\n",
       "      <td>1.769912</td>\n",
       "    </tr>\n",
       "    <tr>\n",
       "      <th>WETH</th>\n",
       "      <td>3</td>\n",
       "      <td>1.327434</td>\n",
       "    </tr>\n",
       "    <tr>\n",
       "      <th>crvUSD</th>\n",
       "      <td>7</td>\n",
       "      <td>3.097345</td>\n",
       "    </tr>\n",
       "    <tr>\n",
       "      <th>crvUSDGHO-f</th>\n",
       "      <td>20</td>\n",
       "      <td>8.849558</td>\n",
       "    </tr>\n",
       "    <tr>\n",
       "      <th>cvxCRV</th>\n",
       "      <td>1</td>\n",
       "      <td>0.442478</td>\n",
       "    </tr>\n",
       "    <tr>\n",
       "      <th>fxUSD</th>\n",
       "      <td>3</td>\n",
       "      <td>1.327434</td>\n",
       "    </tr>\n",
       "    <tr>\n",
       "      <th>fxUSDGHO</th>\n",
       "      <td>18</td>\n",
       "      <td>7.964602</td>\n",
       "    </tr>\n",
       "    <tr>\n",
       "      <th>mkUSD</th>\n",
       "      <td>2</td>\n",
       "      <td>0.884956</td>\n",
       "    </tr>\n",
       "    <tr>\n",
       "      <th>sDAI</th>\n",
       "      <td>1</td>\n",
       "      <td>0.442478</td>\n",
       "    </tr>\n",
       "    <tr>\n",
       "      <th>sdCRV</th>\n",
       "      <td>2</td>\n",
       "      <td>0.884956</td>\n",
       "    </tr>\n",
       "    <tr>\n",
       "      <th>wstETH</th>\n",
       "      <td>1</td>\n",
       "      <td>0.442478</td>\n",
       "    </tr>\n",
       "  </tbody>\n",
       "</table>\n",
       "</div>"
      ],
      "text/plain": [
       "             count  percentage\n",
       "symbol                        \n",
       "AAVE             1    0.442478\n",
       "CRV              2    0.884956\n",
       "DAI              5    2.212389\n",
       "DOLA             1    0.442478\n",
       "ETHx             1    0.442478\n",
       "FRAX             3    1.327434\n",
       "FXS              1    0.442478\n",
       "GHO              2    0.884956\n",
       "GHOUSDe          4    1.769912\n",
       "GHOcrvUSD        2    0.884956\n",
       "GUSD             1    0.442478\n",
       "PYUSD            5    2.212389\n",
       "USD0             1    0.442478\n",
       "USD3             2    0.884956\n",
       "USDC            63   27.876106\n",
       "USDT            48   21.238938\n",
       "USDe            22    9.734513\n",
       "WBTC             4    1.769912\n",
       "WETH             3    1.327434\n",
       "crvUSD           7    3.097345\n",
       "crvUSDGHO-f     20    8.849558\n",
       "cvxCRV           1    0.442478\n",
       "fxUSD            3    1.327434\n",
       "fxUSDGHO        18    7.964602\n",
       "mkUSD            2    0.884956\n",
       "sDAI             1    0.442478\n",
       "sdCRV            2    0.884956\n",
       "wstETH           1    0.442478"
      ]
     },
     "execution_count": 78,
     "metadata": {},
     "output_type": "execute_result"
    }
   ],
   "source": [
    "grouped.loc['Curve']"
   ]
  },
  {
   "cell_type": "code",
   "execution_count": 29,
   "id": "68240a66-73e2-4543-a289-fcf1a39ea128",
   "metadata": {},
   "outputs": [
    {
     "data": {
      "text/plain": [
       "{'variableDebtEthGHO', 'variableDebtEthUSDC', 'variableDebtEthcrvUSD'}"
      ]
     },
     "execution_count": 29,
     "metadata": {},
     "output_type": "execute_result"
    }
   ],
   "source": [
    "set(result_df['symbol'][result_df['symbol'].str.lower().str.startswith('var')].to_list())"
   ]
  },
  {
   "cell_type": "code",
   "execution_count": 107,
   "id": "d9e7ba93-f20a-4944-b81a-935a516b1d6b",
   "metadata": {},
   "outputs": [],
   "source": [
    "LP_SYMBOLS = {'UNI-V3-POS','ECLP-GHO-GYD',\n",
    " 'ECLP-GHO-USDC',\n",
    "              'GHOBTCwstE',\n",
    " 'ECLP-GHO-USDC-2',\n",
    " 'GHO-3POOL-BPT',\n",
    " 'GHO/bb-a-USD',\n",
    "              'auraGHO/USDT/USDC-vault',\n",
    " 'MBP-GHO-USDC-15-R1',\n",
    " 'MBP-GHO-USDC-18-R1',\n",
    " 'MBP-GHO-USDC-21',\n",
    " 'MBP-GHO-USDC-21-R1',\n",
    "              'SPT-PT/IBT-f',\n",
    " 'MBP-GHO-USDC-23-R1',\n",
    " 'MBP-GHO-USDC-4-R1',\n",
    " 'UNI-V3-POS',\n",
    " 'USDC-DAI-USDT',\n",
    " 'bb-a-USD',\n",
    " 'crvUSDGHO-f',\n",
    "              'GHO/bb-a-USD',  'GHO/LUSD', 'GHO/USDT/USDC', 'GHO/bb-a-USD', 'GHO/USDT/USDC', 'GHOUSDe', 'fxUSDGHO', 'crvUSDGHO-f', 'GHOcrvUSD', 'GHOUSDe', '80wstETH/20GHO'}\n",
    "\n",
    "ETH_AND_LSTS = {'boxETH',\n",
    " 'cbETH',\n",
    " 'ezETH',\n",
    " 'osETH',\n",
    " 'rETH',\n",
    " 'ETH2X',\n",
    " 'sfrxETH',\n",
    " 'stETH',\n",
    " 'swETH',\n",
    " 'ETHx',\n",
    " 'WETH',\n",
    " 'weETH',\n",
    " 'wstETH'}\n",
    "\n",
    "BTC = {'LBTC', 'WBTC', 'tBTC'}\n",
    "\n",
    "OTHER_STABLES = { 'mkUSD',\n",
    " 'rgUSD',\n",
    " 'sUSDe', \n",
    " 'fxUSD',\n",
    "                 'sUSD',\n",
    " 'stUSD', \n",
    " 'bb-a-USD',\n",
    " 'USDP', \n",
    " 'PYUSD',\n",
    " 'DOLA',\n",
    " 'crvUSD',\n",
    " 'USD0',\n",
    " 'USD3',\n",
    " 'USDA',\n",
    "                 'FRAX',\n",
    " 'USDe',\n",
    " 'GUSD',\n",
    "                 'sDAI'\n",
    " }\n",
    "\n",
    "A_TOKENS = {\n",
    " 'aEthAAVE',\n",
    " 'aEthDAI',\n",
    " 'aEthUSDC',\n",
    "    'aEthETHx',\n",
    " 'aEthUSDT',\n",
    " 'aEthUSDe',\n",
    " 'aEthWBTC',\n",
    " 'aEthWETH',\n",
    " 'aEthcrvUSD',\n",
    " 'aEthrETH',\n",
    " 'aEthwstETH'}\n",
    "\n",
    "GHO = {'pGHO', 'YT-sw-stkGHO-1732492824', 'GHO-agg', 'nGHO', 'pdGHO', 'PT-sw-stkGHO-1732492824'}\n",
    "\n",
    "VAR_DEBT_TOKENS = {'variableDebtEthGHO', 'variableDebtEthUSDC', 'variableDebtEthcrvUSD', 'variableDebtEthDAI'}\n",
    "\n",
    "MAJORS = {'GHO', 'USDC', 'USDT', 'DAI', 'AAVE', 'LINK', 'LUSD'}\n"
   ]
  },
  {
   "cell_type": "code",
   "execution_count": 105,
   "id": "e3f69306-821c-434f-8630-6d122955f57a",
   "metadata": {},
   "outputs": [
    {
     "data": {
      "text/plain": [
       "MKR                35\n",
       "CRV                34\n",
       "stkAAVE            23\n",
       "UNI                20\n",
       "LDO                14\n",
       "RPL                13\n",
       "CVX                13\n",
       "EURe               12\n",
       "AURA               11\n",
       "DIP                10\n",
       "SNX                 8\n",
       "FXS                 8\n",
       "OHM                 7\n",
       "BITCOIN             7\n",
       "TSUKA               6\n",
       "PEPE                6\n",
       "MATIC               6\n",
       "sdCRV               5\n",
       "ILV                 5\n",
       "MPL                 5\n",
       "wTAO                5\n",
       "ENA                 5\n",
       "BAL                 5\n",
       "NOTE                4\n",
       "MPv2                4\n",
       "ONDO                4\n",
       "SOL                 4\n",
       "ACX                 4\n",
       "RNDR                4\n",
       "cvxCRV              4\n",
       "ENS                 4\n",
       "PENDLE              4\n",
       "RLB                 4\n",
       "R                   4\n",
       "SHIB                3\n",
       "WOJAK               3\n",
       "JPGD                3\n",
       "GNO                 3\n",
       "RIO                 3\n",
       "MAV                 2\n",
       "INJ                 2\n",
       "EUL                 2\n",
       "aAAVE               2\n",
       "GEAR                2\n",
       "variableDebtDAI     2\n",
       "RARI                2\n",
       "ELA                 2\n",
       "BTRFLY              2\n",
       "ETHFI               2\n",
       "PSP                 2\n",
       "Name: symbol, dtype: int64"
      ]
     },
     "execution_count": 105,
     "metadata": {},
     "output_type": "execute_result"
    }
   ],
   "source": [
    "result_df[~result_df['symbol'].isin(VAR_DEBT_TOKENS | A_TOKENS | BTC | OTHER_STABLES | ETH_AND_LSTS | LP_SYMBOLS | MAJORS | GHO )]['symbol'].value_counts()[:50]"
   ]
  },
  {
   "cell_type": "markdown",
   "id": "79746ebe-26a6-4b86-8440-1061b4ded636",
   "metadata": {},
   "source": [
    "### Relabelling our symbols"
   ]
  },
  {
   "cell_type": "code",
   "execution_count": 110,
   "id": "8ae506c5-efff-4f37-8b01-8a7907e01a45",
   "metadata": {},
   "outputs": [
    {
     "data": {
      "text/html": [
       "<div>\n",
       "<style scoped>\n",
       "    .dataframe tbody tr th:only-of-type {\n",
       "        vertical-align: middle;\n",
       "    }\n",
       "\n",
       "    .dataframe tbody tr th {\n",
       "        vertical-align: top;\n",
       "    }\n",
       "\n",
       "    .dataframe thead th {\n",
       "        text-align: right;\n",
       "    }\n",
       "</style>\n",
       "<table border=\"1\" class=\"dataframe\">\n",
       "  <thead>\n",
       "    <tr style=\"text-align: right;\">\n",
       "      <th></th>\n",
       "      <th>tx_hash</th>\n",
       "      <th>token_address</th>\n",
       "      <th>symbol</th>\n",
       "      <th>from</th>\n",
       "      <th>to</th>\n",
       "      <th>destination</th>\n",
       "    </tr>\n",
       "  </thead>\n",
       "  <tbody>\n",
       "    <tr>\n",
       "      <th>0</th>\n",
       "      <td>0x0d73f08d46ffd3f12f197a4e03eab32b4ab69457d11d...</td>\n",
       "      <td>0xA0b86991c6218b36c1d19D4a2e9Eb0cE3606eB48</td>\n",
       "      <td>USDC</td>\n",
       "      <td>0x9008d19f58aabd9ed0d60971565aa8510560ab41</td>\n",
       "      <td>0xd14f076044414c255d2e82cceb1cb00fb1bba64c</td>\n",
       "      <td>CowSwap</td>\n",
       "    </tr>\n",
       "    <tr>\n",
       "      <th>1</th>\n",
       "      <td>0x850d108cf9568bb0a9855b81b746a4e00027e2e83585...</td>\n",
       "      <td>0xA0b86991c6218b36c1d19D4a2e9Eb0cE3606eB48</td>\n",
       "      <td>USDC</td>\n",
       "      <td>0x9008d19f58aabd9ed0d60971565aa8510560ab41</td>\n",
       "      <td>0xd14f076044414c255d2e82cceb1cb00fb1bba64c</td>\n",
       "      <td>CowSwap</td>\n",
       "    </tr>\n",
       "    <tr>\n",
       "      <th>2</th>\n",
       "      <td>0x84b396c7fad17e16bb22ede6978340d240a1d61c8f93...</td>\n",
       "      <td>0xC36442b4a4522E871399CD717aBDD847Ab11FE88</td>\n",
       "      <td>Providing Liquidity</td>\n",
       "      <td>0x0000000000000000000000000000000000000000</td>\n",
       "      <td>0x36c4bd54d54dd898c242f5f634f5d0cef3be2a8a</td>\n",
       "      <td>UniswapV3Pool</td>\n",
       "    </tr>\n",
       "    <tr>\n",
       "      <th>3</th>\n",
       "      <td>0x2cfac29f66bffd5bac296c8b832e631589e2e185e277...</td>\n",
       "      <td>0xC36442b4a4522E871399CD717aBDD847Ab11FE88</td>\n",
       "      <td>Providing Liquidity</td>\n",
       "      <td>0x0000000000000000000000000000000000000000</td>\n",
       "      <td>0x36c4bd54d54dd898c242f5f634f5d0cef3be2a8a</td>\n",
       "      <td>UniswapV3Pool</td>\n",
       "    </tr>\n",
       "    <tr>\n",
       "      <th>4</th>\n",
       "      <td>0xc2c13363f315249fc3481b0c94397edbc15269b87bad...</td>\n",
       "      <td>0xC36442b4a4522E871399CD717aBDD847Ab11FE88</td>\n",
       "      <td>Providing Liquidity</td>\n",
       "      <td>0x0000000000000000000000000000000000000000</td>\n",
       "      <td>0xd2eeff73117c86c14f11a6052620848f8dd6e0c8</td>\n",
       "      <td>Others</td>\n",
       "    </tr>\n",
       "    <tr>\n",
       "      <th>...</th>\n",
       "      <td>...</td>\n",
       "      <td>...</td>\n",
       "      <td>...</td>\n",
       "      <td>...</td>\n",
       "      <td>...</td>\n",
       "      <td>...</td>\n",
       "    </tr>\n",
       "    <tr>\n",
       "      <th>13211</th>\n",
       "      <td>0x2c4140ca025ba41e0d5a28bb483f6101c310beefbddd...</td>\n",
       "      <td>0x2260FAC5E5542a773Aa44fBCfeDf7C193bc2C599</td>\n",
       "      <td>BTC</td>\n",
       "      <td>0x3fc91a3afd70395cd496c647d5a6cc9d4b2b7fad</td>\n",
       "      <td>0x97e1e6c70fe9f2209792640336534bfc9f93aa7a</td>\n",
       "      <td>UniswapV3Pool</td>\n",
       "    </tr>\n",
       "    <tr>\n",
       "      <th>13212</th>\n",
       "      <td>0xd6f7e7e0fbc67557e766698fe936040ec5771d342df1...</td>\n",
       "      <td>0x2260FAC5E5542a773Aa44fBCfeDf7C193bc2C599</td>\n",
       "      <td>BTC</td>\n",
       "      <td>0x3fc91a3afd70395cd496c647d5a6cc9d4b2b7fad</td>\n",
       "      <td>0x97e1e6c70fe9f2209792640336534bfc9f93aa7a</td>\n",
       "      <td>UniswapV3Pool</td>\n",
       "    </tr>\n",
       "    <tr>\n",
       "      <th>13213</th>\n",
       "      <td>0xd3e459dcd796c526f22cea607844229cfc3d9b536b8e...</td>\n",
       "      <td>0xA0b86991c6218b36c1d19D4a2e9Eb0cE3606eB48</td>\n",
       "      <td>USDC</td>\n",
       "      <td>0x9008d19f58aabd9ed0d60971565aa8510560ab41</td>\n",
       "      <td>0xe705b1d26b85c9f9f91a3690079d336295f14f08</td>\n",
       "      <td>CowSwap</td>\n",
       "    </tr>\n",
       "    <tr>\n",
       "      <th>13214</th>\n",
       "      <td>0x264dbb0f1eda1d684a1b70d26f8f6ec82093d6445172...</td>\n",
       "      <td>0xA0b86991c6218b36c1d19D4a2e9Eb0cE3606eB48</td>\n",
       "      <td>USDC</td>\n",
       "      <td>0x5b93d80da1a359340d1f339fb574bdc56763f995</td>\n",
       "      <td>0x2767edfee9f5ba743511ee4187a596b302b43938</td>\n",
       "      <td>UniswapV3Pool</td>\n",
       "    </tr>\n",
       "    <tr>\n",
       "      <th>13215</th>\n",
       "      <td>0x8570e66f2cb586feef722e4ba6ae533ffe82cadbecbf...</td>\n",
       "      <td>0xA0b86991c6218b36c1d19D4a2e9Eb0cE3606eB48</td>\n",
       "      <td>USDC</td>\n",
       "      <td>0xd5e74de4385ef0eb1bb4db05a6a504f04d92e79d</td>\n",
       "      <td>0x2767edfee9f5ba743511ee4187a596b302b43938</td>\n",
       "      <td>UniswapV3Pool</td>\n",
       "    </tr>\n",
       "  </tbody>\n",
       "</table>\n",
       "<p>13216 rows × 6 columns</p>\n",
       "</div>"
      ],
      "text/plain": [
       "                                                 tx_hash  \\\n",
       "0      0x0d73f08d46ffd3f12f197a4e03eab32b4ab69457d11d...   \n",
       "1      0x850d108cf9568bb0a9855b81b746a4e00027e2e83585...   \n",
       "2      0x84b396c7fad17e16bb22ede6978340d240a1d61c8f93...   \n",
       "3      0x2cfac29f66bffd5bac296c8b832e631589e2e185e277...   \n",
       "4      0xc2c13363f315249fc3481b0c94397edbc15269b87bad...   \n",
       "...                                                  ...   \n",
       "13211  0x2c4140ca025ba41e0d5a28bb483f6101c310beefbddd...   \n",
       "13212  0xd6f7e7e0fbc67557e766698fe936040ec5771d342df1...   \n",
       "13213  0xd3e459dcd796c526f22cea607844229cfc3d9b536b8e...   \n",
       "13214  0x264dbb0f1eda1d684a1b70d26f8f6ec82093d6445172...   \n",
       "13215  0x8570e66f2cb586feef722e4ba6ae533ffe82cadbecbf...   \n",
       "\n",
       "                                    token_address               symbol  \\\n",
       "0      0xA0b86991c6218b36c1d19D4a2e9Eb0cE3606eB48                 USDC   \n",
       "1      0xA0b86991c6218b36c1d19D4a2e9Eb0cE3606eB48                 USDC   \n",
       "2      0xC36442b4a4522E871399CD717aBDD847Ab11FE88  Providing Liquidity   \n",
       "3      0xC36442b4a4522E871399CD717aBDD847Ab11FE88  Providing Liquidity   \n",
       "4      0xC36442b4a4522E871399CD717aBDD847Ab11FE88  Providing Liquidity   \n",
       "...                                           ...                  ...   \n",
       "13211  0x2260FAC5E5542a773Aa44fBCfeDf7C193bc2C599                  BTC   \n",
       "13212  0x2260FAC5E5542a773Aa44fBCfeDf7C193bc2C599                  BTC   \n",
       "13213  0xA0b86991c6218b36c1d19D4a2e9Eb0cE3606eB48                 USDC   \n",
       "13214  0xA0b86991c6218b36c1d19D4a2e9Eb0cE3606eB48                 USDC   \n",
       "13215  0xA0b86991c6218b36c1d19D4a2e9Eb0cE3606eB48                 USDC   \n",
       "\n",
       "                                             from  \\\n",
       "0      0x9008d19f58aabd9ed0d60971565aa8510560ab41   \n",
       "1      0x9008d19f58aabd9ed0d60971565aa8510560ab41   \n",
       "2      0x0000000000000000000000000000000000000000   \n",
       "3      0x0000000000000000000000000000000000000000   \n",
       "4      0x0000000000000000000000000000000000000000   \n",
       "...                                           ...   \n",
       "13211  0x3fc91a3afd70395cd496c647d5a6cc9d4b2b7fad   \n",
       "13212  0x3fc91a3afd70395cd496c647d5a6cc9d4b2b7fad   \n",
       "13213  0x9008d19f58aabd9ed0d60971565aa8510560ab41   \n",
       "13214  0x5b93d80da1a359340d1f339fb574bdc56763f995   \n",
       "13215  0xd5e74de4385ef0eb1bb4db05a6a504f04d92e79d   \n",
       "\n",
       "                                               to    destination  \n",
       "0      0xd14f076044414c255d2e82cceb1cb00fb1bba64c        CowSwap  \n",
       "1      0xd14f076044414c255d2e82cceb1cb00fb1bba64c        CowSwap  \n",
       "2      0x36c4bd54d54dd898c242f5f634f5d0cef3be2a8a  UniswapV3Pool  \n",
       "3      0x36c4bd54d54dd898c242f5f634f5d0cef3be2a8a  UniswapV3Pool  \n",
       "4      0xd2eeff73117c86c14f11a6052620848f8dd6e0c8         Others  \n",
       "...                                           ...            ...  \n",
       "13211  0x97e1e6c70fe9f2209792640336534bfc9f93aa7a  UniswapV3Pool  \n",
       "13212  0x97e1e6c70fe9f2209792640336534bfc9f93aa7a  UniswapV3Pool  \n",
       "13213  0xe705b1d26b85c9f9f91a3690079d336295f14f08        CowSwap  \n",
       "13214  0x2767edfee9f5ba743511ee4187a596b302b43938  UniswapV3Pool  \n",
       "13215  0x2767edfee9f5ba743511ee4187a596b302b43938  UniswapV3Pool  \n",
       "\n",
       "[13216 rows x 6 columns]"
      ]
     },
     "execution_count": 110,
     "metadata": {},
     "output_type": "execute_result"
    }
   ],
   "source": [
    "def relabel(label):\n",
    "    if label in A_TOKENS:\n",
    "        return 'aTokens'\n",
    "    elif label in MAJORS:\n",
    "        return label\n",
    "    elif label in VAR_DEBT_TOKENS:\n",
    "        return 'Variable Debt Tokens'\n",
    "    elif label in OTHER_STABLES:\n",
    "        return 'Other Stablecoins'\n",
    "    elif label in BTC:\n",
    "        return 'BTC'\n",
    "    elif label in ETH_AND_LSTS:\n",
    "        return 'ETH/LSTs/LRTs'\n",
    "    elif label in GHO:\n",
    "        return 'GHO-Yield Aggregation'\n",
    "    elif label in LP_SYMBOLS:\n",
    "        return 'Providing Liquidity'\n",
    "    return 'Other Cryptos'\n",
    "\n",
    "label_df = result_df.copy()\n",
    "label_df['symbol'] = label_df['symbol'].apply(relabel)\n",
    "\n",
    "label_df"
   ]
  },
  {
   "cell_type": "code",
   "execution_count": 111,
   "id": "ff72b9fc-b8e8-4432-91a9-04211522d078",
   "metadata": {},
   "outputs": [
    {
     "data": {
      "text/plain": [
       "GHO                      5393\n",
       "USDC                     2532\n",
       "USDT                     1168\n",
       "ETH/LSTs/LRTs             685\n",
       "DAI                       550\n",
       "BTC                       460\n",
       "Other Cryptos             449\n",
       "Providing Liquidity       406\n",
       "AAVE                      351\n",
       "Variable Debt Tokens      331\n",
       "Other Stablecoins         272\n",
       "aTokens                   268\n",
       "LINK                      173\n",
       "LUSD                       91\n",
       "GHO-Yield Aggregation      87\n",
       "Name: symbol, dtype: int64"
      ]
     },
     "execution_count": 111,
     "metadata": {},
     "output_type": "execute_result"
    }
   ],
   "source": [
    "label_df['symbol'].value_counts()"
   ]
  },
  {
   "cell_type": "code",
   "execution_count": 120,
   "id": "cc6614c1-b3a5-4d81-9315-bc360b629238",
   "metadata": {},
   "outputs": [
    {
     "name": "stderr",
     "output_type": "stream",
     "text": [
      "/tmp/ipykernel_78355/376489346.py:3: FutureWarning:\n",
      "\n",
      "Not prepending group keys to the result index of transform-like apply. In the future, the group keys will be included in the index, regardless of whether the applied function returns a like-indexed object.\n",
      "To preserve the previous behavior, use\n",
      "\n",
      "\t>>> .groupby(..., group_keys=False)\n",
      "\n",
      "To adopt the future behavior and silence this warning, use \n",
      "\n",
      "\t>>> .groupby(..., group_keys=True)\n",
      "\n"
     ]
    },
    {
     "data": {
      "text/html": [
       "<div>\n",
       "<style scoped>\n",
       "    .dataframe tbody tr th:only-of-type {\n",
       "        vertical-align: middle;\n",
       "    }\n",
       "\n",
       "    .dataframe tbody tr th {\n",
       "        vertical-align: top;\n",
       "    }\n",
       "\n",
       "    .dataframe thead th {\n",
       "        text-align: right;\n",
       "    }\n",
       "</style>\n",
       "<table border=\"1\" class=\"dataframe\">\n",
       "  <thead>\n",
       "    <tr style=\"text-align: right;\">\n",
       "      <th></th>\n",
       "      <th></th>\n",
       "      <th>count</th>\n",
       "      <th>percentage</th>\n",
       "    </tr>\n",
       "    <tr>\n",
       "      <th>destination</th>\n",
       "      <th>symbol</th>\n",
       "      <th></th>\n",
       "      <th></th>\n",
       "    </tr>\n",
       "  </thead>\n",
       "  <tbody>\n",
       "    <tr>\n",
       "      <th rowspan=\"5\" valign=\"top\">0x Exchange</th>\n",
       "      <th>AAVE</th>\n",
       "      <td>7</td>\n",
       "      <td>10.606061</td>\n",
       "    </tr>\n",
       "    <tr>\n",
       "      <th>BTC</th>\n",
       "      <td>6</td>\n",
       "      <td>9.090909</td>\n",
       "    </tr>\n",
       "    <tr>\n",
       "      <th>DAI</th>\n",
       "      <td>3</td>\n",
       "      <td>4.545455</td>\n",
       "    </tr>\n",
       "    <tr>\n",
       "      <th>ETH/LSTs/LRTs</th>\n",
       "      <td>8</td>\n",
       "      <td>12.121212</td>\n",
       "    </tr>\n",
       "    <tr>\n",
       "      <th>GHO</th>\n",
       "      <td>2</td>\n",
       "      <td>3.030303</td>\n",
       "    </tr>\n",
       "    <tr>\n",
       "      <th>...</th>\n",
       "      <th>...</th>\n",
       "      <td>...</td>\n",
       "      <td>...</td>\n",
       "    </tr>\n",
       "    <tr>\n",
       "      <th rowspan=\"5\" valign=\"top\">UniswapV3Pool</th>\n",
       "      <th>Providing Liquidity</th>\n",
       "      <td>101</td>\n",
       "      <td>5.190134</td>\n",
       "    </tr>\n",
       "    <tr>\n",
       "      <th>USDC</th>\n",
       "      <td>710</td>\n",
       "      <td>36.485098</td>\n",
       "    </tr>\n",
       "    <tr>\n",
       "      <th>USDT</th>\n",
       "      <td>312</td>\n",
       "      <td>16.032888</td>\n",
       "    </tr>\n",
       "    <tr>\n",
       "      <th>Variable Debt Tokens</th>\n",
       "      <td>5</td>\n",
       "      <td>0.256937</td>\n",
       "    </tr>\n",
       "    <tr>\n",
       "      <th>aTokens</th>\n",
       "      <td>5</td>\n",
       "      <td>0.256937</td>\n",
       "    </tr>\n",
       "  </tbody>\n",
       "</table>\n",
       "<p>136 rows × 2 columns</p>\n",
       "</div>"
      ],
      "text/plain": [
       "                                    count  percentage\n",
       "destination   symbol                                 \n",
       "0x Exchange   AAVE                      7   10.606061\n",
       "              BTC                       6    9.090909\n",
       "              DAI                       3    4.545455\n",
       "              ETH/LSTs/LRTs             8   12.121212\n",
       "              GHO                       2    3.030303\n",
       "...                                   ...         ...\n",
       "UniswapV3Pool Providing Liquidity     101    5.190134\n",
       "              USDC                    710   36.485098\n",
       "              USDT                    312   16.032888\n",
       "              Variable Debt Tokens      5    0.256937\n",
       "              aTokens                   5    0.256937\n",
       "\n",
       "[136 rows x 2 columns]"
      ]
     },
     "execution_count": 120,
     "metadata": {},
     "output_type": "execute_result"
    }
   ],
   "source": [
    "grouped = label_df[['symbol', 'destination', 'to']].groupby(['destination', 'symbol']).count()\n",
    "grouped = grouped.rename(columns={'to': 'count'})\n",
    "grouped['percentage'] = grouped.groupby(level=0).apply(lambda x: x / x.sum() * 100)\n",
    "grouped = grouped.reset_index()\n",
    "grouped = grouped.set_index(['destination', 'symbol'])\n",
    "grouped"
   ]
  },
  {
   "cell_type": "markdown",
   "id": "04d1018f-66cc-47e2-8aba-aee754573045",
   "metadata": {},
   "source": [
    "## Sankey Chart\n",
    "\n",
    "First let's reformat with a consistant format for 1st and 2nd order"
   ]
  },
  {
   "cell_type": "code",
   "execution_count": 121,
   "id": "378316a5-b7ea-4288-ab71-a364732829d1",
   "metadata": {},
   "outputs": [],
   "source": [
    "first_order = [{'from': 'Minting', 'to': k, 'amount': v} for k, v in first_order_flows.items()]"
   ]
  },
  {
   "cell_type": "code",
   "execution_count": 122,
   "id": "4c3da1cf-2e50-4a41-90a1-fd575711ac0c",
   "metadata": {},
   "outputs": [
    {
     "data": {
      "text/plain": [
       "[{'from': 'Minting', 'to': 'GhoAToken', 'amount': 1142},\n",
       " {'from': 'Minting', 'to': 'UniswapV3Pool', 'amount': 1089},\n",
       " {'from': 'Minting', 'to': 'Others', 'amount': 142},\n",
       " {'from': 'Minting', 'to': '1inch', 'amount': 542},\n",
       " {'from': 'Minting', 'to': 'GHO Staking', 'amount': 449},\n",
       " {'from': 'Minting', 'to': 'CowSwap', 'amount': 298},\n",
       " {'from': 'Minting', 'to': 'ParaSwap', 'amount': 267},\n",
       " {'from': 'Minting', 'to': 'Curve', 'amount': 147},\n",
       " {'from': 'Minting', 'to': 'Balancer', 'amount': 122},\n",
       " {'from': 'Minting', 'to': 'AirSwap', 'amount': 100},\n",
       " {'from': 'Minting', 'to': 'Maverick', 'amount': 85},\n",
       " {'from': 'Minting', 'to': 'GHO CCIP', 'amount': 58},\n",
       " {'from': 'Minting', 'to': '0x Exchange', 'amount': 53},\n",
       " {'from': 'Minting', 'to': 'Aave Collector V2', 'amount': 52},\n",
       " {'from': 'Minting', 'to': 'Odos', 'amount': 48},\n",
       " {'from': 'Minting', 'to': 'Kyber Network', 'amount': 37},\n",
       " {'from': 'Minting', 'to': 'Li.Fi', 'amount': 34},\n",
       " {'from': 'Minting', 'to': 'Gearbox', 'amount': 34},\n",
       " {'from': 'Minting', 'to': 'Sent to other EOA', 'amount': 300},\n",
       " {'from': 'Minting', 'to': 'Held in wallet', 'amount': 141}]"
      ]
     },
     "execution_count": 122,
     "metadata": {},
     "output_type": "execute_result"
    }
   ],
   "source": [
    "first_order"
   ]
  },
  {
   "cell_type": "code",
   "execution_count": 123,
   "id": "1dbefc1f-6d62-4c38-9134-ebfe044cbd62",
   "metadata": {},
   "outputs": [
    {
     "data": {
      "text/plain": [
       "[{'from': 'UniswapV3Pool', 'to': 'USDC', 'amount': 397},\n",
       " {'from': 'UniswapV3Pool', 'to': 'USDT', 'amount': 174},\n",
       " {'from': 'UniswapV3Pool', 'to': 'BTC', 'amount': 90},\n",
       " {'from': 'UniswapV3Pool', 'to': 'Other Cryptos', 'amount': 83},\n",
       " {'from': 'UniswapV3Pool', 'to': 'ETH/LSTs/LRTs', 'amount': 80},\n",
       " {'from': 'UniswapV3Pool', 'to': 'AAVE', 'amount': 69},\n",
       " {'from': 'UniswapV3Pool', 'to': 'DAI', 'amount': 63},\n",
       " {'from': 'UniswapV3Pool', 'to': 'Providing Liquidity', 'amount': 56},\n",
       " {'from': 'UniswapV3Pool', 'to': 'LINK', 'amount': 41},\n",
       " {'from': 'UniswapV3Pool', 'to': 'Other Stablecoins', 'amount': 12},\n",
       " {'from': 'UniswapV3Pool', 'to': 'GHO', 'amount': 7},\n",
       " {'from': 'UniswapV3Pool', 'to': 'LUSD', 'amount': 6},\n",
       " {'from': 'UniswapV3Pool', 'to': 'Variable Debt Tokens', 'amount': 2},\n",
       " {'from': 'UniswapV3Pool', 'to': 'aTokens', 'amount': 2},\n",
       " {'from': 'Others', 'to': 'GHO', 'amount': 85},\n",
       " {'from': 'Others', 'to': 'USDC', 'amount': 14},\n",
       " {'from': 'Others', 'to': 'Variable Debt Tokens', 'amount': 7},\n",
       " {'from': 'Others', 'to': 'ETH/LSTs/LRTs', 'amount': 6},\n",
       " {'from': 'Others', 'to': 'USDT', 'amount': 5},\n",
       " {'from': 'Others', 'to': 'DAI', 'amount': 4},\n",
       " {'from': 'Others', 'to': 'aTokens', 'amount': 4},\n",
       " {'from': 'Others', 'to': 'AAVE', 'amount': 2},\n",
       " {'from': 'Others', 'to': 'GHO-Yield Aggregation', 'amount': 2},\n",
       " {'from': 'Others', 'to': 'Other Cryptos', 'amount': 2},\n",
       " {'from': 'Others', 'to': 'Other Stablecoins', 'amount': 1},\n",
       " {'from': 'Others', 'to': 'BTC', 'amount': 1},\n",
       " {'from': 'Others', 'to': 'Providing Liquidity', 'amount': 1},\n",
       " {'from': 'Others', 'to': 'LUSD', 'amount': 0},\n",
       " {'from': 'Others', 'to': 'LINK', 'amount': 0},\n",
       " {'from': '1inch', 'to': 'USDC', 'amount': 140},\n",
       " {'from': '1inch', 'to': 'USDT', 'amount': 80},\n",
       " {'from': '1inch', 'to': 'ETH/LSTs/LRTs', 'amount': 53},\n",
       " {'from': '1inch', 'to': 'BTC', 'amount': 37},\n",
       " {'from': '1inch', 'to': 'DAI', 'amount': 35},\n",
       " {'from': '1inch', 'to': 'GHO', 'amount': 34},\n",
       " {'from': '1inch', 'to': 'Other Cryptos', 'amount': 33},\n",
       " {'from': '1inch', 'to': 'AAVE', 'amount': 26},\n",
       " {'from': '1inch', 'to': 'aTokens', 'amount': 24},\n",
       " {'from': '1inch', 'to': 'Variable Debt Tokens', 'amount': 20},\n",
       " {'from': '1inch', 'to': 'LINK', 'amount': 18},\n",
       " {'from': '1inch', 'to': 'Other Stablecoins', 'amount': 18},\n",
       " {'from': '1inch', 'to': 'LUSD', 'amount': 11},\n",
       " {'from': '1inch', 'to': 'Providing Liquidity', 'amount': 4},\n",
       " {'from': 'CowSwap', 'to': 'USDC', 'amount': 94},\n",
       " {'from': 'CowSwap', 'to': 'USDT', 'amount': 54},\n",
       " {'from': 'CowSwap', 'to': 'GHO', 'amount': 33},\n",
       " {'from': 'CowSwap', 'to': 'BTC', 'amount': 32},\n",
       " {'from': 'CowSwap', 'to': 'Other Cryptos', 'amount': 26},\n",
       " {'from': 'CowSwap', 'to': 'DAI', 'amount': 15},\n",
       " {'from': 'CowSwap', 'to': 'ETH/LSTs/LRTs', 'amount': 14},\n",
       " {'from': 'CowSwap', 'to': 'Other Stablecoins', 'amount': 9},\n",
       " {'from': 'CowSwap', 'to': 'AAVE', 'amount': 8},\n",
       " {'from': 'CowSwap', 'to': 'LINK', 'amount': 5},\n",
       " {'from': 'CowSwap', 'to': 'LUSD', 'amount': 2},\n",
       " {'from': 'CowSwap', 'to': 'aTokens', 'amount': 1},\n",
       " {'from': 'ParaSwap', 'to': 'GHO', 'amount': 173},\n",
       " {'from': 'ParaSwap', 'to': 'USDC', 'amount': 39},\n",
       " {'from': 'ParaSwap', 'to': 'USDT', 'amount': 17},\n",
       " {'from': 'ParaSwap', 'to': 'DAI', 'amount': 9},\n",
       " {'from': 'ParaSwap', 'to': 'ETH/LSTs/LRTs', 'amount': 9},\n",
       " {'from': 'ParaSwap', 'to': 'BTC', 'amount': 3},\n",
       " {'from': 'ParaSwap', 'to': 'Other Stablecoins', 'amount': 3},\n",
       " {'from': 'ParaSwap', 'to': 'Other Cryptos', 'amount': 3},\n",
       " {'from': 'ParaSwap', 'to': 'AAVE', 'amount': 3},\n",
       " {'from': 'ParaSwap', 'to': 'LINK', 'amount': 2},\n",
       " {'from': 'ParaSwap', 'to': 'LUSD', 'amount': 1},\n",
       " {'from': 'ParaSwap', 'to': 'Variable Debt Tokens', 'amount': 0},\n",
       " {'from': 'ParaSwap', 'to': 'aTokens', 'amount': 0},\n",
       " {'from': 'Curve', 'to': 'USDC', 'amount': 40},\n",
       " {'from': 'Curve', 'to': 'Other Stablecoins', 'amount': 31},\n",
       " {'from': 'Curve', 'to': 'USDT', 'amount': 31},\n",
       " {'from': 'Curve', 'to': 'Providing Liquidity', 'amount': 28},\n",
       " {'from': 'Curve', 'to': 'Other Cryptos', 'amount': 3},\n",
       " {'from': 'Curve', 'to': 'DAI', 'amount': 3},\n",
       " {'from': 'Curve', 'to': 'ETH/LSTs/LRTs', 'amount': 3},\n",
       " {'from': 'Curve', 'to': 'BTC', 'amount': 2},\n",
       " {'from': 'Curve', 'to': 'GHO', 'amount': 1},\n",
       " {'from': 'Curve', 'to': 'AAVE', 'amount': 0},\n",
       " {'from': 'Balancer', 'to': 'Providing Liquidity', 'amount': 51},\n",
       " {'from': 'Balancer', 'to': 'USDC', 'amount': 15},\n",
       " {'from': 'Balancer', 'to': 'aTokens', 'amount': 13},\n",
       " {'from': 'Balancer', 'to': 'ETH/LSTs/LRTs', 'amount': 8},\n",
       " {'from': 'Balancer', 'to': 'Other Stablecoins', 'amount': 7},\n",
       " {'from': 'Balancer', 'to': 'USDT', 'amount': 7},\n",
       " {'from': 'Balancer', 'to': 'DAI', 'amount': 6},\n",
       " {'from': 'Balancer', 'to': 'GHO', 'amount': 5},\n",
       " {'from': 'Balancer', 'to': 'BTC', 'amount': 2},\n",
       " {'from': 'Balancer', 'to': 'Variable Debt Tokens', 'amount': 2},\n",
       " {'from': 'Balancer', 'to': 'Other Cryptos', 'amount': 0},\n",
       " {'from': 'Maverick', 'to': 'USDC', 'amount': 49},\n",
       " {'from': 'Maverick', 'to': 'Providing Liquidity', 'amount': 16},\n",
       " {'from': 'Maverick', 'to': 'USDT', 'amount': 8},\n",
       " {'from': 'Maverick', 'to': 'ETH/LSTs/LRTs', 'amount': 4},\n",
       " {'from': 'Maverick', 'to': 'Other Cryptos', 'amount': 1},\n",
       " {'from': 'Maverick', 'to': 'AAVE', 'amount': 0},\n",
       " {'from': 'Maverick', 'to': 'BTC', 'amount': 0},\n",
       " {'from': 'Maverick', 'to': 'DAI', 'amount': 0},\n",
       " {'from': 'Maverick', 'to': 'GHO', 'amount': 0},\n",
       " {'from': 'Maverick', 'to': 'Other Stablecoins', 'amount': 0},\n",
       " {'from': '0x Exchange', 'to': 'USDC', 'amount': 19},\n",
       " {'from': '0x Exchange', 'to': 'ETH/LSTs/LRTs', 'amount': 6},\n",
       " {'from': '0x Exchange', 'to': 'AAVE', 'amount': 5},\n",
       " {'from': '0x Exchange', 'to': 'BTC', 'amount': 4},\n",
       " {'from': '0x Exchange', 'to': 'Other Cryptos', 'amount': 4},\n",
       " {'from': '0x Exchange', 'to': 'USDT', 'amount': 4},\n",
       " {'from': '0x Exchange', 'to': 'DAI', 'amount': 2},\n",
       " {'from': '0x Exchange', 'to': 'GHO', 'amount': 1},\n",
       " {'from': '0x Exchange', 'to': 'LUSD', 'amount': 1},\n",
       " {'from': '0x Exchange', 'to': 'LINK', 'amount': 0},\n",
       " {'from': '0x Exchange', 'to': 'Variable Debt Tokens', 'amount': 0},\n",
       " {'from': 'Odos', 'to': 'USDC', 'amount': 13},\n",
       " {'from': 'Odos', 'to': 'USDT', 'amount': 12},\n",
       " {'from': 'Odos', 'to': 'Other Stablecoins', 'amount': 10},\n",
       " {'from': 'Odos', 'to': 'AAVE', 'amount': 5},\n",
       " {'from': 'Odos', 'to': 'DAI', 'amount': 2},\n",
       " {'from': 'Odos', 'to': 'ETH/LSTs/LRTs', 'amount': 2},\n",
       " {'from': 'Odos', 'to': 'BTC', 'amount': 1},\n",
       " {'from': 'Odos', 'to': 'Other Cryptos', 'amount': 1},\n",
       " {'from': 'Kyber Network', 'to': 'USDC', 'amount': 8},\n",
       " {'from': 'Kyber Network', 'to': 'GHO', 'amount': 5},\n",
       " {'from': 'Kyber Network', 'to': 'USDT', 'amount': 5},\n",
       " {'from': 'Kyber Network', 'to': 'ETH/LSTs/LRTs', 'amount': 4},\n",
       " {'from': 'Kyber Network', 'to': 'Variable Debt Tokens', 'amount': 3},\n",
       " {'from': 'Kyber Network', 'to': 'Other Cryptos', 'amount': 3},\n",
       " {'from': 'Kyber Network', 'to': 'AAVE', 'amount': 1},\n",
       " {'from': 'Kyber Network', 'to': 'DAI', 'amount': 1},\n",
       " {'from': 'Kyber Network', 'to': 'Other Stablecoins', 'amount': 1},\n",
       " {'from': 'Kyber Network', 'to': 'aTokens', 'amount': 1},\n",
       " {'from': 'Kyber Network', 'to': 'LINK', 'amount': 0},\n",
       " {'from': 'Li.Fi', 'to': 'Other Cryptos', 'amount': 8},\n",
       " {'from': 'Li.Fi', 'to': 'USDC', 'amount': 8},\n",
       " {'from': 'Li.Fi', 'to': 'AAVE', 'amount': 7},\n",
       " {'from': 'Li.Fi', 'to': 'aTokens', 'amount': 3},\n",
       " {'from': 'Li.Fi', 'to': 'BTC', 'amount': 1},\n",
       " {'from': 'Li.Fi', 'to': 'DAI', 'amount': 1},\n",
       " {'from': 'Li.Fi', 'to': 'USDT', 'amount': 1}]"
      ]
     },
     "execution_count": 123,
     "metadata": {},
     "output_type": "execute_result"
    }
   ],
   "source": [
    "second_order = []\n",
    "for protocol, amount in first_order_flows.items():\n",
    "    if protocol not in dexes:\n",
    "        continue\n",
    "    for token in grouped.loc[protocol].sort_values('percentage', ascending=False).index:\n",
    "        second_order.append(\n",
    "            {'from': protocol,\n",
    "            'to': token,\n",
    "            'amount': int(grouped.loc[protocol,token].percentage / 100 * amount)}\n",
    "        )\n",
    "second_order"
   ]
  },
  {
   "cell_type": "code",
   "execution_count": 124,
   "id": "7bf313c9-096d-4cdc-b20d-ce387121614e",
   "metadata": {},
   "outputs": [
    {
     "data": {
      "text/html": [
       "<div>\n",
       "<style scoped>\n",
       "    .dataframe tbody tr th:only-of-type {\n",
       "        vertical-align: middle;\n",
       "    }\n",
       "\n",
       "    .dataframe tbody tr th {\n",
       "        vertical-align: top;\n",
       "    }\n",
       "\n",
       "    .dataframe thead th {\n",
       "        text-align: right;\n",
       "    }\n",
       "</style>\n",
       "<table border=\"1\" class=\"dataframe\">\n",
       "  <thead>\n",
       "    <tr style=\"text-align: right;\">\n",
       "      <th></th>\n",
       "      <th>count</th>\n",
       "      <th>percentage</th>\n",
       "    </tr>\n",
       "    <tr>\n",
       "      <th>symbol</th>\n",
       "      <th></th>\n",
       "      <th></th>\n",
       "    </tr>\n",
       "  </thead>\n",
       "  <tbody>\n",
       "    <tr>\n",
       "      <th>USDC</th>\n",
       "      <td>710</td>\n",
       "      <td>36.485098</td>\n",
       "    </tr>\n",
       "    <tr>\n",
       "      <th>USDT</th>\n",
       "      <td>312</td>\n",
       "      <td>16.032888</td>\n",
       "    </tr>\n",
       "    <tr>\n",
       "      <th>BTC</th>\n",
       "      <td>161</td>\n",
       "      <td>8.273381</td>\n",
       "    </tr>\n",
       "    <tr>\n",
       "      <th>Other Cryptos</th>\n",
       "      <td>149</td>\n",
       "      <td>7.656732</td>\n",
       "    </tr>\n",
       "    <tr>\n",
       "      <th>ETH/LSTs/LRTs</th>\n",
       "      <td>143</td>\n",
       "      <td>7.348407</td>\n",
       "    </tr>\n",
       "    <tr>\n",
       "      <th>AAVE</th>\n",
       "      <td>124</td>\n",
       "      <td>6.372045</td>\n",
       "    </tr>\n",
       "    <tr>\n",
       "      <th>DAI</th>\n",
       "      <td>113</td>\n",
       "      <td>5.806783</td>\n",
       "    </tr>\n",
       "    <tr>\n",
       "      <th>Providing Liquidity</th>\n",
       "      <td>101</td>\n",
       "      <td>5.190134</td>\n",
       "    </tr>\n",
       "    <tr>\n",
       "      <th>LINK</th>\n",
       "      <td>74</td>\n",
       "      <td>3.802672</td>\n",
       "    </tr>\n",
       "    <tr>\n",
       "      <th>Other Stablecoins</th>\n",
       "      <td>23</td>\n",
       "      <td>1.181912</td>\n",
       "    </tr>\n",
       "    <tr>\n",
       "      <th>GHO</th>\n",
       "      <td>14</td>\n",
       "      <td>0.719424</td>\n",
       "    </tr>\n",
       "    <tr>\n",
       "      <th>LUSD</th>\n",
       "      <td>12</td>\n",
       "      <td>0.616650</td>\n",
       "    </tr>\n",
       "    <tr>\n",
       "      <th>Variable Debt Tokens</th>\n",
       "      <td>5</td>\n",
       "      <td>0.256937</td>\n",
       "    </tr>\n",
       "    <tr>\n",
       "      <th>aTokens</th>\n",
       "      <td>5</td>\n",
       "      <td>0.256937</td>\n",
       "    </tr>\n",
       "  </tbody>\n",
       "</table>\n",
       "</div>"
      ],
      "text/plain": [
       "                      count  percentage\n",
       "symbol                                 \n",
       "USDC                    710   36.485098\n",
       "USDT                    312   16.032888\n",
       "BTC                     161    8.273381\n",
       "Other Cryptos           149    7.656732\n",
       "ETH/LSTs/LRTs           143    7.348407\n",
       "AAVE                    124    6.372045\n",
       "DAI                     113    5.806783\n",
       "Providing Liquidity     101    5.190134\n",
       "LINK                     74    3.802672\n",
       "Other Stablecoins        23    1.181912\n",
       "GHO                      14    0.719424\n",
       "LUSD                     12    0.616650\n",
       "Variable Debt Tokens      5    0.256937\n",
       "aTokens                   5    0.256937"
      ]
     },
     "execution_count": 124,
     "metadata": {},
     "output_type": "execute_result"
    }
   ],
   "source": [
    "label_df.drop_duplicates(['from', 'to'])['symbol'].value_counts().to_list()\n",
    "grouped.loc['UniswapV3Pool'].sort_values('percentage', ascending=False)"
   ]
  },
  {
   "cell_type": "code",
   "execution_count": 125,
   "id": "83e2e5b6-6a01-456e-9aed-71d98c256d33",
   "metadata": {},
   "outputs": [],
   "source": [
    "import json\n",
    "\n",
    "with open('first_order.json', 'w') as f:\n",
    "    json.dump(sorted(first_order, key=lambda x: x['amount'], reverse=True), f, indent=2)\n",
    "\n",
    "with open('second_order.json', 'w') as f:\n",
    "    json.dump(second_order, f, indent=2)"
   ]
  },
  {
   "cell_type": "code",
   "execution_count": 39,
   "id": "09541ca5-5c6d-42fd-9e38-b90d7734e38d",
   "metadata": {},
   "outputs": [],
   "source": [
    "with open('first_order.json', 'r') as f:\n",
    "    first_order = json.load(f)\n",
    "\n",
    "with open('second_order.json', 'r') as f:\n",
    "    second_order = json.load(f)"
   ]
  },
  {
   "cell_type": "code",
   "execution_count": 47,
   "id": "8c8a9356-4cc1-4470-b5c5-753e7aefb11a",
   "metadata": {},
   "outputs": [
    {
     "data": {
      "text/html": [
       "\n",
       "        <iframe\n",
       "            width=\"900\"\n",
       "            height=\"600\"\n",
       "            src=\"sankey_plot.html\"\n",
       "            frameborder=\"0\"\n",
       "            allowfullscreen\n",
       "            \n",
       "        ></iframe>\n",
       "        "
      ],
      "text/plain": [
       "<IPython.lib.display.IFrame at 0x739904380550>"
      ]
     },
     "execution_count": 47,
     "metadata": {},
     "output_type": "execute_result"
    }
   ],
   "source": [
    "import plotly.graph_objects as go\n",
    "import pandas as pd\n",
    "\n",
    "def create_sankey(first_order, second_order):\n",
    "    nodes = {}\n",
    "    links = []\n",
    "    \n",
    "    def add_node(name):\n",
    "        if name not in nodes:\n",
    "            nodes[name] = len(nodes)\n",
    "        return nodes[name]\n",
    "    \n",
    "    for item in first_order:\n",
    "        source = add_node(item['from'])\n",
    "        target = add_node(item['to'])\n",
    "        links.append((source, target, item['amount']))\n",
    "    \n",
    "    for item in second_order:\n",
    "        source = add_node(item['from'])\n",
    "        target = add_node(item['to'])\n",
    "        links.append((source, target, item['amount']))\n",
    "    \n",
    "    node_list = sorted(nodes.items(), key=lambda x: x[1])\n",
    "    node_names = [name for name, _ in node_list]\n",
    "    \n",
    "    link_sources, link_targets, link_values = zip(*links)\n",
    "    \n",
    "    sankey = go.Sankey(\n",
    "        node=dict(\n",
    "            pad=15,\n",
    "            thickness=20,\n",
    "            line=dict(color=\"black\", width=0.5),\n",
    "            label=node_names,\n",
    "            color=\"blue\"\n",
    "        ),\n",
    "        link=dict(\n",
    "            source=link_sources,\n",
    "            target=link_targets,\n",
    "            value=link_values\n",
    "        )\n",
    "    )\n",
    "    \n",
    "    layout = go.Layout(\n",
    "        title_text=\"Stablecoin Flow Sankey Diagram\",\n",
    "        font_size=10\n",
    "    )\n",
    "    \n",
    "    fig = go.Figure(data=[sankey], layout=layout)\n",
    "    return fig\n",
    "\n",
    "sankey_fig = create_sankey(first_order, second_order)\n",
    "\n",
    "sankey_fig.write_html(\"sankey_plot.html\")\n",
    "from IPython.display import IFrame\n",
    "IFrame(src=\"sankey_plot.html\", width=900, height=600)"
   ]
  },
  {
   "cell_type": "code",
   "execution_count": 48,
   "id": "5e30e6fd-603c-41c9-98df-b5da5471aa99",
   "metadata": {},
   "outputs": [
    {
     "data": {
      "text/html": [
       "\n",
       "        <iframe\n",
       "            width=\"900\"\n",
       "            height=\"600\"\n",
       "            src=\"sankey_plot.html\"\n",
       "            frameborder=\"0\"\n",
       "            allowfullscreen\n",
       "            \n",
       "        ></iframe>\n",
       "        "
      ],
      "text/plain": [
       "<IPython.lib.display.IFrame at 0x7399045d2b30>"
      ]
     },
     "execution_count": 48,
     "metadata": {},
     "output_type": "execute_result"
    }
   ],
   "source": [
    "import plotly.graph_objects as go\n",
    "\n",
    "def create_sankey(first_order, second_order):\n",
    "    nodes = {}\n",
    "    links = []\n",
    "    \n",
    "    def add_node(name):\n",
    "        if name not in nodes:\n",
    "            nodes[name] = len(nodes)\n",
    "        return nodes[name]\n",
    "    \n",
    "    for item in first_order:\n",
    "        source = add_node(item['from'])\n",
    "        target = add_node(item['to'])\n",
    "        links.append((source, target, item['amount']))\n",
    "    \n",
    "    for item in second_order:\n",
    "        source = add_node(item['from'])\n",
    "        target = add_node(item['to'])\n",
    "        links.append((source, target, item['amount']))\n",
    "    \n",
    "    node_list = sorted(nodes.items(), key=lambda x: x[1])\n",
    "    node_names = [name for name, _ in node_list]\n",
    "    \n",
    "    link_sources, link_targets, link_values = zip(*links)\n",
    "    \n",
    "    sankey = go.Sankey(\n",
    "        arrangement='snap',\n",
    "        node=dict(\n",
    "            pad=15,\n",
    "            thickness=20,\n",
    "            line=dict(color=\"black\", width=0.5),\n",
    "            label=node_names,\n",
    "            color=\"blue\",\n",
    "            align='left'\n",
    "        ),\n",
    "        link=dict(\n",
    "            source=link_sources,\n",
    "            target=link_targets,\n",
    "            value=link_values,\n",
    "            arrowlen=15\n",
    "        )\n",
    "    )\n",
    "    \n",
    "    layout = go.Layout(\n",
    "        title_text=\"Stablecoin Flow Sankey Diagram\",\n",
    "        font_size=10\n",
    "    )\n",
    "    \n",
    "    fig = go.Figure(data=[sankey], layout=layout)\n",
    "    return fig\n",
    "\n",
    "sankey_fig = create_sankey(first_order, second_order)\n",
    "\n",
    "sankey_fig.write_html(\"sankey_plot.html\")\n",
    "from IPython.display import IFrame\n",
    "IFrame(src=\"sankey_plot.html\", width=900, height=600)"
   ]
  }
 ],
 "metadata": {
  "kernelspec": {
   "display_name": "Python (boaenv)",
   "language": "python",
   "name": "boaenv"
  },
  "language_info": {
   "codemirror_mode": {
    "name": "ipython",
    "version": 3
   },
   "file_extension": ".py",
   "mimetype": "text/x-python",
   "name": "python",
   "nbconvert_exporter": "python",
   "pygments_lexer": "ipython3",
   "version": "3.10.13"
  }
 },
 "nbformat": 4,
 "nbformat_minor": 5
}
